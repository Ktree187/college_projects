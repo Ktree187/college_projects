{
  "metadata": {
    "language_info": {
      "codemirror_mode": {
        "name": "python",
        "version": 3
      },
      "file_extension": ".py",
      "mimetype": "text/x-python",
      "name": "python",
      "nbconvert_exporter": "python",
      "pygments_lexer": "ipython3",
      "version": "3.8"
    },
    "kernelspec": {
      "name": "python",
      "display_name": "Python (Pyodide)",
      "language": "python"
    }
  },
  "nbformat_minor": 4,
  "nbformat": 4,
  "cells": [
    {
      "cell_type": "markdown",
      "source": "<em>**A Dictionary in a Dictionary**</em>\n\nYou can nest a dictionary inside another dictionary, but your code can get complicated quickly when you do. For example, if you have several users for a website, each with a unique username, you can use the usernames as the keys in a dictionary. You can then store information about each user by using a dicitonary as the value associated with their username. In the following listing, we store three pieces of information about each user: their first name, last name, and location. We'll access this information by looping through the usernames and the dictionary of information associated with each user:",
      "metadata": {}
    },
    {
      "cell_type": "code",
      "source": "users = {\n    'aeinstein': {\n        'first': 'albert',\n        'last': 'einstein',\n        'location': 'princeton',\n        },\n    'mcurie': {\n        'first': 'marie',\n        'last': 'einstein',\n        'location': 'princeton',\n        },\n    }\n\nfor username, user_info in users.items():\n    print(\"\\nUsername: \" + username)\n    full_name = user_info['first'] + \" \" + user_info['last']\n    location = user_info['location']\n    \n    print(\"\\nUsername: \" + full_name.title())\n    print(\"\\tLocation: \" + location.title())",
      "metadata": {
        "trusted": true
      },
      "execution_count": 6,
      "outputs": [
        {
          "name": "stdout",
          "text": "\nUsername: aeinstein\n\nUsername: Albert Einstein\n\tLocation: Princeton\n\nUsername: mcurie\n\nUsername: Marie Einstein\n\tLocation: Princeton\n",
          "output_type": "stream"
        }
      ]
    },
    {
      "cell_type": "markdown",
      "source": "We first define a dictionary called users with two keys: one each for the usernames 'aeinstein' and 'mcurie'. The value associated with each key is a dictionary that includes each user's first name, last name, and location. At first we loop through the users dictionary. Python stores each key in the variable username, and the dictionary associated with each username goes into the variable user_info. Once inside the main dictionary loop, we print the username. \n\nThen we start accessing the inner dictionary. The variable user_info, which contains the dictionary of user information, has three keys: 'first', 'last', and 'location'. We use each key to generate a neatly formatted full name and location for each person, and then print a summary of what we know about each user.\n\nNote that the structure of each user's dictionary is identical. Although not required by Python, this structure makes nested dictionaries easier to work with. If each user's dictionary had different keys, the code inside the for loop would be more complicated.",
      "metadata": {}
    },
    {
      "cell_type": "code",
      "source": "",
      "metadata": {},
      "execution_count": null,
      "outputs": []
    }
  ]
}