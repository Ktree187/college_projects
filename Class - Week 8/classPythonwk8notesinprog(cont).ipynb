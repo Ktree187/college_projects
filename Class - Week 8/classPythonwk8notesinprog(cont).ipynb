{
  "metadata": {
    "language_info": {
      "codemirror_mode": {
        "name": "python",
        "version": 3
      },
      "file_extension": ".py",
      "mimetype": "text/x-python",
      "name": "python",
      "nbconvert_exporter": "python",
      "pygments_lexer": "ipython3",
      "version": "3.8"
    },
    "kernelspec": {
      "name": "python",
      "display_name": "Python (Pyodide)",
      "language": "python"
    }
  },
  "nbformat_minor": 4,
  "nbformat": 4,
  "cells": [
    {
      "cell_type": "markdown",
      "source": "6-1. Person: Use a dictionary to store information about a person you know. Store their first name, last name, age, and the city in which they live. You should have keys such as first_name, last_name, age, and city. Print each piece of information stored in your dictionary.",
      "metadata": {}
    },
    {
      "cell_type": "code",
      "source": "# 6-1.\nperson = {\n    'first_name': 'Jim',\n    'last_name': 'Raynor',\n    'age': '52',\n    'city': 'Seattle',\n    }\n\nprint(f\"Name: \" + str({person['first_name']}) + \".\")\nprint(person['last_name'])\nprint(person['age'])\nprint(person['city'])\n",
      "metadata": {
        "trusted": true
      },
      "execution_count": 35,
      "outputs": [
        {
          "name": "stdout",
          "text": "Name: {'Jim'}.\nRaynor\n52\nSeattle\n",
          "output_type": "stream"
        }
      ]
    },
    {
      "cell_type": "markdown",
      "source": "6-2. Favorite Numbers: Use a dictionary to store people's favorite numbers. Think of five names, and use them as keys in your dictionary. Think of a favorite number for each person, and store each as a value in your dictionary. Print each person's name and their favorite number. For even more fun, poll a few friends and get some actual data for your program.",
      "metadata": {}
    },
    {
      "cell_type": "code",
      "source": "# 6-2.\nfavorite_numbers = {\n    'jim': '42',\n    'sarah': '24',\n    'pheonix': '13',\n    'jewels': '13',\n    'mark': '7',\n    }\n\n\n# The .item() method is used to retrieve a list key-value pairs.\n# This is useful when you want to iterate over both the keys and values in a dictionary simultaenously.\nfor name, number in favorite_numbers.items():\n    print(f\"{name.title()}'s favorite number is {number}.\")\n    ",
      "metadata": {
        "trusted": true
      },
      "execution_count": 26,
      "outputs": [
        {
          "name": "stdout",
          "text": "Jim's favorite number is 42.\nSarah's favorite number is 24.\nPheonix's favorite number is 13.\nJewels's favorite number is 13.\nMark's favorite number is 7.\n",
          "output_type": "stream"
        }
      ]
    },
    {
      "cell_type": "markdown",
      "source": "6-3. Glossary: A Python dictionary can be used to model an actual dictionar. However, to avoid confusion, let's call it a glossary.\n\n- Think of five programming words you've learned about in the previous chapters. Use these words as the keys in your glossary, and store their meaning as values.\n\n- Print each word and its meaning as neatly formatted output. You might print the word followed by a colon and then its meaning, or print the word on one line and then print its meaning indented on a second line.",
      "metadata": {}
    },
    {
      "cell_type": "code",
      "source": "# 6-3.\nprogramming_words = {\n    'string': 'A string is a series of characters.',\n    'list': 'A list is an ordered collection of items',\n    'whitespace': 'Whitespace refers to any nonprinting character, such as spaces, tabs, and end-f-line symbols.',\n    'dictionary': 'A dictionary is an unordered collection of key-value pairs.',\n    'index': 'The position of an item or element in a list.',\n    }\n\nfor word, definition in programming_words.items():\n    print(f\"{word}: {definition}\")",
      "metadata": {
        "trusted": true
      },
      "execution_count": 40,
      "outputs": [
        {
          "name": "stdout",
          "text": "string: A string is a series of characters.\nlist: A list is an ordered collection of items\nwhitespace: Whitespace refers to any nonprinting character, such as spaces, tabs, and end-f-line symbols.\ndictionary: A dictionary is an unordered collection of key-value pairs.\nindex: The position of an item or element in a list.\n",
          "output_type": "stream"
        }
      ]
    },
    {
      "cell_type": "markdown",
      "source": "6-4. Glossary 2: Now that you know how to loop through a dictionary, clean up the code from exercise 6-3 (page 102) by replacing your series of print statements with a loop that runs through the dictionary's keys and values. When you're sure that your loop works, add five more Python terms to your glossary. When you run your program again, these new words and meanings should automatically be included in the output.",
      "metadata": {}
    },
    {
      "cell_type": "code",
      "source": "# 6-4.\n\nprogramming_words = {\n    'string': 'A string is a series of characters.',\n    'list': 'A list is an ordered collection of items',\n    'whitespace': 'Whitespace refers to any nonprinting character, such as spaces, tabs, and end-f-line symbols.',\n    'dictionary': 'A dictionary is an unordered collection of key-value pairs.',\n    'index': 'The position of an item or element in a list.',\n    'index error': 'An index error in Python that is raised when you attempt to access an element in a sequence using an index that is outside the valid range of indices for that sequence.',\n    'type error': 'A type error in Python that occurs when an operation or function is applied to an object of an inappropriate data type.',\n    'syntax error': 'A syntax error in Python is an error that occurs when the code violates the rules of the Python programing langauge, often due to incorrect syntax or grammar, preventing the program from being parsed or executed',\n    'debugging': 'Debugging is the process of identifying and fixing errors, defects, in computer programs, software and harware systems.',\n    'loop': 'A loop in programming is a control structure that allows a set of instructions to be executed repeatedly, either for a specificed number of iterations or until a specific condition is met.',\n    }\n\n# I already used a loop for 6-3. So I just added sorted() to display the list alphabetically.\n \nfor word, definition in sorted(programming_words.items()):\n    print(f\"{word}: {definition}\")",
      "metadata": {
        "trusted": true
      },
      "execution_count": 50,
      "outputs": [
        {
          "name": "stdout",
          "text": "debugging: Debugging is the process of identifying and fixing errors, defects, in computer programs, software and harware systems.\ndictionary: A dictionary is an unordered collection of key-value pairs.\nindex: The position of an item or element in a list.\nindex error: An index error in Python that is raised when you attempt to access an element in a sequence using an index that is outside the valid range of indices for that sequence.\nlist: A list is an ordered collection of items\nloop: A loop in programming is a control structure that allows a set of instructions to be executed repeatedly, either for a specificed number of iterations or until a specific condition is met.\nstring: A string is a series of characters.\nsyntax error: A syntax error in Python is an error that occurs when the code violates the rules of the Python programing langauge, often due to incorrect syntax or grammar, preventing the program from being parsed or executed\ntype error: A type error in Python that occurs when an operation or function is applied to an object of an inappropriate data type.\nwhitespace: Whitespace refers to any nonprinting character, such as spaces, tabs, and end-f-line symbols.\n",
          "output_type": "stream"
        }
      ]
    },
    {
      "cell_type": "markdown",
      "source": "6-5. Rivers: Make a dictionary containing three major rivers and the country each river runs through. One key-value pair might be 'nile': 'egypt'.\n- Use a loop to print a sentence about each river, such as The Nile runs through Egypt.\n- Use a loop to pritn the name of each river included in the dictionary.\n- Use a loop to print the name of each country included in the dictionary.",
      "metadata": {}
    },
    {
      "cell_type": "code",
      "source": "# 6-5. Looping through dictionaries, major rivers exercise.\n\nmajor_rivers = {\n    'mississippi river': 'usa',\n    'glomma river': 'norway',\n    'kemijoki river': 'finland',\n    }\n\n# loop 1, print a sentence about each river.\nfor river, country in major_rivers.items():\n    print(f\"The {river.title()} runs through {country.title()}\")\n\n# loop 2, print the name of each river included in the dictionary.\nfor river in major_rivers.keys():\n    print(f\"River name: {river.title()}\")\n    \n# Loop 3, print the name of each country included in the dictionary.\nfor country in major_rivers.values():\n    if country == 'usa':\n        print(f\"Coutnry name: {country.upper()}\")\n    else: \n        print(f\"Country name: {country.title()}\")\n\n",
      "metadata": {
        "trusted": true
      },
      "execution_count": 74,
      "outputs": [
        {
          "name": "stdout",
          "text": "The Mississippi River runs through Usa\nThe Glomma River runs through Norway\nThe Kemijoki River runs through Finland\nRiver name: Mississippi River\nRiver name: Glomma River\nRiver name: Kemijoki River\nCoutnry name: USA\nCountry name: Norway\nCountry name: Finland\n",
          "output_type": "stream"
        }
      ]
    },
    {
      "cell_type": "markdown",
      "source": "6-6. Polling: Use the code in favorite_languages.py (page 104).\n- Make a list of people who should take the favorite languages poll. Include some names that are already in the dictionary and some that are not.\n- Loop through the list of people who should take the poll. If they have already taken the poll, print a message thanking them for responding. If they have not yet taken the poll, print a message inviting them to take the poll.",
      "metadata": {}
    },
    {
      "cell_type": "code",
      "source": "# 6-6.\n\nfavorite_languages = {\n    'jen': 'python',\n    'sarah': 'c',\n    'edward': 'ruby',\n    'phil': 'python',\n     }\n\nfriends = ['phil', 'sarah', 'jim', 'kerrigan','jen', 'edward']\n\nfor name in friends:\n    if name in favorite_languages.keys():\n        print(\" Hi \" + name.title() +\n              \", thank you for taking the poll!\")\n    elif name not in favorite_languages.keys():\n        print(\" Hi \" + name.title() +\n                \", I would like to invite you to participate in my poll!\")",
      "metadata": {
        "trusted": true
      },
      "execution_count": 93,
      "outputs": [
        {
          "name": "stdout",
          "text": " Hi Phil, thank you for taking the poll!\n Hi Sarah, thank you for taking the poll!\n Hi Jim, I would like to invite you to participate in my poll!\n Hi Kerrigan, I would like to invite you to participate in my poll!\n Hi Jen, thank you for taking the poll!\n Hi Edward, thank you for taking the poll!\n",
          "output_type": "stream"
        }
      ]
    },
    {
      "cell_type": "code",
      "source": "",
      "metadata": {},
      "execution_count": null,
      "outputs": []
    }
  ]
}