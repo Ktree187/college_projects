{
  "metadata": {
    "language_info": {
      "codemirror_mode": {
        "name": "python",
        "version": 3
      },
      "file_extension": ".py",
      "mimetype": "text/x-python",
      "name": "python",
      "nbconvert_exporter": "python",
      "pygments_lexer": "ipython3",
      "version": "3.8"
    },
    "kernelspec": {
      "name": "python",
      "display_name": "Python (Pyodide)",
      "language": "python"
    }
  },
  "nbformat_minor": 4,
  "nbformat": 4,
  "cells": [
    {
      "cell_type": "markdown",
      "source": "Python's dictionaries allow you to connect pieces of related information. You'll learn how to acess the information once it's in a dictionary and how to modify that information.\n\nA <em>dictionary</em> in Python is a collection of <em>key-value</em> pairs. Each <em>key</em> is connected to a value, and you can use a key to access the value associated with that key. A key's value can be a number, a string, a list, or even another dictionary.\nIn fact, you can use any object that you can create in Python as a value in a dictionary. \n\nIn python, a dictionary is wrapped in braces, {}, with a series of key-value pairs inside the braces.",
      "metadata": {}
    },
    {
      "cell_type": "code",
      "source": "alien_0 = {'color': 'green', 'points': 5}\n\nprint(alien_0['color'])\nprint(alien_0['points'])",
      "metadata": {
        "trusted": true
      },
      "execution_count": 9,
      "outputs": [
        {
          "name": "stdout",
          "text": "green\n5\n",
          "output_type": "stream"
        }
      ]
    },
    {
      "cell_type": "markdown",
      "source": "A <em>key-value pair</em> is a set of values associated with each other. When you provide a key, Python returns the value associated with that key. Every key is connected to its value by a colon, and individual key-value pairs are separated by commas. You can store as many key-value pairs as you want in a dictionary.\n\nThe simplest dictionary has exactly one key-value pair, as shown in this modified version of the alien_0 dictionary:\n\naline_0 = {'color': 'green'}\n\nThis dictionary stores one piece of information about alien_0, namely the alien's color. The string 'color' is a key in this dictionary, and its associated value is 'green'.",
      "metadata": {}
    },
    {
      "cell_type": "markdown",
      "source": "<em>***Accessing Values in a Dictionary***</em>\n\nTo get the value associated with a key, give the name of the dictionary and then place the key inside a set of square brackets, as shown here:\n\n",
      "metadata": {}
    },
    {
      "cell_type": "code",
      "source": "alien_0 = {'color': 'green'} \nprint(alien_0['color'])",
      "metadata": {
        "trusted": true
      },
      "execution_count": 12,
      "outputs": [
        {
          "name": "stdout",
          "text": "green\n",
          "output_type": "stream"
        }
      ]
    },
    {
      "cell_type": "markdown",
      "source": "This returns the value associated with the key 'color' from the dictionary alien_0.\n\nYou can have an unlimited number of key-value pairs in a dictionary.",
      "metadata": {}
    },
    {
      "cell_type": "code",
      "source": "# alien_0 with two key-value pairs.\nalien_0 = {'color': 'green', 'points': 5}",
      "metadata": {
        "trusted": true
      },
      "execution_count": 13,
      "outputs": []
    },
    {
      "cell_type": "markdown",
      "source": "Now you can access either the color or the point value of alien_0. If a player shoots down this alien, you can look up how many points they should earn using code like this:",
      "metadata": {}
    },
    {
      "cell_type": "code",
      "source": "new_points = alien_0['points']\nprint(\"You just earned \" + str(new_points) + \" points!\")",
      "metadata": {
        "trusted": true
      },
      "execution_count": 18,
      "outputs": [
        {
          "name": "stdout",
          "text": "You just earned 5 points!\n",
          "output_type": "stream"
        }
      ]
    },
    {
      "cell_type": "markdown",
      "source": "Once the dictionary has been define, the code pulls the value associated with the key 'points' from the dictionary. This value is then stored in the variable new_points. Line 2 in the above code converts this integer to a string and prints a statement about how many points the player just earned.\n\nIf you run this code every time an alien is shot down, the alien's point value will be retrieved.\n",
      "metadata": {}
    },
    {
      "cell_type": "markdown",
      "source": "<em>**Adding New Key-Value Pairs</em>\n\nDictionaries are dynamic structures, and you can add new key-value pairs to a dictionary at any time. For example, to add a new key-value pair, you would give the name of the dictionary followed by the new key in the square brackets along with the new value.\n\n",
      "metadata": {}
    },
    {
      "cell_type": "code",
      "source": "",
      "metadata": {},
      "execution_count": null,
      "outputs": []
    }
  ]
}