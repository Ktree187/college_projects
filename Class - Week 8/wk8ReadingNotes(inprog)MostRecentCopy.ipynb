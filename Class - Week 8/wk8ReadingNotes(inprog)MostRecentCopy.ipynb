{
  "metadata": {
    "language_info": {
      "codemirror_mode": {
        "name": "python",
        "version": 3
      },
      "file_extension": ".py",
      "mimetype": "text/x-python",
      "name": "python",
      "nbconvert_exporter": "python",
      "pygments_lexer": "ipython3",
      "version": "3.8"
    },
    "kernelspec": {
      "name": "python",
      "display_name": "Python (Pyodide)",
      "language": "python"
    }
  },
  "nbformat_minor": 4,
  "nbformat": 4,
  "cells": [
    {
      "cell_type": "markdown",
      "source": "Python's dictionaries allow you to connect pieces of related information. You'll learn how to acess the information once it's in a dictionary and how to modify that information.\n\nA <em>dictionary</em> in Python is a collection of <em>key-value</em> pairs. Each <em>key</em> is connected to a value, and you can use a key to access the value associated with that key. A key's value can be a number, a string, a list, or even another dictionary.\nIn fact, you can use any object that you can create in Python as a value in a dictionary. \n\nIn python, a dictionary is wrapped in braces, {}, with a series of key-value pairs inside the braces.",
      "metadata": {}
    },
    {
      "cell_type": "code",
      "source": "alien_0 = {'color': 'green', 'points': 5}\n\nprint(alien_0['color'])\nprint(alien_0['points'])",
      "metadata": {
        "trusted": true
      },
      "execution_count": 9,
      "outputs": [
        {
          "name": "stdout",
          "text": "green\n5\n",
          "output_type": "stream"
        }
      ]
    },
    {
      "cell_type": "markdown",
      "source": "A <em>key-value pair</em> is a set of values associated with each other. When you provide a key, Python returns the value associated with that key. Every key is connected to its value by a colon, and individual key-value pairs are separated by commas. You can store as many key-value pairs as you want in a dictionary.\n\nThe simplest dictionary has exactly one key-value pair, as shown in this modified version of the alien_0 dictionary:\n\naline_0 = {'color': 'green'}\n\nThis dictionary stores one piece of information about alien_0, namely the alien's color. The string 'color' is a key in this dictionary, and its associated value is 'green'.",
      "metadata": {}
    },
    {
      "cell_type": "markdown",
      "source": "<em>***Accessing Values in a Dictionary***</em>\n\nTo get the value associated with a key, give the name of the dictionary and then place the key inside a set of square brackets, as shown here:\n\n",
      "metadata": {}
    },
    {
      "cell_type": "code",
      "source": "alien_0 = {'color': 'green'} \nprint(alien_0['color'])",
      "metadata": {
        "trusted": true
      },
      "execution_count": 12,
      "outputs": [
        {
          "name": "stdout",
          "text": "green\n",
          "output_type": "stream"
        }
      ]
    },
    {
      "cell_type": "markdown",
      "source": "This returns the value associated with the key 'color' from the dictionary alien_0.\n\nYou can have an unlimited number of key-value pairs in a dictionary.",
      "metadata": {}
    },
    {
      "cell_type": "code",
      "source": "# alien_0 with two key-value pairs.\nalien_0 = {'color': 'green', 'points': 5}",
      "metadata": {
        "trusted": true
      },
      "execution_count": 13,
      "outputs": []
    },
    {
      "cell_type": "markdown",
      "source": "Now you can access either the color or the point value of alien_0. If a player shoots down this alien, you can look up how many points they should earn using code like this:",
      "metadata": {}
    },
    {
      "cell_type": "code",
      "source": "new_points = alien_0['points']\nprint(\"You just earned \" + str(new_points) + \" points!\")",
      "metadata": {
        "trusted": true
      },
      "execution_count": 18,
      "outputs": [
        {
          "name": "stdout",
          "text": "You just earned 5 points!\n",
          "output_type": "stream"
        }
      ]
    },
    {
      "cell_type": "markdown",
      "source": "Once the dictionary has been define, the code pulls the value associated with the key 'points' from the dictionary. This value is then stored in the variable new_points. Line 2 in the above code converts this integer to a string and prints a statement about how many points the player just earned.\n\nIf you run this code every time an alien is shot down, the alien's point value will be retrieved.\n",
      "metadata": {}
    },
    {
      "cell_type": "markdown",
      "source": "<em>**Adding New Key-Value Pairs**</em>\n\nDictionaries are dynamic structures, and you can add new key-value pairs to a dictionary at any time. For example, to add a new key-value pair, you would give the name of the dictionary followed by the new key in the square brackets along with the new value.\n\n",
      "metadata": {}
    },
    {
      "cell_type": "markdown",
      "source": "Let's add two new pieces of information to the alien_o dictionary: the alien's x- and y- coordinates, which will help us display the alien in a particular position on the screen. Let's place the alien on the left edge of the screen, 25 pixels down from the top. Because screen coordinates usually start at the upper-left corner of the screen, we'll place the alien on the left edge of the screen by setting the x coordinate to 0 and 25 pixels from the top by setting its y-coordinates to positive 25.\n\n",
      "metadata": {}
    },
    {
      "cell_type": "code",
      "source": "alien_0 = {'color': 'green', 'points': 5}\nprint(alien_0)\n\nalien_0['x position'] = 0\nalien_0['y position'] = 25\nprint(alien_0)\n",
      "metadata": {
        "trusted": true
      },
      "execution_count": 1,
      "outputs": [
        {
          "name": "stdout",
          "text": "{'color': 'green', 'points': 5}\n{'color': 'green', 'points': 5, 'x position': 0, 'y position': 25}\n",
          "output_type": "stream"
        }
      ]
    },
    {
      "cell_type": "markdown",
      "source": "The final version of the dictionary contains four key-value pairs. The original two specify color and point value, and two more specify the alien's position. Notice that the order of the key-value pairs does not match the order in which we added them. Python doesn't care about the order in which you store each key-value pair; it cares only about the connection between each key and its value.",
      "metadata": {}
    },
    {
      "cell_type": "markdown",
      "source": "<em>**Starting with an Empty Dictionary**</em>\n\nIt's sometimes convenient, or even necessary, to start with an empty dictionary and then add each new item to it. To start filling an empty dictionary, define a dictionary with an empty set of braces and then add each key-value pair on its own line. For example, here's how to build the alien_0 dictionary using this approach.\n",
      "metadata": {}
    },
    {
      "cell_type": "code",
      "source": "# Creates an empty dictionary \"alien_0\"\n# Then fills the empty dictionary with new key-value pairs\n\nalien_0 = {}\n\nalien_0['color'] = 'green'\nalien_0['points'] = 5\n\nprint(alien_0)",
      "metadata": {
        "trusted": true
      },
      "execution_count": 4,
      "outputs": [
        {
          "name": "stdout",
          "text": "{'color': 'green', 'points': 5}\n",
          "output_type": "stream"
        }
      ]
    },
    {
      "cell_type": "markdown",
      "source": "In the above code we define an empty alien_0 dictionary, and then add color and point values to ti. The result is the dictionary we've been using in previous example.\n\n{'color': 'green', 'points': 5}\n\nTypically, you'll use empty dictionaries when storing user-supplied data in a dictionary or when you wrtie code that generates a large number of key-value pairs automatically.",
      "metadata": {}
    },
    {
      "cell_type": "markdown",
      "source": "<em>**Modifying Values in a Dictionary**</em>\n\nTo modify a value in a dictionary, give the name of the dictionary with the key in square brackets and then the new value you want associated with that key. For example, consider an alien that changes from green to yellow as a game progresses:",
      "metadata": {}
    },
    {
      "cell_type": "code",
      "source": "alien_0 = {'color': 'green'}\nprint(\"The alien is \" + alien_0['color'] + \".\")\n\nalien_0['color'] = 'yellow'\nprint(\"The alien is now \" + alien_0['color'] + \".\")",
      "metadata": {
        "trusted": true
      },
      "execution_count": 9,
      "outputs": [
        {
          "name": "stdout",
          "text": "The alien is green.\nThe alien is now yellow.\n",
          "output_type": "stream"
        }
      ]
    },
    {
      "cell_type": "markdown",
      "source": "We first define a dictionary for alien_0 that contains only the aliens color; then we change the value associated with the key 'color' to 'yellow'. The output shows that the alien has indeed changed from green to yellow.\n",
      "metadata": {}
    },
    {
      "cell_type": "markdown",
      "source": "For a more interesting example, let's track the position of an alien that can mvoe at different speeds. We'll store a value representing the alien's current speed and then use it to determine how far to the rgiht the alien should move.",
      "metadata": {}
    },
    {
      "cell_type": "code",
      "source": "alien_0 = {'x_position': 0, 'y_position': 25, 'speed': 'medium'}\nprint(\"Original x-position: \" + str(alien_0['x_position']))",
      "metadata": {
        "trusted": true
      },
      "execution_count": 10,
      "outputs": [
        {
          "name": "stdout",
          "text": "Original x-position: 0\n",
          "output_type": "stream"
        }
      ]
    },
    {
      "cell_type": "code",
      "source": "# Move the alien to the right.\n# Determine how far to move the alien based on its current speed.\n\nif alien_0['speed'] == 'slow':\n    x_increment = 1\n    \nelif alien_0['speed'] == 'medium':\n    x_increment = 2\n             \nelse:\n    # This must be a fast alien.\n    x_increment = 3\n             ",
      "metadata": {
        "trusted": true
      },
      "execution_count": 13,
      "outputs": []
    },
    {
      "cell_type": "code",
      "source": "# The new position is the old position plus the increment.\nalien_0['x_position'] = alien_0['x_position'] + x_increment\n\nprint(\"New x-position: \" + str(alien_0['x_position']))",
      "metadata": {
        "trusted": true
      },
      "execution_count": 14,
      "outputs": [
        {
          "name": "stdout",
          "text": "New x-position: 2\n",
          "output_type": "stream"
        }
      ]
    },
    {
      "cell_type": "code",
      "source": "alien_0 = {'x_position': 0, 'y_position': 25, 'speed': 'medium'}\nprint(\"Original x-position: \" + str(alien_0['x_position']))\n# Move the alien to the right.\n# Determine how far to move the alien based on its current speed.\nif alien_0['speed'] == 'slow':\n    x_increment = 1\nelif alien_0['speed'] == 'medium':\n    x_increment = 2\nelse:\n # This must be a fast alien.\n     x_increment = 3\n# The new position is the old position plus the increment.\nalien_0['x_position'] = alien_0['x_position'] + x_increment\nprint(\"New x-position: \" + str(alien_0['x_position']))",
      "metadata": {
        "trusted": true
      },
      "execution_count": 18,
      "outputs": [
        {
          "name": "stdout",
          "text": "Original x-position: 0\nNew x-position: 2\n",
          "output_type": "stream"
        }
      ]
    },
    {
      "cell_type": "markdown",
      "source": "We start by defining an alien with an initial x position and y position, and a speed of 'medium'. We've omitted the color and point values for the sake of simplicity, but this example would work the same way if you included those key-value pairs as well. We also print the original value of x_position to see how far the alien moves to the right.\n\nAt line 1 an if-elif-else chain determines how far the alien should move to the right and stores this value in the variable x_increment. If the alien's speed is 'slow', it moves one unit to the right; if the speed is 'medium', is moves two units to the right; and if it's 'fast', it moves three units to the right. Once the increment has been calculated, it's added to the value of x_position at line 2, and the result is stored in the dictionary's x_position.\n\nBecause this is a medium-speed alien, its position shifts two units to the right.\n\n",
      "metadata": {}
    },
    {
      "cell_type": "markdown",
      "source": "This technique is pretty cool: by changing one value in the alien's dictionary, you can change the overall behavior of the alien. For example, to turn this medium-speed aline into a fast alien, you would add the line:",
      "metadata": {}
    },
    {
      "cell_type": "code",
      "source": "alien_0['speed'] = 'fast'",
      "metadata": {
        "trusted": true
      },
      "execution_count": 20,
      "outputs": []
    },
    {
      "cell_type": "markdown",
      "source": "The if-elif-else block would then assin a larger value to x_increment the next time the code runs.",
      "metadata": {}
    },
    {
      "cell_type": "markdown",
      "source": "<em>**Removing Key-Value Pairs**</em>\n\nWhen you no longer need a piece of information that's stored in a dictionary, you can use the <em>del</em> statement to completely remove a key-value pair. All <em>del</em> needs is the name of the dictionary and the key that you want to remove.\n\nFor example, let's remove the key 'points' from the alien_0 dictionary along with its value.",
      "metadata": {}
    },
    {
      "cell_type": "code",
      "source": "alien_0 = {'color': 'green', 'points': 5}\nprint(alien_0)\n\ndel alien_0['points']\nprint(alien_0)\n\n# Note be aware that the key value pair is deleted permanently.",
      "metadata": {
        "trusted": true
      },
      "execution_count": 21,
      "outputs": [
        {
          "name": "stdout",
          "text": "{'color': 'green', 'points': 5}\n{'color': 'green'}\n",
          "output_type": "stream"
        }
      ]
    },
    {
      "cell_type": "markdown",
      "source": "The code at line one tells Python to delete the key 'points' from the dictionary alien_0 and to remove the value associated with that key as well. The output shows that the key 'points' and its value of 5 are deleted from the dictionary, but the rest of the dictionary is unaffected.\n",
      "metadata": {}
    },
    {
      "cell_type": "markdown",
      "source": "<em>**A Dictionary of Similar Objects**</em>\n\nThe previous example involved storing different kinds of information about one object, an alien in a game. You can also use a dictionary to store one kind of information about many objects. For example, say you want to poll a number of people and ask them what their favorite programming language is. A dictionary is useful for storign the results of a simple poll, like this:",
      "metadata": {}
    },
    {
      "cell_type": "code",
      "source": "favorite_languages = {\n    'jen': 'python',\n    'sarah': 'c',\n    'edward': 'ruby',\n    'phil': 'python',\n    }",
      "metadata": {
        "trusted": true
      },
      "execution_count": 22,
      "outputs": []
    },
    {
      "cell_type": "markdown",
      "source": "As you can see, we've broken a larger dictionary into several lines. Each key is the name of a person who responded to the poll, and each value is their language choice. When you know you'll need more than one line to define a dictionary, press ENTER after the opening brace. Then indent the next line one level (four spaces), and write the first key-value pair, followed by a comma. From this point forward when you press ENTER, your text editor should automatically indent all subsequent key-value pairs to match the first key-value pair.\n\nOnce you've finished defining the dictionary, add a closing brace on a new line after the last key-value pair and indent it one level so it aligns with the keys in the dictionary. It's good practice to include a comma after the last key-value pair as well, so you're ready to add a new key-value pair on the next line.\n\nNOTE: Most editors have some functionality that helps you format extended lists and dictionaries in a similar manner to this example. Other acceptable ways to format long dictionaries are available as well, so you may see slightly different formatting in your editor, or in other sources.\n\nTo use this dictionary, given the name of a person who took the poll, you can easily look up their favorite language:",
      "metadata": {}
    },
    {
      "cell_type": "code",
      "source": "favorite_languages = {\n    'jen': 'python',\n    'sarah': 'c',\n    'edward': 'ruby',\n    'phil': 'python',\n    }\n# notice how we also use the .title() function with the dictionary call.\nprint(\"Sara's favorite language is \" + \n      favorite_languages['sarah'].title() + \n      \".\")",
      "metadata": {
        "trusted": true
      },
      "execution_count": 26,
      "outputs": [
        {
          "name": "stdout",
          "text": "Sara's favorite language is C.\n",
          "output_type": "stream"
        }
      ]
    },
    {
      "cell_type": "markdown",
      "source": "To see which language Sarah chose, we ask for the value at:\n\nfavorite_languages['sarah']",
      "metadata": {}
    },
    {
      "cell_type": "markdown",
      "source": "This example also shows how you can break up a long print statement over several lines. The word print is shorter than most dictionary names, so it makes sense to include the first part of what you want to print right after the opening parenthesis. Choose an appropriate point at which to break what's being printed, and add a concacatentation operator (+) at the end of the first line. Press ENTER and then press TAB to align all subsequent lines at one indentation level under the print statement. When you've finished composing your output, you can place the closing parenthesis on the last line of the print block.",
      "metadata": {}
    },
    {
      "cell_type": "markdown",
      "source": "The keys() method is useful when you don't need to work with all of the values in a dictionary. let's loop through the favorite_languages dictionary and print the names of everyone who took the poll.\n",
      "metadata": {}
    },
    {
      "cell_type": "code",
      "source": "favorite_languages = {\n    'jen': 'python',\n    'sarah': 'c',\n    'edward': 'ruby',\n    'phil': 'python',\n    }\n\nfor name in favorite_languages.keys():\n    print(name.title())\n\n# Notice how we use .keys()\n# Looping through keys is the default behavior when looping through a dictionary.\n\nprint(\"\\nBelow begins a new for loop without the .keys() method\\n\")\n\nfor name in favorite_languages:\n      print(name.title())",
      "metadata": {
        "trusted": true
      },
      "execution_count": 33,
      "outputs": [
        {
          "name": "stdout",
          "text": "Jen\nSarah\nEdward\nPhil\n\nBelow begins a new for loop without the .keys() method\n\nJen\nSarah\nEdward\nPhil\n",
          "output_type": "stream"
        }
      ]
    },
    {
      "cell_type": "markdown",
      "source": "Line 1 tells Python to pull all the keys from the dictionary favorite_languages and store them one at a time in the variable name. The output shows the name of everyone who took the poll.",
      "metadata": {}
    },
    {
      "cell_type": "markdown",
      "source": "Looping through the keys is actually the default behavior when looping through a dictionary, so this code would have exactly the same output if you wrote...\n\nfor name in favorite_languages:\n\nrather than....\n\nfor name in favorite_languages.keys()",
      "metadata": {}
    },
    {
      "cell_type": "markdown",
      "source": "You can choose to use the keys() method explicitly if it makes your code easier to read, or you can omit it if you wish.\n",
      "metadata": {}
    },
    {
      "cell_type": "markdown",
      "source": "You can access the value associated with any key you care about inside the loop by using the current key. Let's print a message to a couple of friends about the languages they chose. We'll loop through the names in the dictionary as we did previously, but when the name matches one of our friends, we'll display a message about their favorite language.",
      "metadata": {}
    },
    {
      "cell_type": "code",
      "source": "favorite_languages = {\n    'jen': 'python',\n    'sarah': 'c',\n    'edward': 'ruby',\n    'phil': 'python',\n    }\n\nfriends = ['phil', 'sarah']\nfor name in favorite_languages.keys():\n    print(name.title())\n    \n    if name in friends:\n        print(\"  Hi \" + name.title() +\n              \", I see your favorite languge is \" +\n              favorite_languages[name].title() + \"!\")",
      "metadata": {
        "trusted": true
      },
      "execution_count": 35,
      "outputs": [
        {
          "name": "stdout",
          "text": "Jen\nSarah\n  Hi Sarah, I see your favorite languge is C!\nEdward\nPhil\n  Hi Phil, I see your favorite languge is Python!\n",
          "output_type": "stream"
        }
      ]
    },
    {
      "cell_type": "markdown",
      "source": "First we make a list of friends that we want to print a message to. Inside the loop, we print each person's name. Then, we check to see whether the name we are working with is in the list firends. If it is, we print a special greeting, including a reference to their language choice. To access the favorite language, we use the name of the dicitonary and the current value of name as the key. Everyone's name is printed, but our friends receive a special message.",
      "metadata": {}
    },
    {
      "cell_type": "markdown",
      "source": "You can also use the keys() method to find out if a particular person was polled. This time, let's find out if Erin took the poll.",
      "metadata": {}
    },
    {
      "cell_type": "code",
      "source": "favorite_languages = {\n 'jen': 'python',\n 'sarah': 'c',\n 'edward': 'ruby',\n 'phil': 'python',\n }\n\nif 'erin' not in favorite_languages.keys():\n    print(\"Erin, please take our poll!\")",
      "metadata": {
        "trusted": true
      },
      "execution_count": 38,
      "outputs": [
        {
          "name": "stdout",
          "text": "Erin, please take our poll!\n",
          "output_type": "stream"
        }
      ]
    },
    {
      "cell_type": "markdown",
      "source": "The keys() method isn't just for looping: It actually returns a list of all the keys, and the first line simply checks in 'erin' is in this list. Because she's not, a message is pritned inviting her to take the poll.",
      "metadata": {}
    },
    {
      "cell_type": "markdown",
      "source": "<em>**Looping Through a Dictionary's Keys in Order**</em>\n\nA dictionary always maintains a clear connection between each key and its associated value, but you never get the items from a dictionary in any predictable order. That's not a problem, because you'll usuallly just want to obtain the correct value associated with each key.\n\none way to return items in a certain order is to sort the keys as they're returned in the for loop. You can use the sorted() function to get a copy of the keys in order.",
      "metadata": {}
    },
    {
      "cell_type": "code",
      "source": "favorite_languages = {\n 'jen': 'python',\n 'sarah': 'c',\n 'edward': 'ruby',\n 'phil': 'python',\n }\n\nfor name in sorted(favorite_languages.keys()):\n    print(name.title() + \", thank you for taking the poll.\")",
      "metadata": {
        "trusted": true
      },
      "execution_count": 39,
      "outputs": [
        {
          "name": "stdout",
          "text": "Edward, thank you for taking the poll.\nJen, thank you for taking the poll.\nPhil, thank you for taking the poll.\nSarah, thank you for taking the poll.\n",
          "output_type": "stream"
        }
      ]
    },
    {
      "cell_type": "markdown",
      "source": "This for statement is like other for statements except that we've wrapped the sorted() function around the dictionary.keys() method. This tells Python to list all keys in the dictionary and sort that list before looping through it. The output shows everyone who took the poll with the names displayed in order.",
      "metadata": {}
    },
    {
      "cell_type": "markdown",
      "source": "<em>**Looping Through All Values in a Dictionary**</em>\n\nIf you are primarily interested in the values that a dictionary contains, you can use the values() method to return a list of values without any keys. For example, say we simply want a list of all languages chosen in our programming language poll without the name of the person who chose each language:\n",
      "metadata": {}
    },
    {
      "cell_type": "code",
      "source": "favorite_languages = {\n 'jen': 'python',\n 'sarah': 'c',\n 'edward': 'ruby',\n 'phil': 'python',\n }\n\nprint(\"The following languages have been mentioned:\")\nfor language in favorite_languages.values():\n    print(language.title())",
      "metadata": {
        "trusted": true
      },
      "execution_count": 40,
      "outputs": [
        {
          "name": "stdout",
          "text": "The following languages have been mentioned:\nPython\nC\nRuby\nPython\n",
          "output_type": "stream"
        }
      ]
    },
    {
      "cell_type": "markdown",
      "source": "The for statement here pulls each value from the dictionary and stores it in the variable language. When these values are printed, we get a list of all chosen languages.\n\nThis approach pulls all the values from the dictionary without checking for repeats. That might work fine with a small number of values, but in a poll with a large number of respondents, this would result in a very repetitive list. To see each language chosen without repetition, we can use a <em>set</em>. A set is similar to a list except that each item in the set must be unique.",
      "metadata": {}
    },
    {
      "cell_type": "code",
      "source": "favorite_languages = {\n 'jen': 'python',\n 'sarah': 'c',\n 'edward': 'ruby',\n 'phil': 'python',\n }\n\nprint(\"The following languages have been mentioned:\")\nfor language in set(favorite_languages.values()):\n    print(language.title())",
      "metadata": {
        "trusted": true
      },
      "execution_count": 41,
      "outputs": [
        {
          "name": "stdout",
          "text": "The following languages have been mentioned:\nC\nRuby\nPython\n",
          "output_type": "stream"
        }
      ]
    },
    {
      "cell_type": "markdown",
      "source": "When you wrap set() around a list that contains duplicate items, Python identifies the uniqe items in the list and builds a set from those items. At the beginning of the loop we use set() to pull out the uniqe languages in favorite_languages.values().\n\nThe result is a nonrepetitive list of languages that have been mentioned by people taking the poll.\n\nAs you continue learning about Python, you'll often find a built-in feature of the language that helps you do exactly what you want with your data.",
      "metadata": {}
    },
    {
      "cell_type": "markdown",
      "source": "<em>**Nesting**</em>\n\nSometimes you'll want to store a set of dictionaries in a list or a list of items as a value in a dictionary. This is called <em>nesting</em>. You can nest a set of dictionaries inside a list, a list of tiems inside a dictionary, or even a dictionary inside another dictionary. Nesting is a powerful feature, as the following examples will demonstrate.",
      "metadata": {}
    },
    {
      "cell_type": "markdown",
      "source": "<em>**A List of Dictionaries**</em>\n\nThe alien_0 dictionary contains a variety of information about one alien, but it has no room to store information about a second alien, much less a screen full of aliens. How can you manage a fleet of aliens? One way is to make a list of aliens in which each alien is a dictionary of information about that alien. For example, the following code builds a list of three aliens:",
      "metadata": {}
    },
    {
      "cell_type": "code",
      "source": "alien_0 = {'color': 'green', 'points' : 5}\nalien_1 = {'color': 'yellow', 'points': 10}\nalien_2 = {'color': 'red', 'points': 15}\n\naliens = [alien_0, alien_1, alien_2]\n\nfor alien in aliens:\n    print(alien)",
      "metadata": {
        "trusted": true
      },
      "execution_count": 4,
      "outputs": [
        {
          "name": "stdout",
          "text": "{'color': 'green', 'points': 5}\n{'color': 'yellow', 'points': 10}\n{'color': 'red', 'points': 15}\n",
          "output_type": "stream"
        }
      ]
    },
    {
      "cell_type": "markdown",
      "source": "We first create three dictionaries, each representing a different alien. At the list we pack each of the three dictionaries into a list called aliens. Finally, we loop through the list and print our each alien.\n\nA more realistic example would involve more than three aliens with code that automatically generates each alien. In the following example we use range() to create a fleet of 30 aliens.",
      "metadata": {}
    },
    {
      "cell_type": "code",
      "source": "# Make an empty list for storing aliens.\naliens = []\n\n# Make 30 green aliens.\nfor alien_number in range(30):\n    new_alien = {'color': 'green', 'point': 5, 'speed': 'slow'}\n    aliens.append(new_alien)\n    \n# Show the first 5 aliens:\nfor alien in aliens[:5]:\n    print(alien)\nprint(\"...\")\n\n# Show how many aliens have been created.\nprint(\"Total number of aliens: \" + str(len(aliens)))",
      "metadata": {
        "trusted": true
      },
      "execution_count": 5,
      "outputs": [
        {
          "name": "stdout",
          "text": "{'color': 'green', 'point': 5, 'speed': 'slow'}\n{'color': 'green', 'point': 5, 'speed': 'slow'}\n{'color': 'green', 'point': 5, 'speed': 'slow'}\n{'color': 'green', 'point': 5, 'speed': 'slow'}\n{'color': 'green', 'point': 5, 'speed': 'slow'}\n...\nTotal number of aliens: 30\n",
          "output_type": "stream"
        }
      ]
    },
    {
      "cell_type": "markdown",
      "source": "This example begins with an empty list to hold all of the aliens that will be created. range() returns a set of numbers, which just tells Python how many times we want the loop to repeat. each time the loop runs we create a new alien and then append each new alien to the list aliens. Then we use a slice to print the first five aliens, and then we print the length of the list to prove we've actually generated the full fleet of 30 aliens.",
      "metadata": {}
    },
    {
      "cell_type": "markdown",
      "source": "These aliens all have the same characteristics, but Python considers each one a separate object, which allows us to modify each alien individually. How might you work with a set of aliens like this? Imagine that one aspect of a game has some aliens changign color and moving faster as the game progresses. When it's time to change colors, we can use a for loop and an if statement to change the color of aliens. For example, to change the first three aliens to yellow, medium-speed aliens worth 10 points each, we could do this:",
      "metadata": {}
    },
    {
      "cell_type": "code",
      "source": "# Make an empty list for storing aliens.\naliens = []\n# Make 30 green aliens.\nfor alien_number in range (0,30):\n    new_alien = {'color': 'green', 'points': 5, 'speed': 'slow'}\n    aliens.append(new_alien)\n\nfor alien in aliens[0:3]:\n    if alien['color'] == 'green':\n        alien['color'] = 'yellow'\n        alien['speed'] = 'medium'\n        alien['points'] = 10\n\n# Show the first 5 aliens:\nfor alien in aliens[0:5]:\n    print(alien)\nprint(\"...\")",
      "metadata": {
        "trusted": true
      },
      "execution_count": 7,
      "outputs": [
        {
          "name": "stdout",
          "text": "{'color': 'yellow', 'points': 10, 'speed': 'medium'}\n{'color': 'yellow', 'points': 10, 'speed': 'medium'}\n{'color': 'yellow', 'points': 10, 'speed': 'medium'}\n{'color': 'green', 'points': 5, 'speed': 'slow'}\n{'color': 'green', 'points': 5, 'speed': 'slow'}\n...\n",
          "output_type": "stream"
        }
      ]
    },
    {
      "cell_type": "markdown",
      "source": "Because we want to modify the first three aliens, we loop through a slice that includes only the first three aliens. All of the aliens are green now but that won't always be the case, so we write an if statement to make sure we're only modifying green aliens. If the alien is green, we change the color to 'yellow', the speed to 'medium', and the point value to 10, as shown in the following output.\n\nYou could expand this loop by adding an elif block that turns yellow aliens into red, fast-moving ones worth 15 points each. Without showing the entire program again, that loop would look like this:",
      "metadata": {}
    },
    {
      "cell_type": "code",
      "source": "for alien in aliens[0:3]:\n    if alien['color'] == 'green':\n        alien['color'] = 'yellow'\n        alien['speed'] = 'medium'\n        alien['points'] = 10\n        \n    elif alien['color'] == 'yellow':\n        alien['color'] = 'red'\n        alien['speed'] = 'fast'\n        alien['points'] = 15",
      "metadata": {
        "trusted": true
      },
      "execution_count": 9,
      "outputs": []
    },
    {
      "cell_type": "markdown",
      "source": "It's common to store a number of dictionaries in a list when each dictionary contains many kinds of information about one object. For example, you might create a dictionary for each user on a website, as we did in user.py on page 103, and store the individual dictionaries in a list called users. All of the dictionaries in the list should have an identical structure so you can loop through the list and work with each dictionary object in the same way.",
      "metadata": {}
    },
    {
      "cell_type": "markdown",
      "source": "<em>**A List in a Dictionary**</em>\n\nRather than putting a dictionary inside a list, it's sometimes useful to put a list inside a dictionary. For example, consider how you might describe a pizza that someone is ordering. If you were to use only a list, all you could really store is a list of the pizza's toppings. With a dictionary, a list of toppings can be just one aspect of the pizza you're describing.\n\nIn the following example, two kinds of information are stored for each pizza: a type of crust and a list of toppings. The list of toppings is a value associated with the key 'toppings'. To use the items in the list, we give the name of the dictionary and the key 'toppings', as we would any value in the dictionary. instead of returning a single value, we get a list of toppings:",
      "metadata": {}
    },
    {
      "cell_type": "code",
      "source": "# Store information about a pizza being ordered.\n\npizza = {\n    'crust': 'thick',\n    'toppings': ['mushrooms', 'extra cheese'],\n    }\n\n# Summarize the order.\nprint(\"You ordered a \" + pizza['crust'] + \"-crust pizza \" + \"with the following toppings:\")\n\nfor topping in pizza['toppings']:\n    print(\"\\t\" + topping)",
      "metadata": {
        "trusted": true
      },
      "execution_count": 11,
      "outputs": [
        {
          "name": "stdout",
          "text": "You ordered a thick-crust pizza with the following toppings:\n\tmushrooms\n\textra cheese\n",
          "output_type": "stream"
        }
      ]
    },
    {
      "cell_type": "markdown",
      "source": "We begin with a dictionary that holds information about a pizza that has been ordered. One key in the dictionary is 'crust', abd tge associated value is the string 'thick'. The next key, 'toppings', has a list as its value that stores all requested toppings. Then we summarize the orer before building the pizza. To print the toppings, wr write a for loop. To access the list of toppings, we use the key 'toppings', and Python grabs the list of toppings from the dictionary. The output summarizes the pizza we plan to build.\n",
      "metadata": {}
    },
    {
      "cell_type": "markdown",
      "source": "You can nest a list inside a dictionary any time you want more than one value to be associated with a single key in a dictionary. In the earlier example of favorite programming languages, if we were to store each person's responses in a list, people could choose more than one favorite language. When we loop through the dictionary, the value associated with each person would be a list of languages rather than a single language. Inside the dictionary's for loop, we use another for loop to run through the list of languages associated with each person.",
      "metadata": {}
    },
    {
      "cell_type": "code",
      "source": "favorite_languages = {\n    'jen': ['python', 'ruby'],\n    'sarah': ['c'],\n    'edward': ['ruby', 'go'],\n    'phil': ['python', 'haskell'],\n    }\n\nfor name, languages in favorite_languages.items():\n    print(\"\\n\" + name.title() + \"'s favorite languages are:\")\n    for language in languages:\n        print(\"\\t\" + language.title())",
      "metadata": {
        "trusted": true
      },
      "execution_count": 12,
      "outputs": [
        {
          "name": "stdout",
          "text": "\nJen's favorite languages are:\n\tPython\n\tRuby\n\nSarah's favorite languages are:\n\tC\n\nEdward's favorite languages are:\n\tRuby\n\tGo\n\nPhil's favorite languages are:\n\tPython\n\tHaskell\n",
          "output_type": "stream"
        }
      ]
    },
    {
      "cell_type": "markdown",
      "source": "As you can see first the value associated with each name is now a list. Notice that some people have one favorite language and others have multiple favorites. When we loop through the dictionary next, we use the variable name languages to hold each value from the dictionary, because we know that each value will be a list. Inside the main dictionary loop, we use another for loop to run through each person's list of favorite languages. Now each person can list as many favorite languages as they like:\n\nTo refine this program even further, you could include an if statement at the beginning of the dictionary's for loop to see whether each person has more than one favorite languages by examining the value of len(languages). If a person has only one favorite language, you could change the wording to reflect that. For example, you could say sarah's favorite language is C.\n\nNOTE: <em>You should not nest lists and dictionaries too deeply. If you're nesting items much deeper than what y",
      "metadata": {}
    }
  ]
}