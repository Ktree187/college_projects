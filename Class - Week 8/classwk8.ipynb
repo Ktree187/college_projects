{
 "cells": [
  {
   "cell_type": "code",
   "execution_count": 1,
   "metadata": {},
   "outputs": [
    {
     "name": "stdout",
     "output_type": "stream",
     "text": [
      "Hello\n"
     ]
    }
   ],
   "source": [
    "print(\"Hello\")"
   ]
  },
  {
   "cell_type": "code",
   "execution_count": 2,
   "metadata": {},
   "outputs": [],
   "source": [
    "# A list. Lists are muttable, meaning they can be changed.\n",
    "\n",
    "groceries = []\n",
    "\n",
    "# A dictionary. Dictonaries are muttable, meaning they can be changed.\n",
    "\n",
    "groceries = {}\n"
   ]
  },
  {
   "cell_type": "code",
   "execution_count": 3,
   "metadata": {},
   "outputs": [
    {
     "name": "stdout",
     "output_type": "stream",
     "text": [
      "{'hammer': 7.99, 'screwdriver': 4.99, 'wrench': 6.99}\n"
     ]
    }
   ],
   "source": [
    "products = {}\n",
    "products['hammer'] = 7.99\n",
    "products['screwdriver'] = 4.99\n",
    "products['wrench'] = 6.99\n",
    "print(products)\n",
    "\n"
   ]
  },
  {
   "cell_type": "code",
   "execution_count": 4,
   "metadata": {},
   "outputs": [
    {
     "name": "stdout",
     "output_type": "stream",
     "text": [
      "{'hammer': 7.99, 'screwdriver': 4.99, 'wrench': 6.99}\n"
     ]
    }
   ],
   "source": [
    "products = {'hammer': 7.99, 'screwdriver': 4.99, 'wrench': 6.99}\n",
    "print(products)"
   ]
  },
  {
   "cell_type": "code",
   "execution_count": 5,
   "metadata": {},
   "outputs": [
    {
     "name": "stdout",
     "output_type": "stream",
     "text": [
      "{'hammer': 9.99, 'screwdriver': 4.99, 'wrench': 6.99}\n"
     ]
    }
   ],
   "source": [
    "# a price increase on hammers.\n",
    "\n",
    "products['hammer'] = 9.99\n",
    "print(products)"
   ]
  },
  {
   "cell_type": "code",
   "execution_count": 6,
   "metadata": {},
   "outputs": [
    {
     "name": "stdout",
     "output_type": "stream",
     "text": [
      "Sold!\n"
     ]
    }
   ],
   "source": [
    "# We can use if statements on dictionaries.\n",
    "\n",
    "if products['screwdriver'] == 4.99:\n",
    "    print('Sold!')"
   ]
  },
  {
   "cell_type": "code",
   "execution_count": 8,
   "metadata": {},
   "outputs": [
    {
     "name": "stdout",
     "output_type": "stream",
     "text": [
      "Sold!\n"
     ]
    }
   ],
   "source": [
    "screwdriver_price = products['screwdriver']\n",
    "if products['screwdriver'] == 4.99:\n",
    "    print('Sold!')\n",
    "\n"
   ]
  },
  {
   "cell_type": "code",
   "execution_count": 9,
   "metadata": {},
   "outputs": [
    {
     "name": "stdout",
     "output_type": "stream",
     "text": [
      "{'hammer': 9.99, 'wrench': 6.99}\n"
     ]
    }
   ],
   "source": [
    "# deleting screwdriver from dictionary.\n",
    "\n",
    "del products['screwdriver']\n",
    "print(products)"
   ]
  },
  {
   "cell_type": "code",
   "execution_count": 11,
   "metadata": {},
   "outputs": [
    {
     "data": {
      "text/plain": [
       "'Sold out.'"
      ]
     },
     "execution_count": 11,
     "metadata": {},
     "output_type": "execute_result"
    }
   ],
   "source": [
    "# Looks through dictonary looking for pipe wrench, if it doesn't find the product it displays the message 'sold out'.\n",
    "products.get('pipe wrench', 'Sold out.')"
   ]
  },
  {
   "cell_type": "code",
   "execution_count": 12,
   "metadata": {},
   "outputs": [
    {
     "name": "stdout",
     "output_type": "stream",
     "text": [
      "Wrench price: Sold out\n"
     ]
    }
   ],
   "source": [
    "\n",
    "result = products.get('pipe wrench', 'Sold out')\n",
    "print(f'Wrench price: {result}')"
   ]
  },
  {
   "cell_type": "code",
   "execution_count": 13,
   "metadata": {},
   "outputs": [
    {
     "name": "stdout",
     "output_type": "stream",
     "text": [
      "{'hammer': 9.99, 'wrench': 6.99, 'screwdriver': 5.99}\n"
     ]
    }
   ],
   "source": [
    "# Inserts screw driver into the products dictionary.\n",
    "products['screwdriver'] = 5.99\n",
    "print(products)"
   ]
  },
  {
   "cell_type": "code",
   "execution_count": 27,
   "metadata": {},
   "outputs": [
    {
     "name": "stdout",
     "output_type": "stream",
     "text": [
      "The hammer is $9.99.\n",
      "The wrench is $6.99.\n",
      "The screwdriver is $5.99.\n",
      "We have a hammer for sale.\n",
      "We have a wrench for sale.\n",
      "We have a screwdriver for sale.\n",
      "We have a hammer for sale.\n",
      "We have a wrench for sale.\n",
      "We have a screwdriver for sale.\n",
      "9.99\n",
      "6.99\n",
      "5.99\n",
      "The sum total of items for sale is: 22.97.\n"
     ]
    }
   ],
   "source": [
    "# You can iterate through a dictonary and prints out each key and value.\n",
    "\n",
    "for product, price in products.items():\n",
    "    print(f'The {product} is ${price}.')\n",
    "\n",
    "# Displays each product we have for sale in our dictionary. option 1\n",
    "\n",
    "for product in products:\n",
    "    print(f'We have a {product} for sale.')\n",
    "\n",
    "# Another way you can display each product we have for sale in our dictonary. option 2\n",
    "\n",
    "for product in products.keys():\n",
    "    print(f'We have a {product} for sale.')\n",
    "\n",
    "# Displays the cost for each product in the dictionary.\n",
    "\n",
    "for cost in products.values():\n",
    "    print(cost)\n",
    "\n",
    "# Gives us the sum total of items we have for sale in our dictionary.\n",
    "# Fire you create a variable for total_cost, then you run a for loop\n",
    "# that adds cost for each item in dictionary.\n",
    "# You will want to memorize this pattern.\n",
    "# We do this so frequently you have to be able to do this.\n",
    "\n",
    "total_cost = 0\n",
    "for cost in products.values():\n",
    "    total_cost = total_cost + cost\n",
    "print(f\"The sum total of items for sale is: {total_cost}.\")\n"
   ]
  },
  {
   "cell_type": "code",
   "execution_count": 30,
   "metadata": {},
   "outputs": [
    {
     "name": "stdout",
     "output_type": "stream",
     "text": [
      "{1, 2, 3, 4, 5, 6, 7, 8, 9}\n"
     ]
    }
   ],
   "source": [
    "# a list prevents duplicates.\n",
    "\n",
    "duplicates_removed = set([3,1,4,1,5,9,2,6,5,3,5,8,9,7,9])\n",
    "print(duplicates_removed)\n",
    "\n",
    "# Notice that it removes the duplicate digits from the list on output.\n"
   ]
  },
  {
   "cell_type": "code",
   "execution_count": 31,
   "metadata": {},
   "outputs": [
    {
     "name": "stdout",
     "output_type": "stream",
     "text": [
      "{'James', 'Mary', 'Pablo'}\n"
     ]
    }
   ],
   "source": [
    "names = {'Pablo', 'Mary', 'Pablo', 'James'}\n",
    "print(names)"
   ]
  },
  {
   "cell_type": "code",
   "execution_count": 37,
   "metadata": {},
   "outputs": [
    {
     "name": "stdout",
     "output_type": "stream",
     "text": [
      "[{'hammer': 9.99, 'wrench': 6.99, 'screwdriver': 5.99}, {'nails': 2.99, 'screws': 3.99, 'tacks': 1.99}, {'rake': 9.99, 'shovel': 12.99, 'sledgehammer': 18}]\n"
     ]
    }
   ],
   "source": [
    "# We expanded our company and opened new stores. Heres what they carry.\n",
    "\n",
    "southie_dept = {'nails': 2.99, 'screws': 3.99, 'tacks': 1.99}\n",
    "downtown_dept = {'rake': 9.99, 'shovel': 12.99, 'sledgehammer': 18}\n",
    "\n",
    "# In all_departments we made al ist of dictonaries.\n",
    "\n",
    "all_departments = [products, southie_dept, downtown_dept]\n",
    "\n",
    "# The following print statements, prints out the dicontiaries not each individual value.\n",
    "\n",
    "print(all_departments)"
   ]
  },
  {
   "cell_type": "code",
   "execution_count": 44,
   "metadata": {},
   "outputs": [
    {
     "name": "stdout",
     "output_type": "stream",
     "text": [
      "{'hammer': 9.99, 'wrench': 6.99, 'screwdriver': 5.99}\n",
      "The hammer is $9.99.\n",
      "The wrench is $6.99.\n",
      "The screwdriver is $5.99.\n",
      "{'nails': 2.99, 'screws': 3.99, 'tacks': 1.99}\n",
      "The nails is $2.99.\n",
      "The screws is $3.99.\n",
      "The tacks is $1.99.\n",
      "{'rake': 9.99, 'shovel': 12.99, 'sledgehammer': 18}\n",
      "The rake is $9.99.\n",
      "The shovel is $12.99.\n",
      "The sledgehammer is $18.\n",
      "[{'hammer': 9.99, 'wrench': 6.99, 'screwdriver': 5.99}, {'nails': 2.99, 'screws': 3.99, 'tacks': 1.99}, {'rake': 9.99, 'shovel': 12.99, 'sledgehammer': 18}]\n"
     ]
    }
   ],
   "source": [
    "# Notice how it builds things up. Every programmer builds things up.\n",
    "# Whatver we are doing we are always building up our program piece by piece.\n",
    "# We write a little bit and try it, we write a little bit more and try it, we wri.... and onward.\n",
    "\n",
    "for department in all_departments:\n",
    "    print(department)\n",
    "    for product, price in department.items():\n",
    "        #print(product)\n",
    "        #if product == 'sledgehammer':\n",
    "            #print('Found a sledgehammer!')\n",
    "            print(f'The {product} is ${price}.')\n",
    "\n",
    "\n",
    "\n"
   ]
  },
  {
   "cell_type": "code",
   "execution_count": 51,
   "metadata": {},
   "outputs": [
    {
     "name": "stdout",
     "output_type": "stream",
     "text": [
      "The price of the shovel is 12.99,\n"
     ]
    }
   ],
   "source": [
    "# Indexing into a list.\n",
    "# print(all_departments)\n",
    "# print(all_departments[2]['shovel']) # indexes for the price of a shovel\n",
    "print(f\"The price of the shovel is {all_departments[2]['shovel']},\")\n",
    "\n"
   ]
  },
  {
   "cell_type": "markdown",
   "metadata": {},
   "source": [
    "How does python know the difference between a set and a dictionary? Sets do not hve the colon in the value, that is how it distinguishes between the two.\n",
    "\n",
    "set_example = {1, 2, 3, 4}\n",
    "dictionary_example = {key1: value1, key2: value2, key3: value3, key4: value4}"
   ]
  }
 ],
 "metadata": {
  "kernelspec": {
   "display_name": "Python 3",
   "language": "python",
   "name": "python3"
  },
  "language_info": {
   "codemirror_mode": {
    "name": "ipython",
    "version": 3
   },
   "file_extension": ".py",
   "mimetype": "text/x-python",
   "name": "python",
   "nbconvert_exporter": "python",
   "pygments_lexer": "ipython3",
   "version": "3.11.6"
  }
 },
 "nbformat": 4,
 "nbformat_minor": 2
}
