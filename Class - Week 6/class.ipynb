{
 "cells": [
  {
   "cell_type": "code",
   "execution_count": 3,
   "metadata": {},
   "outputs": [
    {
     "name": "stdout",
     "output_type": "stream",
     "text": [
      "[0, 1, 2, 3, 4, 5, 6, 7, 8, 9, 10, 11, 12, 13, 14, 15, 16, 17, 18, 19, 20, 21, 22, 23, 24, 25, 26, 27, 28, 29, 30, 31, 32, 33, 34, 35, 36, 37, 38, 39, 40, 41, 42, 43, 44, 45, 46, 47, 48, 49, 50, 51, 52, 53, 54, 55, 56, 57, 58, 59, 60, 61, 62, 63, 64, 65, 66, 67, 68, 69, 70, 71, 72, 73, 74, 75, 76, 77, 78, 79, 80, 81, 82, 83, 84, 85, 86, 87, 88, 89, 90, 91, 92, 93, 94, 95, 96, 97, 98, 99, 100]\n",
      "1\n",
      "32\n",
      "243\n",
      "1024\n",
      "1300\n",
      "0\n",
      "100\n"
     ]
    }
   ],
   "source": [
    "many_nums = list(range(101))\n",
    "print(many_nums)\n",
    "\n",
    "fifth_powers = []\n",
    "for num in range(1, 5):\n",
    "    to_the_fifth = num**5\n",
    "    print(to_the_fifth)\n",
    "    fifth_powers.append(to_the_fifth)\n",
    "\n",
    "print(sum(fifth_powers))\n",
    "print(min(many_nums))\n",
    "print(max(many_nums))"
   ]
  },
  {
   "cell_type": "code",
   "execution_count": 5,
   "metadata": {},
   "outputs": [
    {
     "name": "stdout",
     "output_type": "stream",
     "text": [
      "[41, 42, 43, 44, 45, 46, 47]\n"
     ]
    }
   ],
   "source": [
    "teens = list(range(13, 20))\n",
    "average_teen_parent_ages = []\n",
    "for teen in teens:\n",
    "    # print(f'teen: {teen},')\n",
    "    average_parent_age = teen + 28\n",
    "    average_teen_parent_ages.append(average_parent_age)\n",
    "print(average_teen_parent_ages)"
   ]
  },
  {
   "cell_type": "code",
   "execution_count": 8,
   "metadata": {},
   "outputs": [
    {
     "data": {
      "text/plain": [
       "[41, 42, 43, 44, 45, 46, 47]"
      ]
     },
     "execution_count": 8,
     "metadata": {},
     "output_type": "execute_result"
    }
   ],
   "source": [
    "# This is called a list comprehension.\n",
    "average_teen_parent_ages = [teen + 28 for teen in teens]\n",
    "average_teen_parent_ages"
   ]
  },
  {
   "cell_type": "code",
   "execution_count": 10,
   "metadata": {},
   "outputs": [
    {
     "name": "stdout",
     "output_type": "stream",
     "text": [
      "45\n",
      "[45, 46, 47]\n"
     ]
    }
   ],
   "source": [
    "# Prof uses this 5 times a day every day.\n",
    "# Selecting elements from a list.\n",
    "print(average_teen_parent_ages[4])\n",
    "\n",
    "print(average_teen_parent_ages[4:7])"
   ]
  },
  {
   "cell_type": "code",
   "execution_count": 16,
   "metadata": {},
   "outputs": [
    {
     "name": "stdout",
     "output_type": "stream",
     "text": [
      "[45, 46, 47]\n",
      "[41, 42, 43, 44, 45, 46, 47]\n"
     ]
    }
   ],
   "source": [
    "desired_list = [average_teen_parent_ages[4], average_teen_parent_ages[5], average_teen_parent_ages[6]]\n",
    "print(desired_list)\n",
    "\n",
    "print(average_teen_parent_ages)"
   ]
  },
  {
   "cell_type": "code",
   "execution_count": 18,
   "metadata": {},
   "outputs": [
    {
     "name": "stdout",
     "output_type": "stream",
     "text": [
      "[45, 46]\n"
     ]
    }
   ],
   "source": [
    "print(desired_list[0:2])"
   ]
  },
  {
   "cell_type": "code",
   "execution_count": 30,
   "metadata": {},
   "outputs": [
    {
     "name": "stdout",
     "output_type": "stream",
     "text": [
      "[41, 42, 43, 44, 45, 46, 47]\n",
      "[44, 45, 46]\n",
      "[44, 45, 46, 47]\n",
      "[41, 42, 43, 44, 45]\n",
      "47\n",
      "[]\n",
      "[41, 42, 43]\n",
      "[44, 45, 46, 47]\n",
      "[41]\n"
     ]
    }
   ],
   "source": [
    "\n",
    "print(average_teen_parent_ages)\n",
    "print(average_teen_parent_ages[3:6])\n",
    "print(average_teen_parent_ages[3:])\n",
    "print(average_teen_parent_ages[:5])\n",
    "print(average_teen_parent_ages[-1])\n",
    "print(average_teen_parent_ages[-4:-7]) # It is empty because the negatives are in the wrong place.\n",
    "# When we are using negatives we need to go backwords.\n",
    "print(average_teen_parent_ages[-7:-4])\n",
    "print(average_teen_parent_ages[-4:])\n",
    "print(average_teen_parent_ages[:-6])"
   ]
  },
  {
   "cell_type": "code",
   "execution_count": 45,
   "metadata": {},
   "outputs": [
    {
     "name": "stdout",
     "output_type": "stream",
     "text": [
      "['pizza', 'falafel', 'carrot cake']\n",
      "['pizza', 'falafel', 'carrot cake']\n",
      "['pizza', 'wrapped grape leaves', 'carrot cake']\n",
      "['pizza', 'falafel', 'carrot cake']\n"
     ]
    }
   ],
   "source": [
    "my_foods = ['pizza', 'falafel', 'carrot cake']\n",
    "friend_foods = my_foods[:]\n",
    "\n",
    "print(my_foods)\n",
    "print(friend_foods)\n",
    "\n",
    "my_foods[1] = 'wrapped grape leaves'\n",
    "print(my_foods)\n",
    "print(friend_foods)\n"
   ]
  },
  {
   "cell_type": "code",
   "execution_count": 41,
   "metadata": {},
   "outputs": [
    {
     "name": "stdout",
     "output_type": "stream",
     "text": [
      "['pizza', 'wrapped grape leaves', 'carrot cake']\n",
      "['pizza', 'falafel', 'carrot cake']\n"
     ]
    }
   ],
   "source": [
    "\n"
   ]
  },
  {
   "cell_type": "code",
   "execution_count": null,
   "metadata": {},
   "outputs": [],
   "source": []
  }
 ],
 "metadata": {
  "kernelspec": {
   "display_name": "Python 3",
   "language": "python",
   "name": "python3"
  },
  "language_info": {
   "codemirror_mode": {
    "name": "ipython",
    "version": 3
   },
   "file_extension": ".py",
   "mimetype": "text/x-python",
   "name": "python",
   "nbconvert_exporter": "python",
   "pygments_lexer": "ipython3",
   "version": "3.11.5"
  },
  "orig_nbformat": 4
 },
 "nbformat": 4,
 "nbformat_minor": 2
}
