{
  "metadata": {
    "language_info": {
      "codemirror_mode": {
        "name": "python",
        "version": 3
      },
      "file_extension": ".py",
      "mimetype": "text/x-python",
      "name": "python",
      "nbconvert_exporter": "python",
      "pygments_lexer": "ipython3",
      "version": "3.8"
    },
    "kernelspec": {
      "name": "python",
      "display_name": "Python (Pyodide)",
      "language": "python"
    }
  },
  "nbformat_minor": 4,
  "nbformat": 4,
  "cells": [
    {
      "cell_type": "markdown",
      "source": "**Introducing while Loops**\n\nThe for loop takes a collection of items and executes a block fo code once for each item in the collection. In contarst, the while loop runs as long as, or <em>while</em>, a certain condition is true.",
      "metadata": {}
    },
    {
      "cell_type": "markdown",
      "source": "The while Loop in Action\n\nYou can use a while loop to count up through a series of numbers. ",
      "metadata": {}
    },
    {
      "cell_type": "code",
      "source": "current_number = 1\nwhile current_number <= 5:\n    print(current_number)\n    current_number += 1",
      "metadata": {
        "trusted": true
      },
      "execution_count": 1,
      "outputs": [
        {
          "name": "stdout",
          "text": "1\n2\n3\n4\n5\n",
          "output_type": "stream"
        }
      ]
    },
    {
      "cell_type": "markdown",
      "source": "In the first line, we start counting from 1 by setting the value of current_number to 1. The while loop is then set to keep running as long as the value of current_number is less than or equal to 5. The code inside the loop prints the value of current_number and then adds 1 to that value with current_number += 1. <em>(The += operator is shorthand for current_number = current_number + 1.)</em>\n\nPython repeats the loop as long as the condition current_number <= 5 is true. Because 1 is less than 5, Python prints 1 and then adds 1, making the current number 2. Because 2 is less than 5, Python prints 2 and adds 1 again, making the current number 3, and so on. Once the value of current_number is greater than 5, the loop stops running and the program ends.\n",
      "metadata": {}
    },
    {
      "cell_type": "markdown",
      "source": "**Letting the User Choose When to Quit**\n\nWe can set up the program so that it runs as long as the user wants by putting most of the program inside a while loop. We'll define a <em>quit value</em> and then keep the program running as long as the user has not entered the quite value.",
      "metadata": {}
    },
    {
      "cell_type": "code",
      "source": "# The code here works.\n# However, we are not going to run it as it would cause an\n# infinite loop. So I have commented out the while function.\n\n# This program would keep running until a user entered 'quit'\n# then it would print 'quit' and then stop running.\n\nprompt = \"\\nTell me something, and I will repeat it back to you:\"\npromt += \"\\nEnter 'quit' to end the program. \"\n\nmessage = \"\"\n#while message != 'quit':\n    message = input(prompt)\n    print(message)",
      "metadata": {},
      "execution_count": null,
      "outputs": []
    },
    {
      "cell_type": "markdown",
      "source": "In the beginning of the above program. We define a prompt that tells the user their two options: entering a message or entering the quit value (in this case, 'quit'). \n\nThen we set up a variable called 'message' to store whatever value the user enters. We define message as an empty string, \"\", so Python has something to check the first time it reaches the while line. The first time the program runs and Python reaches the while statement, it needs to compare the value of message to 'quit', but no user input has been entered yet. If python has nothing to compare, it won't be able to continue running the program. to solve this problem, we make sure to give message an initial value. Although it's just an empty string, it will make sense to Python and allow it to perform the comparison that makes the while loop work. This while loop runs as long as the value of message is not 'quit'.\n\nThe first time through the loop, message is just an empty string, so Python enters the loop. At message = input(prompt), Python displays the prompt and waits for the user to enter their input. Whatever they enter is stored in message and printed; then, Python reevaluates the condition in the while statement. As long as the user has not entered the word 'quit', the prompt is displayed again and Python waits for more input. When the user finally enters 'quit', Python stops executing the while loop and the program ends.",
      "metadata": {}
    },
    {
      "cell_type": "markdown",
      "source": "The program above works well, except that it prints the word 'quit' as if it were an actual message. A simple if test fices this.",
      "metadata": {}
    },
    {
      "cell_type": "code",
      "source": "# While intentionally commented out to avoid infinite loop in jupyternb.\n\nprompt = \"\\nTell me something, and I will repeat it back to you:\"\npromt += \"\\nEnter 'quit' to end the program. \"\n\nmessage = \"\"\n#while message != 'quit':\n    message = input(prompt)\n    print(message)\n# By running this if test we can check if the value \n# is not equal to 'quit'. \n# If it is not equal the message continues to print.\n    if message != 'quit':\n        print(message)",
      "metadata": {},
      "execution_count": null,
      "outputs": []
    },
    {
      "cell_type": "code",
      "source": "# input(promt) in while loop is commented out to avoid infinite loop.\n# we use a counter to run the while loop to a stopping point.\n# In this case while counter is less than or equal to 3 the loops runs.\nprompt = \"\\nTell me something, and I will repeat it back to you:\"\nprompt += \"\\nEnter 'quit' to end the program.\"\n# Prints 'Ho!' 3 times.\nmessage = \"\"\ncounter = 0\nwhile message != 'quit' and counter <= 3:\n    #message = input(prompt)\n    message = 'Ho!'\n    counter += 1\n    if message != 'quit' and counter <= 3:\n        print(message)\n        \n    if counter == 3:\n        print(\"Merry Christmas!\")",
      "metadata": {
        "trusted": true
      },
      "execution_count": 8,
      "outputs": [
        {
          "name": "stdout",
          "text": "Ho!\nHo!\nHo!\nMerry Christmas!\n",
          "output_type": "stream"
        }
      ]
    },
    {
      "cell_type": "code",
      "source": "",
      "metadata": {},
      "execution_count": null,
      "outputs": []
    }
  ]
}