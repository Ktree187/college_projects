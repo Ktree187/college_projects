{
  "metadata": {
    "language_info": {
      "codemirror_mode": {
        "name": "python",
        "version": 3
      },
      "file_extension": ".py",
      "mimetype": "text/x-python",
      "name": "python",
      "nbconvert_exporter": "python",
      "pygments_lexer": "ipython3",
      "version": "3.8"
    },
    "kernelspec": {
      "name": "python",
      "display_name": "Python (Pyodide)",
      "language": "python"
    }
  },
  "nbformat_minor": 4,
  "nbformat": 4,
  "cells": [
    {
      "cell_type": "code",
      "source": "print(\"To see input() run entirely correctly use in different IDE.\")\nprint(\"You will notice that in this document the user entry box will only\\nreceive the value and display it inline.\\nIt will not appear in print statements.\")",
      "metadata": {
        "trusted": true
      },
      "execution_count": 9,
      "outputs": [
        {
          "name": "stdout",
          "text": "To see input() run entirely correctly use in different IDE.\nYou will notice that in this document the user entry box will only\nreceive the value and display it inline.\nIt will not appear in print statements.\n",
          "output_type": "stream"
        }
      ]
    },
    {
      "cell_type": "markdown",
      "source": "**<em>The input() function</em>**\n\nThe input() function pauses your program and waits for the user to enter some text. Once Python receives the user's input, it stores it in a variable to make it convenient for you to work with.\n",
      "metadata": {}
    },
    {
      "cell_type": "code",
      "source": "message = input(\"Tell me something, and I will repeat it back to you: \")\nprint(message)",
      "metadata": {
        "trusted": true
      },
      "execution_count": 7,
      "outputs": [
        {
          "name": "stdout",
          "text": "<PyodideFuture pending cb=[WebLoop._decrement_in_progress()]>\n",
          "output_type": "stream"
        },
        {
          "output_type": "stream",
          "name": "stdin",
          "text": "Tell me something, and I will repeat it back to you:  Hello\n"
        }
      ]
    },
    {
      "cell_type": "markdown",
      "source": "NOTE: Each time you use the <em>input()</em> function, you should include a clear, easy-to-follow prompt that tells the user exactly what kind of information you're looking for.",
      "metadata": {}
    },
    {
      "cell_type": "code",
      "source": "# Example of a clear user prompt. \n# This is also only one line.\nname = input(\"Please enter your name: \")\nprint(\"Hello, \" + name + \"!\")",
      "metadata": {
        "trusted": true
      },
      "execution_count": 10,
      "outputs": [
        {
          "ename": "<class 'TypeError'>",
          "evalue": "can only concatenate str (not \"PyodideFuture\") to str",
          "traceback": [
            "\u001b[0;31m---------------------------------------------------------------------------\u001b[0m",
            "\u001b[0;31mTypeError\u001b[0m                                 Traceback (most recent call last)",
            "Cell \u001b[0;32mIn[10], line 3\u001b[0m\n\u001b[1;32m      1\u001b[0m \u001b[38;5;66;03m# Example of a clear user prompt.\u001b[39;00m\n\u001b[1;32m      2\u001b[0m name \u001b[38;5;241m=\u001b[39m \u001b[38;5;28minput\u001b[39m(\u001b[38;5;124m\"\u001b[39m\u001b[38;5;124mPlease enter your name: \u001b[39m\u001b[38;5;124m\"\u001b[39m)\n\u001b[0;32m----> 3\u001b[0m \u001b[38;5;28mprint\u001b[39m(\u001b[38;5;124;43m\"\u001b[39;49m\u001b[38;5;124;43mHello, \u001b[39;49m\u001b[38;5;124;43m\"\u001b[39;49m\u001b[43m \u001b[49m\u001b[38;5;241;43m+\u001b[39;49m\u001b[43m \u001b[49m\u001b[43mname\u001b[49m \u001b[38;5;241m+\u001b[39m \u001b[38;5;124m\"\u001b[39m\u001b[38;5;124m!\u001b[39m\u001b[38;5;124m\"\u001b[39m)\n",
            "\u001b[0;31mTypeError\u001b[0m: can only concatenate str (not \"PyodideFuture\") to str"
          ],
          "output_type": "error"
        },
        {
          "output_type": "stream",
          "name": "stdin",
          "text": "Please enter your name:  John\n"
        }
      ]
    },
    {
      "cell_type": "code",
      "source": "# Write a promt for an input function that is longer than one line.\n# This is a prompt with more than 1 line.\n# You can store your prompt in a variable and pass that\nprompt = \"If you tell us your name, we can write you a personal message. \"\nprompt += \"\\nWhat is your first name?\"\n\nname = input(prompt)\nprint(\"\\nHello\" + name + \"!\")",
      "metadata": {
        "trusted": true
      },
      "execution_count": 5,
      "outputs": [
        {
          "ename": "<class 'TypeError'>",
          "evalue": "can only concatenate str (not \"PyodideFuture\") to str",
          "traceback": [
            "\u001b[0;31m---------------------------------------------------------------------------\u001b[0m",
            "\u001b[0;31mTypeError\u001b[0m                                 Traceback (most recent call last)",
            "Cell \u001b[0;32mIn[5], line 6\u001b[0m\n\u001b[1;32m      3\u001b[0m prompt \u001b[38;5;241m+\u001b[39m\u001b[38;5;241m=\u001b[39m \u001b[38;5;124m\"\u001b[39m\u001b[38;5;130;01m\\n\u001b[39;00m\u001b[38;5;124mWhat is your name?\u001b[39m\u001b[38;5;124m\"\u001b[39m\n\u001b[1;32m      5\u001b[0m name \u001b[38;5;241m=\u001b[39m \u001b[38;5;28minput\u001b[39m(prompt)\n\u001b[0;32m----> 6\u001b[0m \u001b[38;5;28mprint\u001b[39m(\u001b[38;5;124;43m\"\u001b[39;49m\u001b[38;5;130;43;01m\\n\u001b[39;49;00m\u001b[38;5;124;43mHello\u001b[39;49m\u001b[38;5;124;43m\"\u001b[39;49m\u001b[43m \u001b[49m\u001b[38;5;241;43m+\u001b[39;49m\u001b[43m \u001b[49m\u001b[43mname\u001b[49m \u001b[38;5;241m+\u001b[39m \u001b[38;5;124m\"\u001b[39m\u001b[38;5;124m!\u001b[39m\u001b[38;5;124m\"\u001b[39m)\n",
            "\u001b[0;31mTypeError\u001b[0m: can only concatenate str (not \"PyodideFuture\") to str"
          ],
          "output_type": "error"
        },
        {
          "output_type": "stream",
          "name": "stdin",
          "text": "If you tell us your name, we can write you a personal message. \nWhat is your name? Keller\n"
        }
      ]
    },
    {
      "cell_type": "markdown",
      "source": "When you use the input() function. Python interprets everything the user enters as a string. If you enter 1 into a input() it would generate the string-value '1'. If you want to use this as a number it would not work as it is a string.\n\nWe can alter input() by passing the int() function around the input() function itsel OR we can use the int() around the variable assigned with input() on a new line.",
      "metadata": {}
    },
    {
      "cell_type": "code",
      "source": "#age = input(\"How old are you? \")\n#age\n# print(int(age)) 'commented this line out as input doesn't work in notebook.\nageString = '30'\nageNumber = int(ageString)\n\nprint(f\"The age in the string is {ageString}.\")\n\n# ageString >= 18 would produce a TypeError.\n# ageSting + 2 would produce a TypeError.\n# Use strings as numbers for calculations, we need to conver them to numbers.\n# Then once converted we can use them as numbers.\n\nprint(2 + ageNumber) # This works as ageNumber is a number.\n\n# By converting to a number we can run more conditional tests.",
      "metadata": {
        "trusted": true
      },
      "execution_count": 26,
      "outputs": [
        {
          "name": "stdout",
          "text": "The age in the string is 30.\n32\n",
          "output_type": "stream"
        }
      ]
    },
    {
      "cell_type": "code",
      "source": "# Consider a program that determines whether people are tall enough \n# to ride a rolleroaster.\n\nheight = input(\"How tall are you, in inches? \")\nheight = int(height)\n\nif height >= 36:\n    print(\"\\nYou're tall enough to ride!\")\nelse:\n    print(\"\\nYou'll be able to ride when you're a little older.\")\n\n# The program can compare height to 36 because height = int(height) \n# converts the input value to a numerical representation before \n# the comparison is made.\n",
      "metadata": {
        "trusted": true
      },
      "execution_count": 27,
      "outputs": [
        {
          "ename": "<class 'SyntaxError'>",
          "evalue": "'(' was never closed (<ipython-input-27-a61f8e398a52>, line 4)",
          "traceback": [
            "\u001b[0;36m  Cell \u001b[0;32mIn[27], line 4\u001b[0;36m\u001b[0m\n\u001b[0;31m    height = input(\"How tall are you, in inches? \"\u001b[0m\n\u001b[0m                  ^\u001b[0m\n\u001b[0;31mSyntaxError\u001b[0m\u001b[0;31m:\u001b[0m '(' was never closed\n"
          ],
          "output_type": "error"
        }
      ]
    },
    {
      "cell_type": "markdown",
      "source": "When you use numerical input to do calculations and comparisons, be sure to covnert the input value to a numerical representation first.",
      "metadata": {}
    },
    {
      "cell_type": "markdown",
      "source": "**The Modulo operator**\nA useful tool for working with numerical information is the <em>modulo operator (%)</em>, which divides one number by anothern number and returns the remainder.",
      "metadata": {}
    },
    {
      "cell_type": "code",
      "source": "# The modulo operator doesn't tell you how many times one number fits\n# into a nother; it just tells you what the remainder is.\nprint(\"4 % 3 =\", 4 % 3, \"\\n\")\nprint(\"5 % 3 =\", 5 % 3, \"\\n\")\nprint(\"6 % 3 =\", 6 % 3, \"\\n\")\nprint(\"7 % 3 =\", 7 % 3, \"\\n\")",
      "metadata": {
        "trusted": true
      },
      "execution_count": 35,
      "outputs": [
        {
          "name": "stdout",
          "text": "4 % 3 = 1 \n\n5 % 3 = 2 \n\n6 % 3 = 0 \n\n7 % 3 = 1 \n\n",
          "output_type": "stream"
        }
      ]
    },
    {
      "cell_type": "markdown",
      "source": "When one number is divisible by another number, the remainder is 0,\nso the modulo operator always returns 0. You can use this fact to determine if a number is even or odd.\n\nEven numbers are always divisble by two, so if the modulo of a number and two is zero (here, if number % 2 == 0) the number is even. Otherwise, it's odd.",
      "metadata": {}
    },
    {
      "cell_type": "code",
      "source": "# Input() won't work in jupyternotebook. But this code is the code.\nnumber = input(\"Enter a number, and I'll tell you if it's even or odd: \")\nnumber = int(number)\n\nif number % 2 == 0:\n    print(\"\\nThe number \" + str(nuber) + \" even.\")\nelse:\n    print(\"\\nThe number \" + str(nuber) + \" odd.\") ",
      "metadata": {},
      "execution_count": null,
      "outputs": []
    },
    {
      "cell_type": "markdown",
      "source": "**Try It Yourself** \n\n7-1. Rental Car: Write a program that asks the user what kind of rental car they would like. Print a message about that car, such as “Let me see if I can find you a Subaru.”\n\n7-2. Restaurant Seating: Write a program that asks the user how many people are in their dinner group. If the answer is more than eight, print a message saying they’ll have to wait for a table. Otherwise, report that their table is ready.\n\n7-3. Multiples of Ten: Ask the user for a number, and then report whether the number is a multiple of 10 or not.\n",
      "metadata": {}
    },
    {
      "cell_type": "code",
      "source": "# 7-1. Rental Car.\ncar = input(\"What kind of rental car would you like? \")\nprint(f\"Let me see if I can find you a {car}.\")",
      "metadata": {
        "trusted": true
      },
      "execution_count": 36,
      "outputs": [
        {
          "name": "stdout",
          "text": "Let me see if I can find you a <PyodideFuture pending cb=[WebLoop._decrement_in_progress()]>.\n",
          "output_type": "stream"
        },
        {
          "output_type": "stream",
          "name": "stdin",
          "text": "What kind of rental car would you like?  Jeep\n"
        }
      ]
    },
    {
      "cell_type": "code",
      "source": "car = 'Jeep'\nprint(f\"Let me see if I can find you a {car}.\")",
      "metadata": {
        "trusted": true
      },
      "execution_count": 38,
      "outputs": [
        {
          "name": "stdout",
          "text": "Let me see if I can find you a Jeep.\n",
          "output_type": "stream"
        }
      ]
    },
    {
      "cell_type": "code",
      "source": "# 7-2. Restaurant Seating.\n\ndinner_group_size = int(input())\n\nif dinner_group_size > 8:\n    print(\"You will have to wait for a table.\")\nelse:\n    print(\"Your table is ready.\")",
      "metadata": {},
      "execution_count": null,
      "outputs": []
    },
    {
      "cell_type": "code",
      "source": "dinner_group_size = 6\n# dinner_group_size = 10\nif dinner_group_size > 8:\n    print(\"You will have to wait for a table.\")\nelse:\n    print(\"Your table is ready.\")",
      "metadata": {
        "trusted": true
      },
      "execution_count": 41,
      "outputs": [
        {
          "name": "stdout",
          "text": "Your table is ready.\n",
          "output_type": "stream"
        }
      ]
    },
    {
      "cell_type": "code",
      "source": "# 7-3. Multiples of Ten.\nnumber = int(input())\n\nif number % 10 == 0:\n    print(f\"{number} is a multiple of 10.\")\nelse:\n    print(f\"{number} is not a multiple of 10.\")\n",
      "metadata": {},
      "execution_count": null,
      "outputs": []
    },
    {
      "cell_type": "code",
      "source": "number = 100\n#number = 99\n#number = 10\n#number = 19\n\nif number % 10 == 0:\n    print(f\"{number} is a multiple of 10.\")\nelse:\n    print(f\"{number} is not a multiple of 10.\")",
      "metadata": {
        "trusted": true
      },
      "execution_count": 49,
      "outputs": [
        {
          "name": "stdout",
          "text": "100 is a multiple of 10.\n",
          "output_type": "stream"
        }
      ]
    },
    {
      "cell_type": "code",
      "source": "",
      "metadata": {},
      "execution_count": null,
      "outputs": []
    }
  ]
}