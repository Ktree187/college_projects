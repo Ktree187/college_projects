{
 "cells": [
  {
   "cell_type": "markdown",
   "metadata": {},
   "source": [
    "Exercise 6-7:"
   ]
  },
  {
   "cell_type": "code",
   "execution_count": 2,
   "metadata": {},
   "outputs": [
    {
     "name": "stdout",
     "output_type": "stream",
     "text": [
      "First Name: Jim\n",
      "Last Name: Raynor\n",
      "Age: 52\n",
      "City: Seattle\n",
      "\n",
      "\n",
      "First Name: Stacey\n",
      "Last Name: Bishop\n",
      "Age: 30\n",
      "City: Madison\n",
      "\n",
      "\n",
      "First Name: Brandon\n",
      "Last Name: Crown\n",
      "Age: 45\n",
      "City: San Francisco\n",
      "\n",
      "\n"
     ]
    }
   ],
   "source": [
    "# 6-7. People.\n",
    "\n",
    "person1 = {\n",
    "    'first_name': 'jim',\n",
    "    'last_name': 'raynor',\n",
    "    'age': '52',\n",
    "    'city': 'seattle',\n",
    "    }\n",
    "person2 = {\n",
    "    'first_name': 'stacey',\n",
    "    'last_name': 'bishop',\n",
    "    'age': '30',\n",
    "    'city': 'madison',\n",
    "    }\n",
    "\n",
    "person3 = {\n",
    "    'first_name': 'brandon',\n",
    "    'last_name': 'crown',\n",
    "    'age': '45',\n",
    "    'city': 'san francisco',\n",
    "    }\n",
    "\n",
    "people = [person1, person2, person3]\n",
    "\n",
    "# Loops through people, printing out the name and lists all information about the person.\n",
    "\n",
    "for person in people:\n",
    "    print(f\"First Name: \" + person['first_name'].title())\n",
    "    print(f\"Last Name: \" + person['last_name'].title())\n",
    "    print(f\"Age: \" + person['age']) \n",
    "    print(f\"City: \" + person['city'].title())\n",
    "# Adding new line \"\\n\" at the end of each loop for output visibility.\n",
    "    print(\"\\n\") "
   ]
  },
  {
   "cell_type": "markdown",
   "metadata": {},
   "source": [
    "Exercise 6-9:"
   ]
  },
  {
   "cell_type": "code",
   "execution_count": 6,
   "metadata": {},
   "outputs": [
    {
     "name": "stdout",
     "output_type": "stream",
     "text": [
      "Aria's favorite place is Potato Falls.\n",
      "Keller's favorite place is The Pacific Northwest Region.\n",
      "Jules's favorite place is Seattle.\n"
     ]
    }
   ],
   "source": [
    "# 6.9 Favorite Places.\n",
    "\n",
    "favorite_places = {\n",
    "    'aria': 'potato falls',\n",
    "    'keller': 'the pacific northwest Region',\n",
    "    'jules': 'seattle',\n",
    "    }\n",
    "\n",
    "for name, place in favorite_places.items():\n",
    "    print(f\"{name.title()}'s favorite place is {place.title()}.\")"
   ]
  },
  {
   "cell_type": "markdown",
   "metadata": {},
   "source": [
    "Exercise 6-11:"
   ]
  },
  {
   "cell_type": "code",
   "execution_count": 33,
   "metadata": {},
   "outputs": [
    {
     "name": "stdout",
     "output_type": "stream",
     "text": [
      "Madison is a city in Wisconsin.\n",
      "Madison has a population of around 269,196 people.\n",
      "A fun fact about Madison would be that Madison is the capitol of Wisconsin. \n",
      "\n",
      "Rockford is a city in Illinois.\n",
      "Rockford has a population of around 147,711 people.\n",
      "A fun fact about Rockford would be that Rockford was once known as the 'Screw Capital of the World' because of the billions of screws, bolts, and fasteners its factories produced for the manufacturers of the world. \n",
      "\n",
      "Seattle is a city in Washington.\n",
      "Seattle has a population of around 749,256 people.\n",
      "A fun fact about Seattle would be that you can rent hot tub boats and cruise around the Puget Sound in a hot tub. \n",
      "\n"
     ]
    }
   ],
   "source": [
    "# 6-11. Cities:\n",
    "\n",
    "cities = {\n",
    "    'madison': {\n",
    "        'state': 'wisconsin',\n",
    "        'population': '269,196',\n",
    "        'fact': \"Madison is the capitol of Wisconsin.\",\n",
    "        },\n",
    "    \n",
    "    'rockford': {\n",
    "        'state': 'illinois',\n",
    "        'population': '147,711',\n",
    "        'fact': \"Rockford was once known as the 'Screw Capital of the World' because of the billions of screws, bolts, and fasteners its factories produced for the manufacturers of the world.\"\n",
    "        },\n",
    "\n",
    "    'seattle': {\n",
    "        'state': 'washington',\n",
    "        'population': '749,256',\n",
    "        'fact': \"you can rent hot tub boats and cruise around the Puget Sound in a hot tub.\"      \n",
    "        },\n",
    "        }\n",
    "\n",
    "for city, info in cities.items():\n",
    "    state = info['state']\n",
    "    population = info['population']\n",
    "    fact = info['fact']\n",
    "    print(f\"{city.title()} is a city in {state.title()}.\\n{city.title()} has a population of around {population} people.\\nA fun fact about {city.title()} would be that {fact} \\n\")"
   ]
  },
  {
   "cell_type": "code",
   "execution_count": null,
   "metadata": {},
   "outputs": [],
   "source": []
  }
 ],
 "metadata": {
  "kernelspec": {
   "display_name": "Python 3.7.8 64-bit",
   "language": "python",
   "name": "python3"
  },
  "language_info": {
   "codemirror_mode": {
    "name": "ipython",
    "version": 3
   },
   "file_extension": ".py",
   "mimetype": "text/x-python",
   "name": "python",
   "nbconvert_exporter": "python",
   "pygments_lexer": "ipython3",
   "version": "3.11.6"
  },
  "orig_nbformat": 4,
  "vscode": {
   "interpreter": {
    "hash": "0a54084e6b208ee8d1ce3989ffc20924477a5f55f5a43e22e699a6741623861e"
   }
  }
 },
 "nbformat": 4,
 "nbformat_minor": 2
}
