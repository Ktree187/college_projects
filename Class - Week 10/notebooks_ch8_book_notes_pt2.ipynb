{
  "metadata": {
    "language_info": {
      "codemirror_mode": {
        "name": "python",
        "version": 3
      },
      "file_extension": ".py",
      "mimetype": "text/x-python",
      "name": "python",
      "nbconvert_exporter": "python",
      "pygments_lexer": "ipython3",
      "version": "3.8"
    },
    "kernelspec": {
      "name": "python",
      "display_name": "Python (Pyodide)",
      "language": "python"
    }
  },
  "nbformat_minor": 4,
  "nbformat": 4,
  "cells": [
    {
      "cell_type": "markdown",
      "source": "<em>**Passing Arguments**</em>\n\nBecause a function definition can have multiple parameters, a function call may need multiple arguments. You can pass arguments to your functions in a number of ways. You can use <em>positional arguments</em>, which need to be in the same order the parameters were written; <em>keyword arguments</em>, where each argument consists of a variable name and a value; and lists and dictionaries of values. Let's look at each of these in turn.",
      "metadata": {}
    },
    {
      "cell_type": "markdown",
      "source": "<em>**Positional Arguments**</em>\n\nWhen you call a function, Python must match each argument in the function call with a parameter in the function definition. The simplest way to do this is based on the order of the arguments provided. Values matched up this way are called <em>positional arguments</em>.\n\nTo see how this works, consider a function that displays information about pets.",
      "metadata": {}
    },
    {
      "cell_type": "code",
      "source": "# This function tells us what kind of animal each pet is and their name.\ndef describe_pet(animal_type, pet_name):\n    \"\"\"Display information about a pet.\"\"\"\n    print(\"\\nI have a \" + animal_type + \".\")\n    print(\"My \" + animal_type + \"'s name is \" + pet_name.title() + \"'.\")\n\n# Since we are using positional arguments \n# use the parameters in order when you are passing arguments to the function\ndescribe_pet('hamster', 'harry')",
      "metadata": {
        "trusted": true
      },
      "execution_count": 1,
      "outputs": [
        {
          "name": "stdout",
          "text": "\nI have a hamster.\nMy hamster's name is Harry'.\n",
          "output_type": "stream"
        }
      ]
    },
    {
      "cell_type": "markdown",
      "source": "The definition shows that this function needs a type of animal and the animal's name. When we call describe_pet(), we need to provide an animal type and a name, in that order. For example, in the function call, the argument 'hamster' is stored in the parameter animal_type and the argument 'harry' is stored in the parameter pet_name. In the function body, these two parameters are used to display information about the pet being described.\n\nThe output describes a hamser named Harry.",
      "metadata": {}
    },
    {
      "cell_type": "markdown",
      "source": "<em>**Multiple Function Calls**</em>\n\nYou can call a function as many times as needed. Describing a second, different pet requires just one more call to describe_pet():",
      "metadata": {}
    },
    {
      "cell_type": "code",
      "source": "# This function tells us what kind of animal each pet is and their name.\ndef describe_pet(animal_type, pet_name):\n    \"\"\"Display information about a pet.\"\"\"\n    print(\"\\nI have a \" + animal_type + \".\")\n    print(\"My \" + animal_type + \"'s name is \" + pet_name.title() + \"'.\")\n\n# Since we are using positional arguments \n# use the parameters in order when you are passing arguments to the function\ndescribe_pet('hamster', 'harry')\n# calls the describe_pet function again to print out a second result.\ndescribe_pet('dog', 'willie')",
      "metadata": {
        "trusted": true
      },
      "execution_count": 2,
      "outputs": [
        {
          "name": "stdout",
          "text": "\nI have a hamster.\nMy hamster's name is Harry'.\n\nI have a dog.\nMy dog's name is Willie'.\n",
          "output_type": "stream"
        }
      ]
    },
    {
      "cell_type": "markdown",
      "source": "In this second function call, we pass describe_pet() the arguments 'dog' and 'willie'. As with the previous set of arguments we used, Python matches 'dog' with the parameter animal_type and 'willie' with the parameter pet_name. As before the function does its job, but this time it prints values for a dog named Willie. Now we have a hamster named Harry and a dog named Willie.\n\nCalling a function multiple times is a very efficient way to work. The code describing pet is written once in the function. Then, anytime you want to describe a new pet, you call the function with the new pet's information. Even if the code for describing a pet were to expand to ten lines, you could still decribe a new pet in just one line by calling the function again.\n\nYou can use as many positional arguments as you need in your functions. Python works through the arguments you provide when calling the function and matches each one with the corresponding parameter in the function's definition.",
      "metadata": {}
    },
    {
      "cell_type": "markdown",
      "source": "**Order Matters in Position Arguments**\n\nYou can get unexpected results if you mix up the order of the arguments in a function call when using positional arguments.",
      "metadata": {}
    },
    {
      "cell_type": "code",
      "source": "def describe_pet(animal_type, pet_name):\n    \"\"\"Display information about a pet.\"\"\"\n    print(\"\\nI have a \" + animal_type + \".\")\n    print(\"My \" + animal_type + \"'s name is \" + pet_name.title() + \".\")\n# Position arguments out of order can mess up information displays.\ndescribe_pet('harry', 'hamster')",
      "metadata": {
        "trusted": true
      },
      "execution_count": 5,
      "outputs": [
        {
          "name": "stdout",
          "text": "\nI have a harry.\nMy harry's name is Hamster.\n",
          "output_type": "stream"
        }
      ]
    },
    {
      "cell_type": "markdown",
      "source": "In this function call we list the name first and the type of animal second. Because the argument 'harry' is listed first this time, that value is stored in the parameter animal_type. Likewise, 'hamser' is stored in pet_name. Now we have a \"harry\" named \"Hamster\".\n\nIf you get funny results like this, check to make sure the order of the arguments in your function call matches the order of the parameters in the function's definition.",
      "metadata": {}
    },
    {
      "cell_type": "markdown",
      "source": "<em>**Keyword Arguments**</em>\n\nA <em>keyword argument</em> is a name-value pair that you pass to a function. You directly associate the name and the value within the argument, so when you pass the argument to the function, there's no confusion (you won't end up with a harry named Hamster). Keyword arguments free you from having to worry about correctly ordering your arguments in the function call, and they clarify the role of each value in the function call.\n\nLet's rewrite pets.py using keyword arguments to call describe_pet()",
      "metadata": {}
    },
    {
      "cell_type": "code",
      "source": "def describe_pet(animal_type, pet_name):\n    \"\"\"Display information about a pet.\"\"\"\n    print(\"\\nI have a \" + animal_type + \".\")\n    print(\"My \" + animal_type + \"'s name is \" + pet_name.title() + \".\")\n\ndescribe_pet(animal_type='hamster', pet_name='harry')",
      "metadata": {
        "trusted": true
      },
      "execution_count": 6,
      "outputs": [
        {
          "name": "stdout",
          "text": "\nI have a hamster.\nMy hamster's name is Harry.\n",
          "output_type": "stream"
        }
      ]
    },
    {
      "cell_type": "markdown",
      "source": "The function describe_pet() hasn't changed. But when we call the function, we explicitly tell Python which parameter each argument should be matched with. When Python reads the function call, it knows to store the argument 'hamster' in the parameter animal_type and the argument 'harry' in pet_name. The output correctly shows that we have a hamster named Harry.\n\nThe order of keyword arguments doesn't matter because Python knows where each value should go. The following two function calls are equivalent.",
      "metadata": {}
    },
    {
      "cell_type": "code",
      "source": "# With key value pairs the output is proper because Python knows where each value should go.\ndescribe_pet(animal_type='hamster', pet_name='harry')\ndescribe_pet(pet_name='harry', animal_type='hamster')",
      "metadata": {
        "trusted": true
      },
      "execution_count": 8,
      "outputs": [
        {
          "name": "stdout",
          "text": "\nI have a hamster.\nMy hamster's name is Harry.\n\nI have a hamster.\nMy hamster's name is Harry.\n",
          "output_type": "stream"
        }
      ]
    },
    {
      "cell_type": "markdown",
      "source": "<em>**NOTE:** When you use keyword aguments, be sure to use the exact names of the parameters in the function's definition.</em>",
      "metadata": {}
    },
    {
      "cell_type": "markdown",
      "source": "<em>**Default values**</em>\n\nWhen writing a function, you can define a <em>default value</em> for each parameter. If an argument for a parameter is provided in the function call, Python uses the argument value. If not, it uses the parameter's default value. So when you define a default value for a parameter, you can exclude the corresponding argument you'd usually write in the function call. Using default values can simplify your function calls and clarify the ways in which your functions are typically used.\n\nFor example, if you notice that most of the calls to describt_pet() are being used to describe dogs, you can set the default value of animal_type to 'dog'. Now anyone calling describe_pet() for dog can omit that information.",
      "metadata": {}
    },
    {
      "cell_type": "code",
      "source": "# We set the default value for animal type to dog in the function definition.\ndef describe_pet(pet_name, animal_type='dog'):\n    # \"\"\" Display information about a pet. \"\"\" is a docstring, it just tells us what the program does.\n    \"\"\"Display information about a pet.\"\"\"\n    print(\"\\nI have a \" + animal_type + \".\")\n    print(\"My \" + animal_type + \"'s name is \" + pet_name.title() + \".\")\n\n# since dog is a default value in the parameter, we do not have to use pet_type for dog in the function call.\ndescribe_pet(pet_name='willie')\n    ",
      "metadata": {
        "trusted": true
      },
      "execution_count": 10,
      "outputs": [
        {
          "name": "stdout",
          "text": "\nI have a dog.\nMy dog's name is Willie.\n",
          "output_type": "stream"
        }
      ]
    },
    {
      "cell_type": "markdown",
      "source": "We changed the definition of describe_pet() to include a default value, 'dog', for animal_type. Now when the function is called with no animal_type specified, Python knows to use the value 'dog' for this parameter.\n\n**Note that the order of the parameters in the function definition had to be changed.** Because the default values make it unnecessary to specify a type of animal as an argument, the only argument left in the function call is the pet's name. Python still interprets this as a positional argument, so if the function is called with just a pet's name, that argument will match up with the first parameter listed in the function's definition. This is the reason the first parameter needs to be pet_name.\n\nThe simplest way to use this function now is to provide just a dog's name in the function call:",
      "metadata": {}
    },
    {
      "cell_type": "code",
      "source": "describe_pet('willie')",
      "metadata": {
        "trusted": true
      },
      "execution_count": 11,
      "outputs": [
        {
          "name": "stdout",
          "text": "\nI have a dog.\nMy dog's name is Willie.\n",
          "output_type": "stream"
        }
      ]
    },
    {
      "cell_type": "markdown",
      "source": "This function call would have the same output as the previous example. The only argument provided is 'willie', so it is matched up with the first parameter in the definition, pet_name. Because no argument is provided for animal_type, Python uses the default value 'dog'.\n\nTo describe an animal other than a dog, you could use a function call like this:",
      "metadata": {}
    },
    {
      "cell_type": "code",
      "source": "describe_pet(pet_name='harry', animal_type='hamster')",
      "metadata": {
        "trusted": true
      },
      "execution_count": 12,
      "outputs": [
        {
          "name": "stdout",
          "text": "\nI have a hamster.\nMy hamster's name is Harry.\n",
          "output_type": "stream"
        }
      ]
    },
    {
      "cell_type": "markdown",
      "source": "Because an explicit argument for animal_type is provided, Python will ignore the parameter's default value.\n\n<em>**NOTE:** When you use default values, any parameter with a default value needs to be listed after all the parameters that don't have default values. This allows Python to continue interpreting positional arguments correctly.</em>",
      "metadata": {}
    },
    {
      "cell_type": "code",
      "source": "",
      "metadata": {},
      "execution_count": null,
      "outputs": []
    }
  ]
}