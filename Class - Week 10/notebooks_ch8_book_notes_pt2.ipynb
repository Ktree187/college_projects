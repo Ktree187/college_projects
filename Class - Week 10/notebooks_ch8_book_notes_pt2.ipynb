{
  "metadata": {
    "language_info": {
      "codemirror_mode": {
        "name": "python",
        "version": 3
      },
      "file_extension": ".py",
      "mimetype": "text/x-python",
      "name": "python",
      "nbconvert_exporter": "python",
      "pygments_lexer": "ipython3",
      "version": "3.8"
    },
    "kernelspec": {
      "name": "python",
      "display_name": "Python (Pyodide)",
      "language": "python"
    }
  },
  "nbformat_minor": 4,
  "nbformat": 4,
  "cells": [
    {
      "cell_type": "markdown",
      "source": "<em>**Passing Arguments**</em>\n\nBecause a function definition can have multiple parameters, a function call may need multiple arguments. You can pass arguments to your functions in a number of ways. You can use <em>positional arguments</em>, which need to be in the same order the parameters were written; <em>keyword arguments</em>, where each argument consists of a variable name and a value; and lists and dictionaries of values. Let's look at each of these in turn.",
      "metadata": {}
    },
    {
      "cell_type": "markdown",
      "source": "<em>**Positional Arguments**</em>\n\nWhen you call a function, Python must match each argument in the function call with a parameter in the function definition. The simplest way to do this is based on the order of the arguments provided. Values matched up this way are called <em>positional arguments</em>.\n\nTo see how this works, consider a function that displays information about pets.",
      "metadata": {}
    },
    {
      "cell_type": "code",
      "source": "# This function tells us what kind of animal each pet is and their name.\ndef describe_pet(animal_type, pet_name):\n    \"\"\"Display information about a pet.\"\"\"\n    print(\"\\nI have a \" + animal_type + \".\")\n    print(\"My \" + animal_type + \"'s name is \" + pet_name.title() + \"'.\")\n\n# Since we are using positional arguments \n# use the parameters in order when you are passing arguments to the function\ndescribe_pet('hamster', 'harry')",
      "metadata": {
        "trusted": true
      },
      "execution_count": 1,
      "outputs": [
        {
          "name": "stdout",
          "text": "\nI have a hamster.\nMy hamster's name is Harry'.\n",
          "output_type": "stream"
        }
      ]
    },
    {
      "cell_type": "markdown",
      "source": "The definition shows that this function needs a type of animal and the animal's name. When we call describe_pet(), we need to provide an animal type and a name, in that order. For example, in the function call, the argument 'hamster' is stored in the parameter animal_type and the argument 'harry' is stored in the parameter pet_name. In the function body, these two parameters are used to display information about the pet being described.\n\nThe output describes a hamster named Harry.",
      "metadata": {}
    },
    {
      "cell_type": "markdown",
      "source": "<em>**Multiple Function Calls**</em>\n\nYou can call a function as many times as needed. Describing a second, different pet requires just one more call to describe_pet():",
      "metadata": {}
    },
    {
      "cell_type": "code",
      "source": "# This function tells us what kind of animal each pet is and their name.\ndef describe_pet(animal_type, pet_name):\n    \"\"\"Display information about a pet.\"\"\"\n    print(\"\\nI have a \" + animal_type + \".\")\n    print(\"My \" + animal_type + \"'s name is \" + pet_name.title() + \"'.\")\n\n# Since we are using positional arguments \n# use the parameters in order when you are passing arguments to the function\ndescribe_pet('hamster', 'harry')\n# calls the describe_pet function again to print out a second result.\ndescribe_pet('dog', 'willie')",
      "metadata": {
        "trusted": true
      },
      "execution_count": 2,
      "outputs": [
        {
          "name": "stdout",
          "text": "\nI have a hamster.\nMy hamster's name is Harry'.\n\nI have a dog.\nMy dog's name is Willie'.\n",
          "output_type": "stream"
        }
      ]
    },
    {
      "cell_type": "markdown",
      "source": "In this second function call, we pass describe_pet() the arguments 'dog' and 'willie'. As with the previous set of arguments we used, Python matches 'dog' with the parameter animal_type and 'willie' with the parameter pet_name. As before the function does its job, but this time it prints values for a dog named Willie. Now we have a hamster named Harry and a dog named Willie.\n\nCalling a function multiple times is a very efficient way to work. The code describing pet is written once in the function. Then, anytime you want to describe a new pet, you call the function with the new pet's information. Even if the code for describing a pet were to expand to ten lines, you could still decribe a new pet in just one line by calling the function again.\n\nYou can use as many positional arguments as you need in your functions. Python works through the arguments you provide when calling the function and matches each one with the corresponding parameter in the function's definition.",
      "metadata": {}
    },
    {
      "cell_type": "markdown",
      "source": "**Order Matters in Position Arguments**\n\nYou can get unexpected results if you mix up the order of the arguments in a function call when using positional arguments.",
      "metadata": {}
    },
    {
      "cell_type": "code",
      "source": "def describe_pet(animal_type, pet_name):\n    \"\"\"Display information about a pet.\"\"\"\n    print(\"\\nI have a \" + animal_type + \".\")\n    print(\"My \" + animal_type + \"'s name is \" + pet_name.title() + \".\")\n# Position arguments out of order can mess up information displays.\ndescribe_pet('harry', 'hamster')",
      "metadata": {
        "trusted": true
      },
      "execution_count": 5,
      "outputs": [
        {
          "name": "stdout",
          "text": "\nI have a harry.\nMy harry's name is Hamster.\n",
          "output_type": "stream"
        }
      ]
    },
    {
      "cell_type": "markdown",
      "source": "In this function call we list the name first and the type of animal second. Because the argument 'harry' is listed first this time, that value is stored in the parameter animal_type. Likewise, 'hamser' is stored in pet_name. Now we have a \"harry\" named \"Hamster\".\n\nIf you get funny results like this, check to make sure the order of the arguments in your function call matches the order of the parameters in the function's definition.",
      "metadata": {}
    },
    {
      "cell_type": "markdown",
      "source": "<em>**Keyword Arguments**</em>\n\nA <em>keyword argument</em> is a name-value pair that you pass to a function. You directly associate the name and the value within the argument, so when you pass the argument to the function, there's no confusion (you won't end up with a harry named Hamster). Keyword arguments free you from having to worry about correctly ordering your arguments in the function call, and they clarify the role of each value in the function call.\n\nLet's rewrite pets.py using keyword arguments to call describe_pet()",
      "metadata": {}
    },
    {
      "cell_type": "code",
      "source": "def describe_pet(animal_type, pet_name):\n    \"\"\"Display information about a pet.\"\"\"\n    print(\"\\nI have a \" + animal_type + \".\")\n    print(\"My \" + animal_type + \"'s name is \" + pet_name.title() + \".\")\n\ndescribe_pet(animal_type='hamster', pet_name='harry')",
      "metadata": {
        "trusted": true
      },
      "execution_count": 6,
      "outputs": [
        {
          "name": "stdout",
          "text": "\nI have a hamster.\nMy hamster's name is Harry.\n",
          "output_type": "stream"
        }
      ]
    },
    {
      "cell_type": "markdown",
      "source": "The function describe_pet() hasn't changed. But when we call the function, we explicitly tell Python which parameter each argument should be matched with. When Python reads the function call, it knows to store the argument 'hamster' in the parameter animal_type and the argument 'harry' in pet_name. The output correctly shows that we have a hamster named Harry.\n\nThe order of keyword arguments doesn't matter because Python knows where each value should go. The following two function calls are equivalent.",
      "metadata": {}
    },
    {
      "cell_type": "code",
      "source": "# With key value pairs the output is proper because Python knows where each value should go.\ndescribe_pet(animal_type='hamster', pet_name='harry')\ndescribe_pet(pet_name='harry', animal_type='hamster')",
      "metadata": {
        "trusted": true
      },
      "execution_count": 8,
      "outputs": [
        {
          "name": "stdout",
          "text": "\nI have a hamster.\nMy hamster's name is Harry.\n\nI have a hamster.\nMy hamster's name is Harry.\n",
          "output_type": "stream"
        }
      ]
    },
    {
      "cell_type": "markdown",
      "source": "<em>**NOTE:** When you use keyword aguments, be sure to use the exact names of the parameters in the function's definition.</em>",
      "metadata": {}
    },
    {
      "cell_type": "markdown",
      "source": "<em>**Default values**</em>\n\nWhen writing a function, you can define a <em>default value</em> for each parameter. If an argument for a parameter is provided in the function call, Python uses the argument value. If not, it uses the parameter's default value. So when you define a default value for a parameter, you can exclude the corresponding argument you'd usually write in the function call. Using default values can simplify your function calls and clarify the ways in which your functions are typically used.\n\nFor example, if you notice that most of the calls to describt_pet() are being used to describe dogs, you can set the default value of animal_type to 'dog'. Now anyone calling describe_pet() for dog can omit that information.",
      "metadata": {}
    },
    {
      "cell_type": "code",
      "source": "# We set the default value for animal type to dog in the function definition.\ndef describe_pet(pet_name, animal_type='dog'):\n    # \"\"\" Display information about a pet. \"\"\" is a docstring, it just tells us what the program does.\n    \"\"\"Display information about a pet.\"\"\"\n    print(\"\\nI have a \" + animal_type + \".\")\n    print(\"My \" + animal_type + \"'s name is \" + pet_name.title() + \".\")\n\n# since dog is a default value in the parameter, we do not have to use pet_type for dog in the function call.\ndescribe_pet(pet_name='willie')\n    ",
      "metadata": {
        "trusted": true
      },
      "execution_count": 10,
      "outputs": [
        {
          "name": "stdout",
          "text": "\nI have a dog.\nMy dog's name is Willie.\n",
          "output_type": "stream"
        }
      ]
    },
    {
      "cell_type": "markdown",
      "source": "We changed the definition of describe_pet() to include a default value, 'dog', for animal_type. Now when the function is called with no animal_type specified, Python knows to use the value 'dog' for this parameter.\n\n**Note that the order of the parameters in the function definition had to be changed.** Because the default values make it unnecessary to specify a type of animal as an argument, the only argument left in the function call is the pet's name. Python still interprets this as a positional argument, so if the function is called with just a pet's name, that argument will match up with the first parameter listed in the function's definition. This is the reason the first parameter needs to be pet_name.\n\nThe simplest way to use this function now is to provide just a dog's name in the function call:",
      "metadata": {}
    },
    {
      "cell_type": "code",
      "source": "describe_pet('willie')",
      "metadata": {
        "trusted": true
      },
      "execution_count": 11,
      "outputs": [
        {
          "name": "stdout",
          "text": "\nI have a dog.\nMy dog's name is Willie.\n",
          "output_type": "stream"
        }
      ]
    },
    {
      "cell_type": "markdown",
      "source": "This function call would have the same output as the previous example. The only argument provided is 'willie', so it is matched up with the first parameter in the definition, pet_name. Because no argument is provided for animal_type, Python uses the default value 'dog'.\n\nTo describe an animal other than a dog, you could use a function call like this:",
      "metadata": {}
    },
    {
      "cell_type": "code",
      "source": "describe_pet(pet_name='harry', animal_type='hamster')",
      "metadata": {
        "trusted": true
      },
      "execution_count": 12,
      "outputs": [
        {
          "name": "stdout",
          "text": "\nI have a hamster.\nMy hamster's name is Harry.\n",
          "output_type": "stream"
        }
      ]
    },
    {
      "cell_type": "markdown",
      "source": "Because an explicit argument for animal_type is provided, Python will ignore the parameter's default value.\n\n<em>**NOTE:** When you use default values, any parameter with a default value needs to be listed after all the parameters that don't have default values. This allows Python to continue interpreting positional arguments correctly.</em>",
      "metadata": {}
    },
    {
      "cell_type": "markdown",
      "source": "<em>**Equivalent Function Calls**</em>\n\nBecause position arguments, keyword arguments, and default values can all be used together, often you'll have several equivalent ways to call a function. Consider the following definitin for describe_pets() with one default value provided:\n\n<code>def describe_pet(pet_name, animal_type='dog'):</code>\n\nWith this definition, an argument always needs to be provided for pet_name, and this value can be provided using the positional or keyword format. If the animal being described is not a dog, an argument for animal_type must be included in the call, and this argument can also be specified using the positional or keyword format.\n\nAll of the following calls would work for this function:",
      "metadata": {}
    },
    {
      "cell_type": "raw",
      "source": "# A dog named Willi.\ndescribe_pet('willie')\n    \n# A hamster named Harry.\ndescribe_pet('harry', 'hamster')\ndescribe_pet(pet_name='harry', animal_type='hamster')",
      "metadata": {}
    },
    {
      "cell_type": "markdown",
      "source": "\nEach of these function calls would have the same output as the previous examples.\n\n<em>**NOTE:** It doesn't really matter which calling style you use. As long as your function calls produce the output you want, just use the style you find easiest to understand.",
      "metadata": {}
    },
    {
      "cell_type": "markdown",
      "source": "<em>**Avoiding Argument Errors**</em>\n\nWhen you start to use functions, don't be surprised if you encounter errors about unmatched arguments. Unmatched arguments occur when you provide fewer or more arguments than a function needs to do its work.\nFor example, here's what happens if we try to call describe_pet() with no arguments:",
      "metadata": {}
    },
    {
      "cell_type": "code",
      "source": "def describe_pet(animal_type, pet_name):\n    \"\"\"Display information about a pet.\"\"\"\n    print(\"\\nI have a \" + animal_type + \".\")\n    print(\"My \" + animal_type + \"'s name is \" + pet_name.title() + \".\")\n# Generates TypeError as there are no arguments in the parameter.   \ndescribe_pet()",
      "metadata": {
        "trusted": true
      },
      "execution_count": 5,
      "outputs": [
        {
          "ename": "<class 'TypeError'>",
          "evalue": "describe_pet() missing 2 required positional arguments: 'animal_type' and 'pet_name'",
          "traceback": [
            "\u001b[0;31m---------------------------------------------------------------------------\u001b[0m",
            "\u001b[0;31mTypeError\u001b[0m                                 Traceback (most recent call last)",
            "Cell \u001b[0;32mIn[5], line 6\u001b[0m\n\u001b[1;32m      4\u001b[0m     \u001b[38;5;28mprint\u001b[39m(\u001b[38;5;124m\"\u001b[39m\u001b[38;5;124mMy \u001b[39m\u001b[38;5;124m\"\u001b[39m \u001b[38;5;241m+\u001b[39m animal_type \u001b[38;5;241m+\u001b[39m \u001b[38;5;124m\"\u001b[39m\u001b[38;5;124m'\u001b[39m\u001b[38;5;124ms name is \u001b[39m\u001b[38;5;124m\"\u001b[39m \u001b[38;5;241m+\u001b[39m pet_name\u001b[38;5;241m.\u001b[39mtitle() \u001b[38;5;241m+\u001b[39m \u001b[38;5;124m\"\u001b[39m\u001b[38;5;124m.\u001b[39m\u001b[38;5;124m\"\u001b[39m)\n\u001b[1;32m      5\u001b[0m \u001b[38;5;66;03m# Generates TypeError as there are no arguments in the parameter.   \u001b[39;00m\n\u001b[0;32m----> 6\u001b[0m \u001b[43mdescribe_pet\u001b[49m\u001b[43m(\u001b[49m\u001b[43m)\u001b[49m\n",
            "\u001b[0;31mTypeError\u001b[0m: describe_pet() missing 2 required positional arguments: 'animal_type' and 'pet_name'"
          ],
          "output_type": "error"
        }
      ]
    },
    {
      "cell_type": "markdown",
      "source": "Python recognizes that some information is missing from the function call, and the traceback tells us that.",
      "metadata": {}
    },
    {
      "cell_type": "raw",
      "source": "Traceback (most recent call last):\nu File \"pets.py\", line 6, in <module>\nv describe_pet()\nw TypeError: describe_pet() mi\n\nAt 'u' the traceback tells us the location of the problem, allowing us to look back and see that something went wrong in our function call. At 'v' the offending function call is written out for us to see. At 'w' the traceback tells us the call is missing two arguments and reports the names of missing arguments. If this function were in a separate file, we could probably rewrite the call correctly without having to open that file and read the function code.\n\nPython is helpful in that it reads the function's code for us and tells us the names of the arguments we need to provide. This is another motivation for giving your variables and functions descriptive names. If you do, Python's error messages will be more useful to you and anyone else who might use your code.\n\nIf you provide too many arguments, you should get a similar traceback that can help you correctly match your function call to the function definition.",
      "metadata": {}
    },
    {
      "cell_type": "markdown",
      "source": "<em>**TRY IT YOURSELF**</em>\n\n8-3. T-Shirt: Write a function called make_shirt() that accepts a size and the text of a message that should be printed on the shirt. The function should print a sentence summarizing the size of the shirt and the message printed on it. Call the function once using positional arguments to make a shirt. Call the function a second time using keyword arguments.\n\n8-4. Large Shirts: Modify the make_shirt() function so that shirts are large by default with a message that reads I love Python. Make a large shirt and a medium shirt with the default message, and a shirt of any size with a different\nmessage.\n\n8-5. Cities: Write a function called describe_city() that accepts the name of a city and its country. The function should print a simple sentence, such as Reykjavik is in Iceland. Give the parameter for the country a default value. Call your function for three different cities, at least one of which is not in the default country.\n",
      "metadata": {}
    },
    {
      "cell_type": "code",
      "source": "# 8-3. T-Shirt.\n\ndef make_shirt(shirt_size, shirt_text):\n    \"\"\"Summarizes the shirt size, and message printed on the shirt.\"\"\"\n    print(\"For \" + shirt_size + \" sized shirts the text should be '\" + shirt_text + \"'.\")\n    \nmake_shirt(\"medium\", \"I <3 Python\") \nmake_shirt(shirt_size=\"medium\", shirt_text=\"I <3 Python\")\n    ",
      "metadata": {
        "trusted": true
      },
      "execution_count": 13,
      "outputs": [
        {
          "name": "stdout",
          "text": "For medium sized shirts the text should be 'I <3 Python'.\nFor medium sized shirts the text should be 'I <3 Python'.\n",
          "output_type": "stream"
        }
      ]
    },
    {
      "cell_type": "code",
      "source": "# 8-4. Large Shirts.\n\ndef make_shirt(shirt_size=\"large\", shirt_text=\"I love Python\"):\n    \"\"\"Summarizes the shirt size, and message printed on the shirt.\"\"\"\n    print(\"For \" + shirt_size + \" sized shirts the text should be '\" + shirt_text + \"'.\")\n\nmake_shirt()\nmake_shirt(shirt_size=\"medium\")\nmake_shirt(shirt_size=\"small\", shirt_text=\"I love data.\")",
      "metadata": {
        "trusted": true
      },
      "execution_count": 19,
      "outputs": [
        {
          "name": "stdout",
          "text": "For large sized shirts the text should be 'I love Python'.\nFor medium sized shirts the text should be 'I love Python'.\nFor small sized shirts the text should be 'I love data.'.\n",
          "output_type": "stream"
        }
      ]
    },
    {
      "cell_type": "code",
      "source": "# 8-5. Cities.\n\ndef describe_city(city, country=\"Ireland\"):\n    print(f\"{city} is in {country}.\")\n          \ndescribe_city(city=\"Dublin\")\ndescribe_city(\"Galway\")\ndescribe_city(city=\"Madison\", country=\"America\")\n          ",
      "metadata": {
        "trusted": true
      },
      "execution_count": 24,
      "outputs": [
        {
          "name": "stdout",
          "text": "Dublin is in Ireland.\nGalway is in Ireland.\nMadison is in America.\n",
          "output_type": "stream"
        }
      ]
    },
    {
      "cell_type": "code",
      "source": "",
      "metadata": {},
      "execution_count": null,
      "outputs": []
    }
  ]
}