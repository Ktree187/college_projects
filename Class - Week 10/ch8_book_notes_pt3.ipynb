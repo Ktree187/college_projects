{
 "cells": [
  {
   "cell_type": "markdown",
   "metadata": {},
   "source": [
    "<em>**Return Values**</em>\n",
    "\n",
    "A function doesn't always have to display its output directly. Instead, it can process some data and then return a value or set of values. The value the function returns is called a <em>return value</em>. The return statement takes a value from inside a function and sends it back to the line that called the function. Return values allow you to move much of your program's grunt work into functions, which can simplify the body of your program."
   ]
  },
  {
   "cell_type": "markdown",
   "metadata": {},
   "source": [
    "<em>**Returning a simple value**</em>\n",
    "\n",
    "Let's look at a function that takes a first and last name, and returns a neatly formatted full name:"
   ]
  },
  {
   "cell_type": "code",
   "execution_count": 8,
   "metadata": {},
   "outputs": [
    {
     "name": "stdout",
     "output_type": "stream",
     "text": [
      "Jimi Hendrix\n"
     ]
    }
   ],
   "source": [
    "def get_formatted_name(first_name, last_name):\n",
    "    \"\"\"Return a full name, neatly formatted.\"\"\"\n",
    "    full_name = first_name + ' ' + last_name\n",
    "    return full_name.title()\n",
    "\n",
    "musician = get_formatted_name('jimi', 'hendrix')\n",
    "print(musician)\n",
    "\n"
   ]
  },
  {
   "cell_type": "markdown",
   "metadata": {},
   "source": [
    "The definition of get_formatted_name() takes as parameters a first and last name. The function combines these two names, adds a space between them, and stores the result in full_name. The value of full_name is converted to title case, and then returned to the calling line.\n",
    "\n",
    "When you call a function that returns a value, you need to provide a variable where the retun value can be stored. In this case, the returned value is stored in the variable musician. In this case, the returned value is stored in the variable musician. The output shows a neatly formatted name made up of the parts of a person's name.\n",
    "\n",
    "This might seem like a lot of work to get a neatly formatted name when we could have just written.\n",
    "\n",
    "print(\"Jimi hnedrix\")\n",
    "\n",
    "But when you consider working with a large program that needs to store many first and last names separately, functions like get_formatted_name() become very useful. You store first and last names separately and then call this function whenever you want to display a full name."
   ]
  },
  {
   "cell_type": "markdown",
   "metadata": {},
   "source": [
    "<em>**Making an Argument Otional**</em>\n",
    "\n",
    "Sometimes it makes sense to make an argument optional so that people using the function can choose to provide extra information only if they want to. You can use default values to make an argument optional.\n",
    "\n",
    "For example, say we want to expand get_formatted_name() to handle middle names as well. A first attempt to include middle names might look like this:"
   ]
  },
  {
   "cell_type": "code",
   "execution_count": 9,
   "metadata": {},
   "outputs": [
    {
     "name": "stdout",
     "output_type": "stream",
     "text": [
      "John Lee Hooker\n"
     ]
    }
   ],
   "source": [
    "def get_formatted_name(first_name, middle_name, last_name):\n",
    "    \"\"\"Return a full name, neatly formatted.\"\"\"\n",
    "    full_name = first_name + ' ' + middle_name + ' ' + last_name\n",
    "    return full_name.title()\n",
    "\n",
    "musician = get_formatted_name('john', 'lee', 'hooker')\n",
    "print(musician)"
   ]
  },
  {
   "cell_type": "markdown",
   "metadata": {},
   "source": [
    "This function works when given a first, middle, and last name. The function takes in all three parts of a name and then builds a string out of them. The function adds spaces where appropriate and converts the full name to title case.\n",
    "\n",
    "But middle names aren't always needed, and this function as written would not work if you tried to call it with only a first name and a last name. To make the middle name optional, we can give the middle_name argument an empty default value and ignore the argument unless the user provides a value. To make get_formatted_name() work without a middle name, we set the default value of middle_name to an empty string and move it to the end of the list of parameters."
   ]
  },
  {
   "cell_type": "code",
   "execution_count": 10,
   "metadata": {},
   "outputs": [
    {
     "name": "stdout",
     "output_type": "stream",
     "text": [
      "Jimi Hendrix\n",
      "John Lee Hooker\n"
     ]
    }
   ],
   "source": [
    "def get_formatted_name(first_name, last_name, middle_name=''):\n",
    "    \"\"\"Return a full name, neatly formatted.\"\"\"\n",
    "    if middle_name:\n",
    "        full_name = first_name + ' ' + middle_name + ' ' + last_name\n",
    "    else:\n",
    "        full_name = first_name + ' ' + last_name\n",
    "    return full_name.title()\n",
    "\n",
    "musician = get_formatted_name('jimi', 'hendrix')\n",
    "print(musician)\n",
    "\n",
    "musician = get_formatted_name('john', 'hooker', 'lee')\n",
    "print(musician)"
   ]
  },
  {
   "cell_type": "markdown",
   "metadata": {},
   "source": [
    "In this example, the name is built from three possible parts. Because there's always a first and a last name, these parameters are listed first in the function's definition. The middle name is optional, so it's listed last in the definition, and its default value is an empty string.\n",
    "\n",
    "In the body of the funtion, we check to see if a middle name has been provided. Python interprets non-empty strings as True, so if middle_name evaluates to True if am iddle name argument is in the function call. If a middle name is provided, the first, middle, and last names are combined to form a full name. This name is then changed to title case and returned to the function call line where it's stored in the variable musician and printed. If no middle name is provided, the empty string fails the if test and the else block runs. The full name is made with just a first and last name, and the formatted name is returned to the calling line where it's stored in musician and printed.\n",
    "\n",
    "Calling this function with a first and last name is straightforward. If we're using a middle name, however, we have to make sure the middle name is the last argument passed so Python will match up the positional arguments correctly.\n",
    "\n",
    "This modified version of our function works for people with just a first and last name, and it works for people who have a middle name as well. \n",
    "\n",
    "Optional values allow functions to handle a wide range of use cases while letting function calls remain as simple as possible.\n",
    "\n"
   ]
  },
  {
   "cell_type": "markdown",
   "metadata": {},
   "source": [
    "<em>**Returning a Dictionary**</em>\n",
    "\n",
    "A function can return any kind of value you need it to, including more complicated data structures like lists and dictionaries. For example, the following function takes in parts of a name and returns a dictionary representing a person.\n"
   ]
  },
  {
   "cell_type": "code",
   "execution_count": 11,
   "metadata": {},
   "outputs": [
    {
     "name": "stdout",
     "output_type": "stream",
     "text": [
      "{'first': 'jimi', 'last': 'hendrix'}\n"
     ]
    }
   ],
   "source": [
    "def build_person(first_name, last_name):\n",
    "    \"\"\"Return a dictionary of information about a person.\"\"\"\n",
    "    person = {'first': first_name, 'last': last_name}\n",
    "    return person\n",
    "\n",
    "musician = build_person('jimi', 'hendrix')\n",
    "print(musician)"
   ]
  },
  {
   "cell_type": "markdown",
   "metadata": {},
   "source": [
    "The function build_person() takes in a first and last name, and packs these values into a dictionary. The values of a first_name is stored with the key 'first', and the value of last_name is stored with the key 'last'. The entire dictionary representing the person is returned. The return value is printed with the original two pieces of textual information now stored in a dictionary.\n",
    "\n",
    "This function takes in a simple textual information and puts it into a more meaningful data structure that lets you work with the information beyond just printing it. The strings 'jimi' and 'hendrix' are now labeled as a first name and last name. you can easily extend this function to accept optional values like a middle name, an age, an occupation, or any other information you want to store about a person. For example, the following change allows you to store a person's age as well:"
   ]
  },
  {
   "cell_type": "code",
   "execution_count": 22,
   "metadata": {},
   "outputs": [
    {
     "name": "stdout",
     "output_type": "stream",
     "text": [
      "{'first': 'jimi', 'last': 'hendrix', 'age': 27}\n"
     ]
    }
   ],
   "source": [
    "def build_person(first_name, last_name, age=''):\n",
    "    \"\"\"Return a dictionary of information about a person.\"\"\"\n",
    "    person = {'first': first_name, 'last': last_name}\n",
    "    if age:\n",
    "        person['age'] = age\n",
    "    return person\n",
    "\n",
    "musician = build_person('jimi', 'hendrix', age=27)\n",
    "print(musician)"
   ]
  },
  {
   "cell_type": "markdown",
   "metadata": {},
   "source": [
    "We add a new optional parameter age to the function definition and assign the parameter an empty default value. If the function call includes a value for this parameter, the value is stored in the dictionary. This function always stores a person's name, but it can also be modified to store any other information you want about a person."
   ]
  },
  {
   "cell_type": "markdown",
   "metadata": {},
   "source": [
    "<em>**Using a Function with a while Loop**</em>\n",
    "\n",
    "You can use functions with all the Python structures you've learned about so far. For example, let's use the get_formatted_name() function with a while loop to greet users more formally. Here's a first attempt at greeting people using their first and last names:"
   ]
  },
  {
   "cell_type": "code",
   "execution_count": 5,
   "metadata": {},
   "outputs": [
    {
     "name": "stdout",
     "output_type": "stream",
     "text": [
      "\n",
      "Please tell me your name:\n",
      "\n",
      "Hello, Keller Tree!\n",
      "\n",
      "Please tell me your name:\n",
      "\n",
      "Hello, John Doe Jim!\n",
      "\n",
      "Please tell me your name:\n",
      "\n",
      "Hello, Raynor Sarah Kerrigan!\n",
      "\n",
      "Please tell me your name:\n",
      "\n",
      "Hello, John Nolamn King !\n"
     ]
    }
   ],
   "source": [
    "def get_formatted_name(first_name, last_name):\n",
    "    \"\"\"Return a full name, neatly formatted.\"\"\"\n",
    "    full_name = first_name + ' ' + last_name\n",
    "    return full_name.title()\n",
    "\n",
    "# This is an infinite loop!\n",
    "# adding counter to have a stopping point after 4 loops.\n",
    "# In the next example we do this a better way to keep the loop running until user quits.\n",
    "\n",
    "counter = 0\n",
    "\n",
    "while True and counter < 4:\n",
    "    print(\"\\nPlease tell me your name:\")\n",
    "    f_name = input(\"First name: \")\n",
    "    l_name = input(\"Last name: \")\n",
    "    counter += 1\n",
    "\n",
    "    formatted_name = get_formatted_name(f_name, l_name)\n",
    "    print(\"\\nHello, \" + formatted_name + \"!\")"
   ]
  },
  {
   "cell_type": "markdown",
   "metadata": {},
   "source": [
    "For this example, we use a simple version of get_formatted_name() that doesn't involve middle names. The while loop asks the user to enter their name, and we prompt for their first and last name separately.\n",
    "\n",
    "But there's one problem with this while loop: We haven't defined a quit condition. Where do you put a quit condition when you ask for a series of inputs?\n",
    "\n",
    "We want the user to be able to quit as easily as possible so each prompt should offer a way to quit. The break statement offers a straightforward way to exit the loop at either prompt:"
   ]
  },
  {
   "cell_type": "code",
   "execution_count": 4,
   "metadata": {},
   "outputs": [
    {
     "name": "stdout",
     "output_type": "stream",
     "text": [
      "\n",
      "Please tell me your name: \n",
      "(enter 'q' at any time to quit)\n"
     ]
    },
    {
     "name": "stdout",
     "output_type": "stream",
     "text": [
      "\n",
      "Hello, Keller Tree!\n",
      "\n",
      "Please tell me your name: \n",
      "(enter 'q' at any time to quit)\n"
     ]
    }
   ],
   "source": [
    "def get_formated_name(first_name, last_name):\n",
    "    \"\"\"Return a full name, neartly formatted.\"\"\"\n",
    "    full_name = first_name + ' ' + last_name\n",
    "    return full_name.title()\n",
    "\n",
    "while True:\n",
    "    print(\"\\nPlease tell me your name: \")\n",
    "    print(\"(enter 'q' at any time to quit)\")\n",
    "\n",
    "    f_name = input(\"First name: \")\n",
    "    if f_name == 'q':\n",
    "        break\n",
    "    l_name = input(\"Last name: \")\n",
    "    if l_name == 'q':\n",
    "        break\n",
    "\n",
    "    formatted_name = get_formatted_name(f_name, l_name)\n",
    "    print(\"\\nHello, \" + formatted_name + \"!\")"
   ]
  },
  {
   "cell_type": "markdown",
   "metadata": {},
   "source": [
    "We added a message that informs the user how to quit, and then we break out of the loop if the user enters the quit value at either prompt. Now the program will continue greeting people until someone enters 'q' for either name."
   ]
  },
  {
   "cell_type": "markdown",
   "metadata": {},
   "source": [
    "<em>**TRY IT YOURSELF**</em>\n",
    "\n",
    "**8-6. City Names:** Write a function called city_country() that takes in the name of a city and its country. The function should return a string formatted like this:\n",
    "\n",
    "\"Santiago, Chile\"\n",
    "\n",
    "Call your function with at least three city country pairs and print the value that's returned\n",
    "\n",
    "\n",
    "**8-7. Album:** Write a function called make_album() that builds a dictionary describing a music album. The function should take in an artist name and an album title, and it should return a dictionary containing these two pieces of information. User the function to make three dictionaries representing different albums. Print each return value to show that the dictionaries are storing the album information correctly.\n",
    "\n",
    "Add an optional parameter to make_almbum() that allows you sto store the number of tracks on an album. If the calling line includes a value for the number of tracks, add that value to the album's dictionary. Make at least one new function call that includes the number of tracks on an album.\n",
    "\n",
    "\n",
    "**8-8. User Albums:** Start with your program from exercise 8-7. Write a while loop that allows users to enter an album's artist and title. Once you have that information, call make_album() with the user's input and print the dictionary that's created. Be sur to include a quit value in the while loop."
   ]
  },
  {
   "cell_type": "code",
   "execution_count": 18,
   "metadata": {},
   "outputs": [
    {
     "name": "stdout",
     "output_type": "stream",
     "text": [
      "Dublin, Ireland\n",
      "Madison, USA\n",
      "Toronto, Canada\n"
     ]
    }
   ],
   "source": [
    "# 8-6. City Names.\n",
    "\n",
    "# Creates a function for city and country.\n",
    "def city_country(city, country):\n",
    "    \"\"\"Displays a city/country combination.\"\"\"\n",
    "    place = city + \", \" + country\n",
    "\n",
    "    return place\n",
    "\n",
    "# Assigns each called city and country to a variable.\n",
    "combination1 = city_country('Dublin', 'Ireland')\n",
    "combination2 = city_country('Madison', 'USA')\n",
    "combination3 = city_country('Toronto', 'Canada')\n",
    "\n",
    "# Crete each country into a list of each city/country pair.\n",
    "cities_and_countries = [combination1, combination2, combination3]\n",
    "\n",
    "# Iterates through the list cities_and_countries and prints out each combination once.\n",
    "for combination in cities_and_countries:\n",
    "    print(combination)"
   ]
  },
  {
   "cell_type": "code",
   "execution_count": 31,
   "metadata": {},
   "outputs": [
    {
     "name": "stdout",
     "output_type": "stream",
     "text": [
      "{'artist': 'True Pirate', 'album': 'Wolves of the Sea'}\n",
      "{'artist': 'Adrian Von Ziegler', 'album': 'Celtic Forest', 'tracks': 12}\n",
      "{'artist': 'Casting Spells', 'album': 'Whimsical Eve', 'tracks': 8}\n",
      "{'artist': 'Casting Spells', 'album': 'Majestic Mountain', 'tracks': 12}\n"
     ]
    }
   ],
   "source": [
    "# 8-7. Album:\n",
    "\n",
    "def make_album(artist, album_name, track_count=''):\n",
    "    \"\"\"Returns a dictionary of album information.\"\"\"\n",
    "    album = {'artist': artist, 'album': album_name}\n",
    "    if track_count:\n",
    "        album['tracks'] = track_count\n",
    "\n",
    "    return album\n",
    "\n",
    "album_dictionary_1 = make_album('True Pirate', 'Wolves of the Sea')\n",
    "album_dictionary_2 = make_album('Adrian Von Ziegler', 'Celtic Forest', 12)\n",
    "album_dictionary_3 = make_album('Casting Spells', 'Whimsical Eve', 8)\n",
    "album_dictionary_4 = make_album('Casting Spells', 'Majestic Mountain', 12)\n",
    "\n",
    "album_collection = [album_dictionary_1, album_dictionary_2, album_dictionary_3, album_dictionary_4]\n",
    "\n",
    "for album in album_collection:\n",
    "    print(album)\n"
   ]
  },
  {
   "cell_type": "code",
   "execution_count": 37,
   "metadata": {},
   "outputs": [
    {
     "name": "stdout",
     "output_type": "stream",
     "text": [
      "\n",
      "Please enter an artist name and album.\n",
      "Optionally, feel free to enter the track count.\n",
      "Enter 'q' at anytime to quit.\n",
      "{'artist': 'King', 'album': 'The Conquest'}\n",
      "\n",
      "Please enter an artist name and album.\n",
      "Optionally, feel free to enter the track count.\n",
      "Enter 'q' at anytime to quit.\n",
      "{'artist': 'Queen', 'album': 'The Real King'}\n",
      "\n",
      "Please enter an artist name and album.\n",
      "Optionally, feel free to enter the track count.\n",
      "Enter 'q' at anytime to quit.\n"
     ]
    }
   ],
   "source": [
    "# 8-8. User Album.\n",
    "\n",
    "def make_album(artist, album_name, track_count=''):\n",
    "    \"\"\"Returns a dictionary of album information.\"\"\"\n",
    "    album = {'artist': artist, 'album': album_name}\n",
    "    if track_count:\n",
    "        album['tracks'] = track_count\n",
    "\n",
    "    return album\n",
    "\n",
    "while True:\n",
    "    print(\"\\nPlease enter an artist name and album.\")\n",
    "    print(\"Optionally, feel free to enter the track count.\")\n",
    "    print(\"Enter 'q' at anytime to quit.\")\n",
    "    artist_name = input(\"Artist name: \")\n",
    "    album_title = input(\"Album title: \")\n",
    "\n",
    "    if artist_name == 'q':\n",
    "        break\n",
    "\n",
    "    if album_title == 'q':\n",
    "        break\n",
    "\n",
    "    album1 = make_album(artist_name, album_title)\n",
    "    print(album1)\n"
   ]
  },
  {
   "cell_type": "code",
   "execution_count": null,
   "metadata": {},
   "outputs": [],
   "source": []
  }
 ],
 "metadata": {
  "kernelspec": {
   "display_name": "Python 3",
   "language": "python",
   "name": "python3"
  },
  "language_info": {
   "codemirror_mode": {
    "name": "ipython",
    "version": 3
   },
   "file_extension": ".py",
   "mimetype": "text/x-python",
   "name": "python",
   "nbconvert_exporter": "python",
   "pygments_lexer": "ipython3",
   "version": "3.11.6"
  }
 },
 "nbformat": 4,
 "nbformat_minor": 2
}
