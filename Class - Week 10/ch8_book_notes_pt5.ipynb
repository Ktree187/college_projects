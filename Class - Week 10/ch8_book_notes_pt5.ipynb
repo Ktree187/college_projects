{
 "cells": [
  {
   "cell_type": "markdown",
   "metadata": {},
   "source": [
    "<em>**Passing an Arbitrary Number of Arguments**</em>\n"
   ]
  },
  {
   "cell_type": "code",
   "execution_count": 3,
   "metadata": {},
   "outputs": [
    {
     "name": "stdout",
     "output_type": "stream",
     "text": [
      "\n",
      "Making a sandwich with the following toppings:\n",
      "- ham\n",
      "- cheese\n",
      "- spinach\n",
      "- arbys sauce\n",
      "Enjoy your sandwich!\n",
      "\n",
      "Making a sandwich with the following toppings:\n",
      "- bacon\n",
      "- lettuce\n",
      "- tomato\n",
      "- mayo\n",
      "Enjoy your sandwich!\n",
      "\n",
      "Making a sandwich with the following toppings:\n",
      "- peanut butter\n",
      "- jelly\n",
      "Enjoy your sandwich!\n"
     ]
    }
   ],
   "source": [
    "# 8-12. Sandwiches:\n",
    "def make_sandwich(*toppings):\n",
    "    print(\"\\nMaking a sandwich with the following toppings:\")\n",
    "    for topping in toppings:\n",
    "        print(f\"- {topping}\")\n",
    "    print(\"Enjoy your sandwich!\")\n",
    "\n",
    "make_sandwich('ham', 'cheese', 'spinach', 'arbys sauce')\n",
    "make_sandwich('bacon', 'lettuce', 'tomato', 'mayo')\n",
    "make_sandwich('peanut butter', 'jelly')"
   ]
  },
  {
   "cell_type": "code",
   "execution_count": 9,
   "metadata": {},
   "outputs": [
    {
     "name": "stdout",
     "output_type": "stream",
     "text": [
      "{'manufacturer': 'stellantis', 'model': 'jeep', 'color': 'spitfire orange', 'four_wheel_drive': True}\n"
     ]
    }
   ],
   "source": [
    "# 8-14. Cars.\n",
    "\n",
    "def make_car(manufacturer, model, **vehicle_info):\n",
    "    car_info = {\n",
    "        'manufacturer': manufacturer,\n",
    "        'model': model,\n",
    "    }\n",
    "    car_info.update(vehicle_info)\n",
    "    return car_info\n",
    "\n",
    "car = make_car('stellantis', 'jeep', color='spitfire orange', four_wheel_drive = True)\n",
    "\n",
    "print(car)"
   ]
  },
  {
   "cell_type": "code",
   "execution_count": null,
   "metadata": {},
   "outputs": [],
   "source": []
  }
 ],
 "metadata": {
  "kernelspec": {
   "display_name": "Python 3",
   "language": "python",
   "name": "python3"
  },
  "language_info": {
   "codemirror_mode": {
    "name": "ipython",
    "version": 3
   },
   "file_extension": ".py",
   "mimetype": "text/x-python",
   "name": "python",
   "nbconvert_exporter": "python",
   "pygments_lexer": "ipython3",
   "version": "3.11.6"
  }
 },
 "nbformat": 4,
 "nbformat_minor": 2
}
