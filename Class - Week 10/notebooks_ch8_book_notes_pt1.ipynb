{
  "metadata": {
    "language_info": {
      "codemirror_mode": {
        "name": "python",
        "version": 3
      },
      "file_extension": ".py",
      "mimetype": "text/x-python",
      "name": "python",
      "nbconvert_exporter": "python",
      "pygments_lexer": "ipython3",
      "version": "3.8"
    },
    "kernelspec": {
      "name": "python",
      "display_name": "Python (Pyodide)",
      "language": "python"
    }
  },
  "nbformat_minor": 4,
  "nbformat": 4,
  "cells": [
    {
      "cell_type": "markdown",
      "source": "<em><code>functions</code></em> are named blocks of code that are designed to do one specific job",
      "metadata": {}
    },
    {
      "cell_type": "markdown",
      "source": "When you want to perform a particular task that you've defined in a function, you <em>call</em> the name of the function responsible for it.\n\nIf you need to perform that task multiple times throughout your program, you don't need to type all the code for the same task again and again; you just call the function dedicated to handling that task, and the call tells Python to run the code inside the function. You'll find that using functions makes your program easier to write, read, test, and fix.\n\nIn this chapter you'll also learn ways to pass information to functions. You'll learn how to write certain functions whose primary job is to display information and other functions designed to process data and return a value or set of values. Finally, you'' learn to store functions in separaate files called <em><code>modules</code></em> to help organize your main program files.",
      "metadata": {}
    },
    {
      "cell_type": "markdown",
      "source": "<em>**Defining a Function**</em>\n\nHere's a simple function named <code>greet_user()</code> that prints a greeting.",
      "metadata": {}
    },
    {
      "cell_type": "code",
      "source": "def greet_user():\n    \"\"\"Display a simple greeting.\"\"\"\n    print(\"Hello!\")\n    \ngreet_user()",
      "metadata": {
        "trusted": true
      },
      "execution_count": 3,
      "outputs": [
        {
          "name": "stdout",
          "text": "Hello!\n",
          "output_type": "stream"
        }
      ]
    },
    {
      "cell_type": "markdown",
      "source": "This example shows the simplest structure of a function. The line at the beginning used the keyword <code>def</code> to inform Python that you're defining a function. This is the <em>function definition</em>, which tells Python the name of the function and, if applicable, what kind of information the function needs to do its job. The parentheses hold that information. In this case, the name of the function is greet_user(), and it needs no information to do its job, so its parentheses are empty. (Even so, the parentheses are required.) Finally, the definition ends in a colon.\n\nAny indented lines that follow def greet_user(): make up the <em>body</em> of the function. the text on the next line is a comment called a <em>docstring</em>, which describes what the function does. Docstrings are enclosed in triple quotes, which Python looks for when it generates documentation for the functions in your programs.\n\nThe third line print(\"Hello!\") is the only line of actual code in the body of this function, so greet_user() has just one job: print(\"Hello!\"). \n\nWhen you want to use this function, you call it. A <em>function call</em> tells Python to execute the code in the function. To <em>call</em> a function, you write the name of the function, followed by any necessary information in parentheses, as shown at line 4. Because no information is needed here, calling our function is as simple as entering greet_user(). As expected, it prints <code>Hello!</code>.",
      "metadata": {}
    },
    {
      "cell_type": "markdown",
      "source": "<em>**Passing Information to a Function**</em>\n\nModified slightly, the function greet_user() can not only tell the user Hello! but also greets them by name. For the function to do this, you enter username in the parentehses of the function's definition at def greet_user(). By adding username here you allow the function to accept any value of username you specify. The function now expects you to provide a value for username each time you call it. When you call greet_user(), you can pass it a name, such as 'jesse', inside the parentheses.\n\n",
      "metadata": {}
    },
    {
      "cell_type": "code",
      "source": "def greet_user(username):\n    \"\"\"Display a simple greeting.\"\"\"\n    print(\"Hello, \" + username.title() + \"!\")\n    \ngreet_user('jesse')",
      "metadata": {
        "trusted": true
      },
      "execution_count": 4,
      "outputs": [
        {
          "name": "stdout",
          "text": "Hello, Jesse!\n",
          "output_type": "stream"
        }
      ]
    },
    {
      "cell_type": "markdown",
      "source": "Entering greet_user('jesse') calls greet_user() and gives the function the information it needs to execute the print statement. The function accepts the name you passed it and displays the greeting for that name: <code>Hello, Jesse!</code>.\n\nLikewise, entering greeting_user('sarah') calls greet_user(), passes it 'sarah', and prints <code>Hello, Sarah!</code> You can call greet_user() as often as you want and pass it any name you want to produce a predictable output every time.",
      "metadata": {}
    },
    {
      "cell_type": "markdown",
      "source": "<em>**Arguments and Parameter**</em>\n\nIn the preceding greet_user() function, we defined greet_user() to require a value for the variable <var>username</var>. Once we called the function and gave it the information (a person's name), it printed the right greeting.\n\nThe variable <var>username</var> in the definition of greet_user() is an example of a <em>parameter</em>, a piece of information the function needs to do its job. The value 'jesse' in greet_user('jesse') is an example of an <em>argument</em>. An argument is a piece of information that is passed from a function call to a function. When we call the function, we place the value we want the function to work with in parentehses. In this case the argument 'jesse' was passed to the function greet_user(), and the value was stored in the parameter username.\n\n<em>People sometimes speak of arguments and parameters interchangeable. Don't be surprised if you see the variables in a function definition referred to as arguments or the variables in a function call referred to as parameters.\n\n",
      "metadata": {}
    },
    {
      "cell_type": "markdown",
      "source": "**TRY IT YOURSELF**\n\n**8-1. Message:** Write a function called display_message() that prints one sentence telling everyone what you are learning about in this chapter. Call function, and make sure the message displays correctly.\n\n**8-2. Favorite Book:** Write a function called favorite_book() that accepts one parameter, title. The function should print a message, such as \"One of my favorite books is Alice in Wonderland. Call the function, making sure to include a book title as an argument in the function call.",
      "metadata": {}
    },
    {
      "cell_type": "code",
      "source": "# 8-1. Message.\n\n# first, we create a function defnition with def and display_message():.\n# second, we write the body of our function (the code)\ndef display_message():\n    print(\"In chapter 8, I am learning about Functions.\")\n    \n# third call the function\ndisplay_message()\n\n          ",
      "metadata": {
        "trusted": true
      },
      "execution_count": 5,
      "outputs": [
        {
          "name": "stdout",
          "text": "In chapter 8, I am learning about Functions.\n",
          "output_type": "stream"
        }
      ]
    },
    {
      "cell_type": "code",
      "source": "# 8-2. Favorite Book.\n\n# first, we create a function definition with def and favorite_book()\n# we set up the function definition so that it accepts one parameter\n# the parameter in this function is 'title'.\ndef favorite_book(title):\n    \"\"\"Displays favorite book.\"\"\"\n    # We use the parameter title as this is where we \n    # pass our argument too. \n    # The argument is our favorite book.\n    print(\"My favorite book is \" + title.title() + \"!\")\n    \nfavorite_book(\"Python Crash Course\")\n\n    \n\n",
      "metadata": {
        "trusted": true
      },
      "execution_count": 6,
      "outputs": [
        {
          "name": "stdout",
          "text": "My favorite book is Python Crash Course!\n",
          "output_type": "stream"
        }
      ]
    },
    {
      "cell_type": "code",
      "source": "",
      "metadata": {},
      "execution_count": null,
      "outputs": []
    }
  ]
}