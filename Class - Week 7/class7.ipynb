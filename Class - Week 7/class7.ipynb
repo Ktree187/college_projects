{
 "cells": [
  {
   "cell_type": "code",
   "execution_count": 8,
   "metadata": {},
   "outputs": [
    {
     "name": "stdout",
     "output_type": "stream",
     "text": [
      "you can probably dunk a besketball.\n"
     ]
    }
   ],
   "source": [
    "# IF ELSE statements\n",
    "\n",
    "height = 6.5\n",
    "age = 35\n",
    "isProgessionalBasketballer = True\n",
    "rimHeight = 10\n",
    "\n",
    "# temp = (height > 6/25) or isProfessionalBasketballer\n",
    "# print(tempt)\n",
    "\n",
    "if (((height > 6.25) and (age < 30))) or (((height > 4.5) and (age < 40)) or (rimHeight == 8)):\n",
    "   print('you can probably dunk a besketball.')\n",
    "else:\n",
    "    print('You probably cannot dunk a basketball.')\n",
    "\n",
    "# Programming is a hard science, once you understand the basic rules you can figure it out.\n",
    "\n",
    "                                                                                                              "
   ]
  },
  {
   "cell_type": "code",
   "execution_count": 16,
   "metadata": {},
   "outputs": [
    {
     "name": "stdout",
     "output_type": "stream",
     "text": [
      "Eh.\n"
     ]
    }
   ],
   "source": [
    "# Sequential, loops, if, logic, we can break it all down.\n",
    "name = 'Cary'\n",
    "great_gamers = ['Jaedong', 'Jonathan Wendel', 'Moon']\n",
    "if name in great_gamers:\n",
    "    print('You are a great gamer!')\n",
    "\n",
    "if name not in great_gamers:\n",
    "    print('Eh.')\n"
   ]
  },
  {
   "cell_type": "code",
   "execution_count": 18,
   "metadata": {},
   "outputs": [
    {
     "name": "stdout",
     "output_type": "stream",
     "text": [
      "You are a very good gamer!\n"
     ]
    }
   ],
   "source": [
    "name = 'Flash'\n",
    "\n",
    "good_gamers = ['Flash', 'Patrik Lindberg', 'Daigo']\n",
    "\n",
    "if name in great_gamers:\n",
    "    print('You are a great gamer!')\n",
    "elif name in good_gamers:\n",
    "    print('You are a very good gamer!')\n",
    "else:\n",
    "    print('You might be okay at video games.')"
   ]
  },
  {
   "cell_type": "code",
   "execution_count": 22,
   "metadata": {},
   "outputs": [
    {
     "name": "stdout",
     "output_type": "stream",
     "text": [
      "Paging Felipe.\n",
      "Julieta, you have a message at the front desk.\n",
      "Paging Kati.\n",
      "Adra, you have a message at the front desk.\n"
     ]
    }
   ],
   "source": [
    "customers = ['Felipe', 'Julieta', 'Kati', 'Adra']\n",
    "for customer in customers:\n",
    "    if customer == 'Julieta' or customer == 'Adra':\n",
    "        print(customer + ', you have a message at the front desk.') # This is not the preffered way.\n",
    "    else:\n",
    "        print(f'Paging {customer}.') # This is the preferred way to concactenate."
   ]
  },
  {
   "cell_type": "code",
   "execution_count": 23,
   "metadata": {},
   "outputs": [
    {
     "name": "stdout",
     "output_type": "stream",
     "text": [
      "pairings\n",
      "Yuliana\n",
      "Genadi\n",
      "pairings\n",
      "Genadi\n",
      "Raabi'a\n",
      "pairings\n",
      "Natalia\n",
      "Natalia\n",
      "pairings\n",
      "yukuaba\n",
      "Raabi'a\n"
     ]
    }
   ],
   "source": [
    "# The line below a list of lists\n",
    "dinner_party_seats = [['Yuliana', 'Genadi'],['Genadi',\"Raabi'a\"],['Natalia','Natalia'],['yukuaba',\"Raabi'a\"]]\n",
    "for pairings in dinner_party_seats:\n",
    "    print('pairings')\n",
    "    for person in pairings:\n",
    "        print(person)\n"
   ]
  },
  {
   "cell_type": "code",
   "execution_count": 25,
   "metadata": {},
   "outputs": [
    {
     "name": "stdout",
     "output_type": "stream",
     "text": [
      "pairings\n",
      "Yuliana\n",
      "Genadi\n",
      "pairings\n",
      "Genadi\n",
      "Uh-oh, need to rearrange seats.\n",
      "Raabi'a\n",
      "pairings\n",
      "Natalia\n",
      "Natalia\n",
      "Uh-oh, need to rearrange seats.\n",
      "pairings\n",
      "yukuaba\n",
      "Raabi'a\n"
     ]
    }
   ],
   "source": [
    "dinner_party_seats = [['Yuliana', 'Genadi'],['Genadi',\"Raabi'a\"],['Natalia','Natalia'],['yukuaba',\"Raabi'a\"]]\n",
    "last_person = 'Unkown'\n",
    "print('Debugging, about to start the outer loop.')\n",
    "for pairings in dinner_party_seats:\n",
    "    print('pairings')\n",
    "    for person in pairings:\n",
    "        print(person)\n",
    "        if last_person == person:\n",
    "            print(\"Uh-oh, need to rearrange seats.\")\n",
    "        last_person = person\n"
   ]
  },
  {
   "cell_type": "code",
   "execution_count": 27,
   "metadata": {},
   "outputs": [
    {
     "name": "stdout",
     "output_type": "stream",
     "text": [
      "Debugging, about to start the outer loop.\n",
      "pairings\n",
      "person is Yuliana. Last person is Unkown.\n",
      "person is Genadi. Last person is Yuliana.\n",
      "pairings\n",
      "person is Genadi. Last person is Genadi.\n",
      "Uh-oh, need to rearrange seats.\n",
      "person is Raabi'a. Last person is Genadi.\n",
      "pairings\n",
      "person is Natalia. Last person is Raabi'a.\n",
      "person is Natalia. Last person is Natalia.\n",
      "Uh-oh, need to rearrange seats.\n",
      "pairings\n",
      "person is yukuaba. Last person is Natalia.\n",
      "person is Raabi'a. Last person is yukuaba.\n"
     ]
    }
   ],
   "source": [
    "dinner_party_seats = [['Yuliana', 'Genadi'],['Genadi',\"Raabi'a\"],['Natalia','Natalia'],['yukuaba',\"Raabi'a\"]]\n",
    "last_person = 'Unkown'\n",
    "print('Debugging, about to start the outer loop.')\n",
    "for pairings in dinner_party_seats:\n",
    "    print('pairings')\n",
    "    for person in pairings:\n",
    "        print(f'person is {person}. Last person is {last_person}.')\n",
    "        if last_person == person:\n",
    "            print(\"Uh-oh, need to rearrange seats.\")\n",
    "        last_person = person"
   ]
  },
  {
   "cell_type": "code",
   "execution_count": 28,
   "metadata": {},
   "outputs": [
    {
     "name": "stdout",
     "output_type": "stream",
     "text": [
      "Debugging, about to start the outer loop.\n",
      "pairings\n",
      "pairings\n",
      "pairings\n",
      "Uh-oh, need to rearrange seats. Natalia and Natalia are seated together.\n",
      "pairings\n"
     ]
    }
   ],
   "source": [
    "dinner_party_seats = [['Yuliana', 'Genadi'],['Genadi',\"Raabi'a\"],['Natalia','Natalia'],['yukuaba',\"Raabi'a\"]]\n",
    "print('Debugging, about to start the outer loop.')\n",
    "for pairings in dinner_party_seats:\n",
    "    last_person = 'Unkown'\n",
    "    print('pairings')\n",
    "    # print(pairings)\n",
    "    for person in pairings:\n",
    "        # print(f'person is {person}. Last person is {last_person}.)\n",
    "        if last_person == person:\n",
    "            print(f\"Uh-oh, need to rearrange seats. {last_person} and {person} are seated together.\")\n",
    "        last_person = person"
   ]
  },
  {
   "cell_type": "code",
   "execution_count": null,
   "metadata": {},
   "outputs": [],
   "source": []
  }
 ],
 "metadata": {
  "kernelspec": {
   "display_name": "Python 3",
   "language": "python",
   "name": "python3"
  },
  "language_info": {
   "codemirror_mode": {
    "name": "ipython",
    "version": 3
   },
   "file_extension": ".py",
   "mimetype": "text/x-python",
   "name": "python",
   "nbconvert_exporter": "python",
   "pygments_lexer": "ipython3",
   "version": "3.11.6"
  }
 },
 "nbformat": 4,
 "nbformat_minor": 2
}
