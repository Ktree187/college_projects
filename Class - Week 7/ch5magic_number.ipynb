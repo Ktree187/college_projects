{
 "cells": [
  {
   "cell_type": "code",
   "execution_count": 4,
   "metadata": {},
   "outputs": [
    {
     "name": "stdout",
     "output_type": "stream",
     "text": [
      "That is not the correct answer. Please try again!\n"
     ]
    }
   ],
   "source": [
    "answer = 17\n",
    "\n",
    "if answer != 42:\n",
    "    print(\"That is not the correct answer. Please try again!\")\n",
    "\n",
    "# The conditional test at 1 passes, because the value of answer (17) is not equal to 42. Because the test passes, the indented code block is executed.\n",
    "\n",
    "\n",
    "# You can include various mathematical comparisons in your conditional statements as well,\n",
    "# such as less than, less than or equal to, greater than, and greater than or equal to:\n",
    "\n"
   ]
  },
  {
   "cell_type": "code",
   "execution_count": 7,
   "metadata": {},
   "outputs": [
    {
     "name": "stdout",
     "output_type": "stream",
     "text": [
      "The condition was not met.\n"
     ]
    }
   ],
   "source": [
    "age = 19\n",
    "\n",
    "age < 21\n",
    "age <= 21\n",
    "age > 21\n",
    "age >= 21\n",
    "\n",
    "age_0 = 22 # assigns age_0 with a value.\n",
    "age_1 = 18 # assigns age_1 with a value.\n",
    "\n",
    "age_0 >= 21 and age_1 >= 21 # Checks to see if conditions are met. \n",
    "\n",
    "if age_0 >= 21 and age_1 >= 21:\n",
    "    print(f\"The condition was met.\")\n",
    "else:\n",
    "    print(f\"The condition was not met.\")"
   ]
  },
  {
   "cell_type": "code",
   "execution_count": null,
   "metadata": {},
   "outputs": [],
   "source": []
  }
 ],
 "metadata": {
  "kernelspec": {
   "display_name": "Python 3",
   "language": "python",
   "name": "python3"
  },
  "language_info": {
   "codemirror_mode": {
    "name": "ipython",
    "version": 3
   },
   "file_extension": ".py",
   "mimetype": "text/x-python",
   "name": "python",
   "nbconvert_exporter": "python",
   "pygments_lexer": "ipython3",
   "version": "3.11.6"
  }
 },
 "nbformat": 4,
 "nbformat_minor": 2
}
