{
  "metadata": {
    "language_info": {
      "codemirror_mode": {
        "name": "python",
        "version": 3
      },
      "file_extension": ".py",
      "mimetype": "text/x-python",
      "name": "python",
      "nbconvert_exporter": "python",
      "pygments_lexer": "ipython3",
      "version": "3.8"
    },
    "kernelspec": {
      "name": "python",
      "display_name": "Python (Pyodide)",
      "language": "python"
    }
  },
  "nbformat_minor": 4,
  "nbformat": 4,
  "cells": [
    {
      "cell_type": "markdown",
      "source": "The High Jump Lab 6.4",
      "metadata": {}
    },
    {
      "cell_type": "code",
      "source": "last_year_personal_record = '6 feet, 2 inches'\ncurrent_personal_record = '6 feet, 2.5 inches'\ngoal = '6 feet, 3 inches'\n# todays_jump = last_year_personal_record (a)\n# todays_jump = current_personal_record (b)\ntodays_jump = goal #(c)\n# todays_jump = '5 feet, 3 inches' (d)\n\n# a.\nif todays_jump == last_year_personal_record:\n    print('Good job! That was as good a jump as your jumps last year!')\n# b.         \nelif todays_jump == current_personal_record:\n          print('Awesome! You tied your record!')\n# c.\nelif todays_jump == goal:\n                print(\"You did it! Way to go!\")\n                \n# d. \nelif todays_jump != (last_year_personal_record or current_personal_record or goal):\n                print(\"Tomorrow is another day.\")\n        \n# The code prints out the first statement under (a)\n# The code prints out the second statement under (b)\n# The code prints out the third statement under (c)\n# The code prints out the fourth statement under (d)\n",
      "metadata": {
        "trusted": true
      },
      "execution_count": 10,
      "outputs": [
        {
          "name": "stdout",
          "text": "You did it! Way to go!\n",
          "output_type": "stream"
        }
      ]
    },
    {
      "cell_type": "code",
      "source": "",
      "metadata": {},
      "execution_count": null,
      "outputs": []
    }
  ]
}