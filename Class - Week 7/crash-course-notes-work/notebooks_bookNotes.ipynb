{
  "metadata": {
    "language_info": {
      "codemirror_mode": {
        "name": "python",
        "version": 3
      },
      "file_extension": ".py",
      "mimetype": "text/x-python",
      "name": "python",
      "nbconvert_exporter": "python",
      "pygments_lexer": "ipython3",
      "version": "3.8"
    },
    "kernelspec": {
      "name": "python",
      "display_name": "Python (Pyodide)",
      "language": "python"
    }
  },
  "nbformat_minor": 4,
  "nbformat": 4,
  "cells": [
    {
      "cell_type": "code",
      "source": "# Checking a Whether a Value Is in a List.\n\nrequested_toppings = ['mushrooms', 'onions', 'pineapple']\n\n'mushrooms' in requested_toppings\n",
      "metadata": {
        "trusted": true
      },
      "execution_count": 15,
      "outputs": [
        {
          "execution_count": 15,
          "output_type": "execute_result",
          "data": {
            "text/plain": "True"
          },
          "metadata": {}
        }
      ]
    },
    {
      "cell_type": "code",
      "source": "'pepperoni' in requested_toppings",
      "metadata": {
        "trusted": true
      },
      "execution_count": 16,
      "outputs": [
        {
          "execution_count": 16,
          "output_type": "execute_result",
          "data": {
            "text/plain": "False"
          },
          "metadata": {}
        }
      ]
    },
    {
      "cell_type": "code",
      "source": "# Checking Whether a Value Is Not in a List\n\nbanned_users = ['andrew', 'caroline', 'david']\nuser = 'marie'\n\nif user not in banned_users:\n    print(user.title() + \", you can post a response if you wish.\")",
      "metadata": {
        "trusted": true
      },
      "execution_count": 17,
      "outputs": [
        {
          "name": "stdout",
          "text": "Marie, you can post a response if you wish.\n",
          "output_type": "stream"
        }
      ]
    },
    {
      "cell_type": "code",
      "source": "# 5-1. Condition Tests: Write a series of conditional tests.\n# Print a statement describing each test and your prediction \n# for the results of each test. Your code should look something like\n# this:\n\ncar = 'subaru'\nprint(\"Is car == 'subaru'? I predict True.\")\nprint(car == 'subaru')\n\nprint(\"\\nIs car == 'audi'? I predict False.\")\nprint(car == 'audi')",
      "metadata": {
        "trusted": true
      },
      "execution_count": 19,
      "outputs": [
        {
          "name": "stdout",
          "text": "Is car == 'subaru'? I predict True.\nTrue\n\nIs car == 'audi'? I predict False.\nFalse\n",
          "output_type": "stream"
        }
      ]
    },
    {
      "cell_type": "code",
      "source": "# Python Crash Course 5-1. Conditional tests.\n\nbook = 'harry potter'\nbook_one = 'star wars'\nbook_two = 'fablehaven'\nbook_three = 'goosebumps'\nbook_four = 'spooky stories to tell in the dark'\n\nprint(book == 'spooky stories to tell in the dark')\nprint(book_one != 'star wars')\nprint(book != 'harry potter')\nprint(book_two != 'fablehaven')\nprint(book_three != 'goosebumps')\n\nprint(book == 'harry potter')\nprint(book_one == 'star wars')\nprint(book !=  'fablehaven')\nprint(book_two == 'fablehaven')\nprint(book_four == 'spooky stories to tell in the dark')",
      "metadata": {
        "trusted": true
      },
      "execution_count": 24,
      "outputs": [
        {
          "name": "stdout",
          "text": "False\nFalse\nFalse\nFalse\nFalse\nTrue\nTrue\nTrue\nTrue\nTrue\n",
          "output_type": "stream"
        }
      ]
    },
    {
      "cell_type": "code",
      "source": "# 5.2 More Conditioanl Tests\n# tests for equality and inequality with strings.\nstring_1 = 'potato'\nprint(string_1 == 'potato') # True\nprint(string_1 != 'potato') # False\n\n# Tests using the lower() function.\nstring_2 = 'Rock'\nprint(string_2.lower() == 'rock') # True\nprint(string_2.lower() != 'rock') # False\n\n# Numerical tests involving equality and inequality, \n# greater than and less than, greater than or equal to, and less\n# than or equal to, and less than or equal to.\nbachelors_degree = 4\nassociates_degree = 2\nprint(associates_degree == bachelors_degree) # False\nprint(associates_degree != bachelors_degree) # True\nprint(bachelors_degree > associates_degree) # True\nprint(bachelors_degree >= associates_degree) # True\nprint(associates_degree <= bachelors_degree) # True\nprint(associates_degree == bachelors_degree) # False\nprint(associates_degree < bachelors_degree) # True\n\n# tests using the and keyword and the or keyword.\nincome1 = 1000\nincome2 = 2500\nincome3 = 1000\nincome4 = 1400\nprint(income1)\nprint(income2)\nprint(income3)\n\nprint((income1 and income3) == 1000) # True\nprint((income1 or income2) == 1000) # True\nprint((income4 or income2) == 1000) # False\nprint((income1 and income2 and income3 and income4) >= 1000) # True\nprint((income2 or income1) <= 900) # False\nprint((income1 or income2 or income3) != 1400) # True\nprint(income4 == 1400) # True\n\n# Tests whether an item is in a list.\nfood_crate = ['potato', 'cabbage', 'carrots', 'oranges', 'fish']\n\nprint('fish' in food_crate) # True\nprint('potato' in food_crate) # True\n\n# Tests whether an item is not in a list.\n\nprint('corn' in food_crate)\nprint('beef' in food_crate)",
      "metadata": {
        "trusted": true
      },
      "execution_count": 91,
      "outputs": [
        {
          "name": "stdout",
          "text": "True\nFalse\nTrue\nFalse\nFalse\nTrue\nTrue\nTrue\nTrue\nFalse\nTrue\n1000\n2500\n1000\nTrue\nTrue\nFalse\nTrue\nFalse\nTrue\nTrue\nTrue\nTrue\nFalse\nFalse\n",
          "output_type": "stream"
        }
      ]
    },
    {
      "cell_type": "markdown",
      "source": "# The Simplest Kind of if Statement.\nif conditional_test:\n    do something",
      "metadata": {}
    },
    {
      "cell_type": "code",
      "source": "# The following code tests if someone is old enough to vote.\n# Python checks to see whether age is greater than or equal to 18.\n# It is so Python executes the indented print statement.\nage = 19\nif age >= 18:\n    print(\"You are old enough to vote!\")",
      "metadata": {
        "trusted": true
      },
      "execution_count": 92,
      "outputs": [
        {
          "name": "stdout",
          "text": "You are old enough to vote!\n",
          "output_type": "stream"
        }
      ]
    },
    {
      "cell_type": "code",
      "source": "# if the test passes the entire block of indented lines will run.\n# if the test fails the entire block of indented lines will not run.\nage = 19\nif age >= 18:\n    print(\"You are old enough to vote!\")\n    print(\"Have you registered to vote yet?\")",
      "metadata": {
        "trusted": true
      },
      "execution_count": 95,
      "outputs": [
        {
          "name": "stdout",
          "text": "You are old enough to vote!\nHave you registered to vote yet?\n",
          "output_type": "stream"
        }
      ]
    },
    {
      "cell_type": "code",
      "source": "# You can use if-else statements to change how the code reacts to different conditions.\nage = 17\nif age >= 18:\n    print(\"You are old enough to vote!\")\n    print(\"Have you registered to vote yet?\")\nelse:\n    print(\"Sorry, you are too young to vote.\")\n    print(\"Please register to vote as soon as you turn 18!\")",
      "metadata": {
        "trusted": true
      },
      "execution_count": 97,
      "outputs": [
        {
          "name": "stdout",
          "text": "Sorry, you are too young to vote.\nPlease register to vote as soon as you turn 18!\n",
          "output_type": "stream"
        }
      ]
    },
    {
      "cell_type": "code",
      "source": "# The if-elif-else Chain\n# Many real-world sitautions involve more than two possible conditions.\n# For example:\n# Admission for anyone under age 4 is free.\n# Admission for anyone between the ages of 4 and 18 is $5.\n# Admission for anyone age 18 or older is $10.\n\nage = 12\n\nif age < 4: # Results in False because age is > 4\n    print(\"Your admission cost is $0.\")\nelif age < 18: # Results in True because age < 18\n    print(\"Your admission cost is $5.\")\nelse:\n    print(\"Your admission cost is $10.\") # Results in False because age < 18\n\n",
      "metadata": {
        "trusted": true
      },
      "execution_count": 98,
      "outputs": [
        {
          "name": "stdout",
          "text": "Your admission cost is $5.\n",
          "output_type": "stream"
        }
      ]
    },
    {
      "cell_type": "markdown",
      "source": "Rather than printing the admission price within the if-elif-else bloack, it would be more concice to set just the price inside the if-elif-else chain and then have a simple print statement that runs after the chain has been evaluated.",
      "metadata": {}
    },
    {
      "cell_type": "code",
      "source": "# To be more concise you can do either of the following print statements.\nage = 12\n\nif age < 4:\n    price = 0\nelif age < 18:\n    price = 5\nelse:\n    price = 10\n    \nprint(f\"Your admission cost is ${price}.\") \n# or\nprint(\"Your admission cost is $\" + str(price) + \".\")\n\n# The else blcok is a catchall statement. It matches any condition\n# that wasn't matched by a specific if or elif test, and that can \n# sometimes include invalid or even malicious data.\n# You can omit the else block. You can use the elif instead\n# As a result of substituting else for elif\n# You'll gain additional confidence that your code will run only under the correct conditions.\n",
      "metadata": {},
      "execution_count": null,
      "outputs": []
    },
    {
      "cell_type": "markdown",
      "source": "Testing Multiple Conditions\n\n**The if-elif-else chain is powerful, but it's only appropriate to use when you just need one test to pass.** As soon as Python finds one test that passes, it skips the rest of the tests. This behavior is beneficial, because it's efficient and allows you to test for one specific condition.\n    **However, sometimes it's important to check all of the conditions of interest. In this case, you should use a series of simple if statements with no elif or else blocks This technique makes sense when more than one condition could be True, and you want to act on every condition that is True.**\n    Let's reconsider the pizzeria example. If someone requests a two-topping pizza, you'll need to be sure to include both toppings on their pizzal:",
      "metadata": {}
    },
    {
      "cell_type": "code",
      "source": "# Because every condition in the example below is evaluated,\n# both mushrooms and extra cheese are added to the pizza.\n\nrequested_toppings = ['mushrooms', 'extra cheese']\n\nif 'mushrooms' in requested_toppings:\n    print(\"Adding mushrooms.\")\nif 'pepperoni' in requested_toppings:\n    print(\"Adding pepperoni.\")\nif 'extra cheese' in requested_toppings:\n    print(\"Adding extra cheese.\")\n          \nprint(\"\\nFinished making your pizza!\")\n\n# This could would not work properly if we used an if-elif-else block,\n# because the code would stop running after only one test passes.\n# Resulting in a miss topping.",
      "metadata": {
        "trusted": true
      },
      "execution_count": 105,
      "outputs": [
        {
          "name": "stdout",
          "text": "Adding mushrooms.\nAdding extra cheese.\n\nFinished making your pizza!\n",
          "output_type": "stream"
        }
      ]
    },
    {
      "cell_type": "markdown",
      "source": "In summary, if you want only one block fo code to run, use an if-elif-else chain. If more than one block of code needs to run, use a series of independent if statements.",
      "metadata": {}
    }
  ]
}