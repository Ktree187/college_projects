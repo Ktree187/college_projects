{
  "metadata": {
    "language_info": {
      "codemirror_mode": {
        "name": "python",
        "version": 3
      },
      "file_extension": ".py",
      "mimetype": "text/x-python",
      "name": "python",
      "nbconvert_exporter": "python",
      "pygments_lexer": "ipython3",
      "version": "3.8"
    },
    "kernelspec": {
      "name": "python",
      "display_name": "Python (Pyodide)",
      "language": "python"
    }
  },
  "nbformat_minor": 4,
  "nbformat": 4,
  "cells": [
    {
      "cell_type": "markdown",
      "source": "5-8 Hello Admin: Make a list of five or more usernames, including the name 'admin'. Imagine you are writing code that will print a greeting to each user after they log in to a website. Loop through the list, and print a greeting to each user:\n- if the username is 'admin', print a special greeting, Hello admin, would you like to see a status report?\n- Otherwise, print a generic greeting, such as Hello Eric, thank you for logging in again.",
      "metadata": {}
    },
    {
      "cell_type": "code",
      "source": "# 5-8\nusernames = ['admin', 'kate', 'eric', 'john', 'tim']\n\nfor username in usernames:\n    if username == 'admin':\n        print(\"Hello admin, would you like to see a status report?\")\n    else:\n        print(f\"Hello {username.title()}, thank you for logging in again.\")\n",
      "metadata": {
        "trusted": true
      },
      "execution_count": 4,
      "outputs": [
        {
          "name": "stdout",
          "text": "Hello admin, would you like to see a status report?\nHello Kate, thank you for logging in again.\nHello Eric, thank you for logging in again.\nHello John, thank you for logging in again.\nHello Tim, thank you for logging in again.\n",
          "output_type": "stream"
        }
      ]
    },
    {
      "cell_type": "markdown",
      "source": "5-9. No Users: Add an if test to hello_admin.py to make sure the list of users is not empty.\n- If the list is empty, print the message We need to find some users!\n- Remove all of the usernames from your list, and make sure the correct message is printed.",
      "metadata": {}
    },
    {
      "cell_type": "code",
      "source": "# 5-9. No Users:\nusernames = []\n\n\nif username == 'admin':\n    print(\"Hello admin, would you like to see a status report?\")\nif usernames == []:\n    print(\"We need to find some users!\")\nelse:\n    print(f\"Hello {username.title()}, thank you for logging in again.\")\n",
      "metadata": {
        "trusted": true
      },
      "execution_count": 9,
      "outputs": [
        {
          "name": "stdout",
          "text": "We need to find some users!\n",
          "output_type": "stream"
        }
      ]
    },
    {
      "cell_type": "markdown",
      "source": "5-10. Checking Usernames: Do the following to create a program that simulates how websites ensure that everyone has a uniqe username.\n\n- Make a list of five or more usernames called current_users.\n- Make another list of five usernames called new_users. Make sure one or two of the new usernames are also in the current_users list.\n- Loop through the new_users list to see if each new username has already been used. If it has, print a message that the person will need to enter a new username. If a username has not been used, print a message saying that the username is available.\n- Make sure your comparison is case insensitive. If 'John' has been used, 'JOHN' should not be accepted.\n",
      "metadata": {}
    },
    {
      "cell_type": "code",
      "source": "# 5-10\ncurrent_users = ['John', 'Jacob', 'jingle', 'heimer', 'SCHMIT']\n\nnew_users = ['JOHN', 'Jacob', 'Ellen', 'Katie', 'ARI']\n\nfor user in new_users:\n    if user.lower() in [user.lower() for user in current_users]:\n        print(\"That username has already been used, please enter a new username.\")\n    else:\n        print(\"That username is available.\")\n\n\n\n",
      "metadata": {
        "trusted": true
      },
      "execution_count": 32,
      "outputs": [
        {
          "name": "stdout",
          "text": "That username has already been used, please enter a new username.\nThat username has already been used, please enter a new username.\nThat username is available.\nThat username is available.\nThat username is available.\n",
          "output_type": "stream"
        }
      ]
    },
    {
      "cell_type": "markdown",
      "source": "5-11. Ordinal Numbers: Ordinal numebrs indicate their position in a list, such as 1st or 2nd. Most ordinal numbers end in th, except 1, 2, and 3.\n- store the numbers 1 through 9 in a list\n- loop through the list\n- use an if-elif-else chain inside the loop to print the proper ordinal ending for each number. Your output should read \"1st 2nd 3rd 4th 5th 6th 7th 8th 9th\", and each result should be on a separate line.",
      "metadata": {}
    },
    {
      "cell_type": "code",
      "source": "# 5-11.\n\nstored_numbers = [1, 2, 3, 4, 5, 6, 7, 8, 9]\n\nfor number in stored_numbers:\n    if number == 1:\n        print(f\"{number}st\")\n    elif number == 2:\n        print(f\"{number}nd\")\n    elif number == 3:\n        print(f\"{number}rd\")\n    else:\n        print(f\"{number}th\")\n",
      "metadata": {
        "trusted": true
      },
      "execution_count": 41,
      "outputs": [
        {
          "name": "stdout",
          "text": "1st\n2nd\n3rd\n4th\n5th\n6th\n7th\n8th\n9th\n",
          "output_type": "stream"
        }
      ]
    },
    {
      "cell_type": "markdown",
      "source": "5-12. Styling if statements\nReview the programs you wrote in this chapter, and make sure you styled your conditonal tests appropriately.\n\n\n",
      "metadata": {}
    },
    {
      "cell_type": "markdown",
      "source": "5-13. Your ideas: At this point, you're a more capable programmer than you were when you started this book. Now that you have a better sense of how real-world sitautions are modeled in programs, you might be thinking of some problems you could solve with your own programs. Record any new ideas you have about problems you might want to solve as your programming skills continue to improve. Consider games you might want to write, data sets you might want to explore, and web applications you'd like to create.",
      "metadata": {}
    },
    {
      "cell_type": "code",
      "source": "",
      "metadata": {},
      "execution_count": null,
      "outputs": []
    }
  ]
}