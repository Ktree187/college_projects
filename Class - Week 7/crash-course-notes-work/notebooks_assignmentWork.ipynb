{
  "metadata": {
    "language_info": {
      "codemirror_mode": {
        "name": "python",
        "version": 3
      },
      "file_extension": ".py",
      "mimetype": "text/x-python",
      "name": "python",
      "nbconvert_exporter": "python",
      "pygments_lexer": "ipython3",
      "version": "3.8"
    },
    "kernelspec": {
      "name": "python",
      "display_name": "Python (Pyodide)",
      "language": "python"
    }
  },
  "nbformat_minor": 4,
  "nbformat": 4,
  "cells": [
    {
      "cell_type": "code",
      "source": "# 5-3. Alien Colors #1:\n# Imagine an alien was just shot down in a game. Create a variable called \n# alien_color and assign it toa value of 'green', 'yellow', or 'red'.\n# V1 produces a succesful output.\nalien_color = 'green'\n\nif alien_color == 'green':\n    points = 5\nprint(f\"Congratulations! You just earned {points} points!\")\n",
      "metadata": {
        "trusted": true
      },
      "execution_count": 87,
      "outputs": [
        {
          "name": "stdout",
          "text": "Congratulations! You just earned 5 points!\n",
          "output_type": "stream"
        }
      ]
    },
    {
      "cell_type": "code",
      "source": "# 5-3. ALien Colors Output Fail\n# V2 intentionally produces no output because alien_color != 'green'.\n\nalien_color = 'red'\n\nif alien_color == 'green':\n    points = 5\n    print(f\"Congratulations! You just earned 5 points!\")\n",
      "metadata": {
        "trusted": true
      },
      "execution_count": 88,
      "outputs": []
    },
    {
      "cell_type": "code",
      "source": "# 5-4. Alien Colors #2:\n# V1 Runs if block\nalien_color = 'green'\n\nif alien_color == 'green':\n    points = 5\n    print(f\"The player just earned {points} points for shooting a green alien.\")\nelse:\n    points = 10\n    print(f\"The player just earned {points} points!\")",
      "metadata": {
        "trusted": true
      },
      "execution_count": 89,
      "outputs": [
        {
          "name": "stdout",
          "text": "The player just earned 5 points for shooting a green alien.\n",
          "output_type": "stream"
        }
      ]
    },
    {
      "cell_type": "code",
      "source": "# 5-4. Alien Colors #2:\n# V2 Runs else block\nalien_color = 'red'\n\nif alien_color == 'green':\n    points = 5\n    print(f\"The player just earned {points} points for shooting a green alien.\")\nelse:\n    points = 10\n    print(f\"The player just earned {points} points!\")\n\n",
      "metadata": {
        "trusted": true
      },
      "execution_count": 90,
      "outputs": [
        {
          "name": "stdout",
          "text": "The player just earned 10 points!\n",
          "output_type": "stream"
        }
      ]
    },
    {
      "cell_type": "code",
      "source": "# 5-5. Alien Colors #3: Turn your if-else chain from exercise 5-4 into \n# an if-elif-else chain\n# V1\nalien_color = 'green'\n\nif alien_color == 'green':\n    points = 5\n    print(f\"The player just earned {points} points for shooting a green alien.\")\nelif alien_color == 'red':\n    points = 15\n    print(f\"The player just earned {points} points for hitting a red alien!\")\nelse:\n    points = 10\n    print(f\"The player just earned {points} points for hitting a yellow alien!\")\n",
      "metadata": {
        "trusted": true
      },
      "execution_count": 98,
      "outputs": [
        {
          "name": "stdout",
          "text": "The player just earned 5 points for shooting a green alien.\n",
          "output_type": "stream"
        }
      ]
    },
    {
      "cell_type": "code",
      "source": "#5-5 \n# V2\nalien_color = 'yellow'\n\nif alien_color == 'green':\n    points = 5\n    print(f\"The player just earned {points} points for shooting a green alien.\")\nelif alien_color == 'red':\n    points = 15\n    print(f\"The player just earned {points} points for hitting a red alien!\")\nelse:\n    points = 10\n    print(f\"The player just earned {points} points for hitting a yellow alien!\")\n",
      "metadata": {
        "trusted": true
      },
      "execution_count": 100,
      "outputs": [
        {
          "name": "stdout",
          "text": "The player just earned 10 points for hitting a yellow alien!\n",
          "output_type": "stream"
        }
      ]
    },
    {
      "cell_type": "code",
      "source": "# 5-5 \n# V3\nalien_color = 'red'\n\nif alien_color == 'green':\n    points = 5\n    print(f\"The player just earned {points} points for shooting a green alien.\")\nelif alien_color == 'red':\n    points = 15\n    print(f\"The player just earned {points} points for hitting a red alien!\")\nelse:\n    points = 10\n    print(f\"The player just earned {points} points for hitting a yellow alien!\")\n",
      "metadata": {
        "trusted": true
      },
      "execution_count": 102,
      "outputs": [
        {
          "name": "stdout",
          "text": "The player just earned 15 points for hitting a red alien!\n",
          "output_type": "stream"
        }
      ]
    },
    {
      "cell_type": "code",
      "source": "# 5-6. Stages of Life: Write an if-elif-else chain\n# that determines a person's stage of life. \nage = 30\n\nif age < 2:\n    print(\"This person is a baby.\")\nelif 2 <= age <= 4:\n    print(\"This person is a toddler.\")\nelif 4 <= age < 13:\n    print(\"This person is a kid.\")\nelif 13 <= age < 20:\n    print(\"This person is a teenager.\")\nelif 20 <= age < 65:\n    print(\"This person is an adult.\")\nelif age >= 65:\n    print(\"This person is an elder.\")",
      "metadata": {
        "trusted": true
      },
      "execution_count": 113,
      "outputs": [
        {
          "name": "stdout",
          "text": "This person is an adult.\n",
          "output_type": "stream"
        }
      ]
    },
    {
      "cell_type": "code",
      "source": "# 5-7. Favorite Fruit:\nfavorite_fruits = ['bananas', 'apples', 'blue berries']\n\nif 'bananas' in favorite_fruits:\n    print('You really like bananas!')\nif 'oranges' in favorite_fruits:\n    print('You really like oranges!')\nif 'blue berries' in favorite_fruits:\n    print('You really like blue berries!')\nif 'apples' in favorite_fruits:\n    print('You really like apples!')\nif 'cherries' in favorite_fruits:\n    print('You really like cherries!')\n",
      "metadata": {
        "trusted": true
      },
      "execution_count": 116,
      "outputs": [
        {
          "name": "stdout",
          "text": "You really like bananas!\nYou really like blue berries!\nYou really like apples!\n",
          "output_type": "stream"
        }
      ]
    },
    {
      "cell_type": "code",
      "source": "",
      "metadata": {},
      "execution_count": null,
      "outputs": []
    }
  ]
}