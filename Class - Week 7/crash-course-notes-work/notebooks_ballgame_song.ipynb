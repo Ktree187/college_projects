{
  "metadata": {
    "language_info": {
      "codemirror_mode": {
        "name": "python",
        "version": 3
      },
      "file_extension": ".py",
      "mimetype": "text/x-python",
      "name": "python",
      "nbconvert_exporter": "python",
      "pygments_lexer": "ipython3",
      "version": "3.8"
    },
    "kernelspec": {
      "name": "python",
      "display_name": "Python (Pyodide)",
      "language": "python"
    }
  },
  "nbformat_minor": 4,
  "nbformat": 4,
  "cells": [
    {
      "cell_type": "markdown",
      "source": "Project\n\nCreate a new Python file called ballgame_song.py. \n\nCreate 3 variables called verse_1, chorus and verse_2. Within them, place the following three strings: \n\nKatie Casey was baseball mad, Had the fever and had it bad. \n\nTake me out to the ball game, Take me out with the crowd \n\nKatie Casey saw all the games, Knew the players by their first names. \n\n\nCreate and fill the list called song. \n\nCreate an empty list called song. \n\nAppend the verse_1 variable to the list. \n\nAppend the chorus variable. \n\nAppend the verse_2 variable. \n\nAppend the chorus variable again. \n\n\nLoop and print the song.  \n\nLoop through the song list. \n\nFor each element, print the element. If the element is the chorus, print it twice. How would one go about printing the chorus twice, but the other elements once? Give it a little consideration; I know you will figure it out! \n",
      "metadata": {}
    },
    {
      "cell_type": "code",
      "source": "verse_1 = 'Katie Casey was baseball mad, Had the fever and had it bad.'\nchorus = 'Take me out to the ball game, Take me out with the crowd'\nverse_2 = 'Katie Casey saw all the games, Knew the players by their first names.'\n\nsong = []\n\nsong.append(verse_1)\nsong.append(chorus)\nsong.append(verse_2)\nsong.append(chorus)\n\nfor element in song:\n    if element == verse_1:\n        print(element)\n    elif element == chorus:\n        print(element)\n        print(element)\n    elif element == verse_2:\n        print(element)\n    elif element == chorus:\n        print(element)\n        print(element)\n        \n    ",
      "metadata": {
        "trusted": true
      },
      "execution_count": 9,
      "outputs": [
        {
          "name": "stdout",
          "text": "Katie Casey was baseball mad, Had the fever and had it bad.\nTake me out to the ball game, Take me out with the crowd\nTake me out to the ball game, Take me out with the crowd\nKatie Casey saw all the games, Knew the players by their first names.\nTake me out to the ball game, Take me out with the crowd\nTake me out to the ball game, Take me out with the crowd\n",
          "output_type": "stream"
        }
      ]
    },
    {
      "cell_type": "code",
      "source": "",
      "metadata": {},
      "execution_count": null,
      "outputs": []
    }
  ]
}