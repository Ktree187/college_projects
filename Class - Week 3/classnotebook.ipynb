{
 "cells": [
  {
   "cell_type": "code",
   "execution_count": 1,
   "metadata": {},
   "outputs": [
    {
     "name": "stdout",
     "output_type": "stream",
     "text": [
      "Hello World!\n"
     ]
    }
   ],
   "source": [
    "print(\"Hello World!\")"
   ]
  },
  {
   "cell_type": "code",
   "execution_count": 3,
   "metadata": {},
   "outputs": [
    {
     "name": "stdout",
     "output_type": "stream",
     "text": [
      "8.25\n",
      "8\n"
     ]
    }
   ],
   "source": [
    "# Using a single forward slash / will produce a float.\n",
    "# Using a double forward slash // will produce an integer by lopping off the float section.\n",
    "print(33 / 4)\n",
    "print(33 // 4)"
   ]
  },
  {
   "cell_type": "markdown",
   "metadata": {},
   "source": [
    "Three data types in python are float, int and string but there are more."
   ]
  },
  {
   "cell_type": "code",
   "execution_count": 6,
   "metadata": {},
   "outputs": [
    {
     "name": "stdout",
     "output_type": "stream",
     "text": [
      "2.25\n"
     ]
    }
   ],
   "source": [
    "# PEMDA - Parenthesis, exponents, multiplication, dividison (The Order of Operations).\n",
    "print(3 / 4 * (5-2))\n",
    "\n",
    "# You will need to use an astrics * to avoid tha callable int issue"
   ]
  },
  {
   "cell_type": "code",
   "execution_count": 8,
   "metadata": {},
   "outputs": [
    {
     "name": "stdout",
     "output_type": "stream",
     "text": [
      "True\n"
     ]
    }
   ],
   "source": [
    "older_21 = True\n",
    "print(older_21)"
   ]
  },
  {
   "cell_type": "code",
   "execution_count": 9,
   "metadata": {},
   "outputs": [
    {
     "name": "stdout",
     "output_type": "stream",
     "text": [
      "Dropping carton isn't good\n",
      "Dropping carton isn't good.\n"
     ]
    }
   ],
   "source": [
    "print(\"Dropping carton isn't good\")\n",
    "# Following won't work.\n",
    "print(\"Dropping carton isn't good.\")"
   ]
  },
  {
   "cell_type": "code",
   "execution_count": 10,
   "metadata": {},
   "outputs": [
    {
     "name": "stdout",
     "output_type": "stream",
     "text": [
      "56\n"
     ]
    }
   ],
   "source": [
    "print(len(\"This function counts how may elements are within quotes.\"))"
   ]
  },
  {
   "cell_type": "code",
   "execution_count": 14,
   "metadata": {},
   "outputs": [
    {
     "name": "stdout",
     "output_type": "stream",
     "text": [
      "     Another String    \n",
      "Another String\n"
     ]
    }
   ],
   "source": [
    "# The strip function looks for white space from a line of code and removes it.\n",
    "my_str = '     Another String    '\n",
    "print(my_str)\n",
    "print(my_str.strip())"
   ]
  },
  {
   "cell_type": "code",
   "execution_count": null,
   "metadata": {},
   "outputs": [],
   "source": []
  },
  {
   "cell_type": "markdown",
   "metadata": {},
   "source": [
    "Strip allows us to remove space in data columns or in user entry boxes when they type in spaces. Strip is a function and a method.\n",
    "\n",
    "You can type len in whereever but in some cases len won't work. Len works with strings, lists, and so fourth.\n",
    "\n",
    "Strip will only work with strings. "
   ]
  },
  {
   "cell_type": "code",
   "execution_count": 20,
   "metadata": {},
   "outputs": [
    {
     "name": "stdout",
     "output_type": "stream",
     "text": [
      "     Another String    \n",
      "     ANOTHER STRING    \n",
      "     another string    \n",
      "     Another String\n",
      "Another String    \n",
      "Another String\n"
     ]
    }
   ],
   "source": [
    "# .title() capitalizes the first letter in each word.\n",
    "print(my_str.title())\n",
    "\n",
    "# .upper() capitializes every letter in the word.\n",
    "print(my_str.upper())\n",
    "\n",
    "# .lower() puts every letter in lower case.\n",
    "print(my_str.lower())\n",
    "\n",
    "# .rstrip() only strips white space on the right.\n",
    "print(my_str.rstrip())\n",
    "\n",
    "# .lstrip() only strips white space on the left.\n",
    "print(my_str.lstrip())\n",
    "\n",
    "# .strip() removes all white space on the left and right.\n",
    "print(my_str.strip())"
   ]
  },
  {
   "cell_type": "code",
   "execution_count": 22,
   "metadata": {},
   "outputs": [
    {
     "name": "stdout",
     "output_type": "stream",
     "text": [
      "My name is Keller.\n"
     ]
    }
   ],
   "source": [
    "# f at the beginning makes this an f-string. f stands for format.\n",
    "# When you use an f-string if you type a variable in the curly braces {}. It will print out that variable.\n",
    "name = \"Keller\"\n",
    "print(f'My name is {name}.')"
   ]
  },
  {
   "cell_type": "code",
   "execution_count": 23,
   "metadata": {},
   "outputs": [
    {
     "name": "stdout",
     "output_type": "stream",
     "text": [
      "My name is Troy.\n",
      "My name is Sheila.\n"
     ]
    }
   ],
   "source": [
    "# You can change the name of a variable later in a program.\n",
    "# Class video at 11:58am\n",
    "name = 'Troy'\n",
    "print(f'My name is {name}.')\n",
    "name = 'Sheila'\n",
    "print(f'My name is {name}.')"
   ]
  },
  {
   "cell_type": "code",
   "execution_count": 25,
   "metadata": {},
   "outputs": [
    {
     "name": "stdout",
     "output_type": "stream",
     "text": [
      "ACME\n",
      "ACE\n"
     ]
    }
   ],
   "source": [
    "# If you type in all caps it tells other programmers not to change that variable.\n",
    "# Python allows you to change constants. This is an issue so typing in CAPS notifies programmers not to override the variable.\n",
    "\n",
    "COMPANY_NAME = 'ACME'\n",
    "print(COMPANY_NAME)\n",
    "COMPANY_NAME = 'ACE'\n",
    "print(COMPANY_NAME)"
   ]
  },
  {
   "cell_type": "code",
   "execution_count": null,
   "metadata": {},
   "outputs": [],
   "source": []
  }
 ],
 "metadata": {
  "kernelspec": {
   "display_name": "Python 3",
   "language": "python",
   "name": "python3"
  },
  "language_info": {
   "codemirror_mode": {
    "name": "ipython",
    "version": 3
   },
   "file_extension": ".py",
   "mimetype": "text/x-python",
   "name": "python",
   "nbconvert_exporter": "python",
   "pygments_lexer": "ipython3",
   "version": "3.11.5"
  },
  "orig_nbformat": 4
 },
 "nbformat": 4,
 "nbformat_minor": 2
}
