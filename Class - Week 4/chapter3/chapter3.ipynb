{
 "cells": [
  {
   "cell_type": "code",
   "execution_count": 1,
   "metadata": {},
   "outputs": [
    {
     "name": "stdout",
     "output_type": "stream",
     "text": [
      "Aria\n",
      "Jewels\n",
      "Mark\n",
      "Scott\n",
      "Rhett\n",
      "Sonnet\n",
      "Ridge\n"
     ]
    }
   ],
   "source": [
    "# 3-1. Names: This code prints out each name in the names list individually by index value. Accessing each element one at a time.\n",
    "names = ['Aria', 'Jewels', 'Mark', 'Scott', 'Rhett', 'Sonnet', 'Ridge']\n",
    "print(names[0])\n",
    "print(names[1])\n",
    "print(names[2])\n",
    "print(names[3])\n",
    "print(names[4])\n",
    "print(names[5])\n",
    "print(names[6])"
   ]
  },
  {
   "cell_type": "code",
   "execution_count": 2,
   "metadata": {},
   "outputs": [
    {
     "name": "stdout",
     "output_type": "stream",
     "text": [
      "Hi Aria! How are you doing today?\n",
      "Hi Jewels! How are you doing today?\n",
      "Hi Mark! How are you doing today?\n",
      "Hi Scott! How are you doing today?\n",
      "Hi Rhett! How are you doing today?\n",
      "Hi Sonnet! How are you doing today?\n",
      "Hi Ridge! How are you doing today?\n"
     ]
    }
   ],
   "source": [
    "# 3-2. Greetings: Prints out a greeting for each friend.\n",
    "print(f'Hi {names[0]}! How are you doing today?')\n",
    "print(f'Hi {names[1]}! How are you doing today?')\n",
    "print(f'Hi {names[2]}! How are you doing today?')\n",
    "print(f'Hi {names[3]}! How are you doing today?')\n",
    "print(f'Hi {names[4]}! How are you doing today?')\n",
    "print(f'Hi {names[5]}! How are you doing today?')\n",
    "print(f'Hi {names[6]}! How are you doing today?')"
   ]
  },
  {
   "cell_type": "code",
   "execution_count": 3,
   "metadata": {},
   "outputs": [
    {
     "name": "stdout",
     "output_type": "stream",
     "text": [
      "My favorite vehicle would be a Jeep Longitude.\n",
      "If I had a Tesla Model S it would reduce my impact on climate change.\n",
      "I would like to own an electric boat with a range of 1000 miles.\n",
      "If I had a helicopter I could explore natural environments far from civilization.\n",
      "I would prefer an electric Jeep over a Tesla Model S.\n"
     ]
    }
   ],
   "source": [
    "# 3-3. Your Own List: Favorite mode of transportation and various statements.\n",
    "favorite_transport = ['Jeep Longitude', 'Tesla Model S', 'electric boat', 'electric Jeep', 'helicopter']\n",
    "print(f\"My favorite vehicle would be a {favorite_transport[0]}.\") \n",
    "print(f\"If I had a {favorite_transport[1]} it would reduce my impact on climate change.\")\n",
    "print(f\"I would like to own an {favorite_transport[2]} with a range of 1000 miles.\")\n",
    "print(f\"If I had a {favorite_transport[-1]} I could explore natural environments far from civilization.\")\n",
    "print(f\"I would prefer an {favorite_transport[-2]} over a {favorite_transport[1]}.\")"
   ]
  },
  {
   "cell_type": "code",
   "execution_count": 25,
   "metadata": {},
   "outputs": [
    {
     "name": "stdout",
     "output_type": "stream",
     "text": [
      "['Remi', 'Andrew', 'Steven']\n",
      "Hello Remi! Would you like to get dinner tonight?\n",
      "Hello Andrew! Would you like to get dinner tonight?\n",
      "Hello Steven! Would you like to get dinner tonight?\n"
     ]
    }
   ],
   "source": [
    "# 3-4. Guest List: Make a list that includes at least three people you'd like to meet.\n",
    "# Then use your list to print am essage to each person, inviting them to dinner.\n",
    "guest_list = ['Remi', 'Andrew', 'Steven']\n",
    "print(guest_list)\n",
    "\n",
    "print('Hello ' + guest_list[0] + '! Would you like to get dinner tonight?')\n",
    "print('Hello ' + guest_list[1] + '! Would you like to get dinner tonight?')\n",
    "print('Hello ' + guest_list[2] + '! Would you like to get dinner tonight?')"
   ]
  },
  {
   "cell_type": "code",
   "execution_count": 26,
   "metadata": {},
   "outputs": [
    {
     "name": "stdout",
     "output_type": "stream",
     "text": [
      "Hello Remi! Would you like to get dinner tonight?\n",
      "Hello Andrew! Would you like to get dinner tonight?\n",
      "Hello Steven! Would you like to get dinner tonight? \n",
      "\n",
      "It turns out that Andrew will not be able to make it.\n",
      "\n",
      "Hello Remi! Would you like to get dinner tonight?\n",
      "Hello Emmie! Would you like to get dinner tonight?\n",
      "Hello Steven! Would you like to get dinner tonight?\n"
     ]
    }
   ],
   "source": [
    "# 3-5. Changing Guest List: It turns out one of your guests can't make the dinner so you need to invite someone else.\n",
    "# Use the list to send out a new set of invitations.\n",
    "guest_list = ['remi', 'andrew', 'steven']\n",
    "\n",
    "print('Hello ' + guest_list[0].title() + '! Would you like to get dinner tonight?')\n",
    "print('Hello ' + guest_list[1].title()  + '! Would you like to get dinner tonight?')\n",
    "print('Hello ' + guest_list[2].title() + '! Would you like to get dinner tonight? \\n')\n",
    "print('It turns out that ' + guest_list.pop(1).title() + ' will not be able to make it.\\n')\n",
    "\n",
    "guest_list.insert(1, 'emmie') # Inserts Emmie into index 1.\n",
    "\n",
    "print('Hello ' + guest_list[0].title() + '! Would you like to get dinner tonight?')\n",
    "print('Hello ' + guest_list[1].title() + '! Would you like to get dinner tonight?')\n",
    "print('Hello ' + guest_list[2].title() + '! Would you like to get dinner tonight?')\n"
   ]
  },
  {
   "cell_type": "code",
   "execution_count": 27,
   "metadata": {},
   "outputs": [
    {
     "name": "stdout",
     "output_type": "stream",
     "text": [
      "Hello Remi! Would you like to get dinner tonight?\n",
      "Hello Andrew! Would you like to get dinner tonight?\n",
      "Hello Steven! Would you like to get dinner tonight? \n",
      "\n",
      "It turns out that Andrew will not be able to make it.\n",
      "\n",
      "Hello Remi! Would you like to get dinner tonight?\n",
      "Hello Emmie! Would you like to get dinner tonight?\n",
      "Hello Steven! Would you like to get dinner tonight?\n",
      "\n",
      "Just a quick update team I managed to find a bigger table.\n",
      "\n",
      "Hello Remi! Would you like to get dinner tonight?\n",
      "Hello Emmie! Would you like to get dinner tonight?\n",
      "Hello Steven! Would you like to get dinner tonight?\n",
      "Hello Colin! Would you like to get dinner tonight?\n",
      "Hello Leah! Would you like to get dinner tonight?\n",
      "Hello Aria! Would you like to get dinner tonight?\n"
     ]
    }
   ],
   "source": [
    "# 3-6. More Guests: You just found a bigger dinner table. Invite three more guests.\n",
    "guest_list = ['remi', 'andrew', 'steven']\n",
    "\n",
    "print('Hello ' + guest_list[0].title() + '! Would you like to get dinner tonight?')\n",
    "print('Hello ' + guest_list[1].title()  + '! Would you like to get dinner tonight?')\n",
    "print('Hello ' + guest_list[2].title() + '! Would you like to get dinner tonight? \\n')\n",
    "print('It turns out that ' + guest_list.pop(1).title() + ' will not be able to make it.\\n')\n",
    "\n",
    "guest_list.insert(1, 'emmie') # Inserts Emmie into index 1.\n",
    "\n",
    "print('Hello ' + guest_list[0].title() + '! Would you like to get dinner tonight?')\n",
    "print('Hello ' + guest_list[1].title() + '! Would you like to get dinner tonight?')\n",
    "print('Hello ' + guest_list[2].title() + '! Would you like to get dinner tonight?\\n')\n",
    "\n",
    "print('Just a quick update team I managed to find a bigger table.\\n')\n",
    "\n",
    "guest_list.insert(3, 'colin')\n",
    "guest_list.insert(4, 'leah')\n",
    "guest_list.append('aria')\n",
    "\n",
    "print('Hello ' + guest_list[0].title() + '! Would you like to get dinner tonight?')\n",
    "print('Hello ' + guest_list[1].title() + '! Would you like to get dinner tonight?')\n",
    "print('Hello ' + guest_list[2].title() + '! Would you like to get dinner tonight?')\n",
    "print('Hello ' + guest_list[3].title() + '! Would you like to get dinner tonight?')\n",
    "print('Hello ' + guest_list[-2].title() + '! Would you like to get dinner tonight?')\n",
    "print('Hello ' + guest_list[-1].title() + '! Would you like to get dinner tonight?')\n",
    "\n",
    "\n",
    "\n",
    "\n"
   ]
  },
  {
   "cell_type": "code",
   "execution_count": 34,
   "metadata": {},
   "outputs": [
    {
     "name": "stdout",
     "output_type": "stream",
     "text": [
      "Hello Remi! Would you like to get dinner tonight?\n",
      "Hello Andrew! Would you like to get dinner tonight?\n",
      "Hello Steven! Would you like to get dinner tonight? \n",
      "\n",
      "It turns out that Andrew will not be able to make it.\n",
      "\n",
      "Hello Remi! Would you like to get dinner tonight?\n",
      "Hello Emmie! Would you like to get dinner tonight?\n",
      "Hello Steven! Would you like to get dinner tonight?\n",
      "\n",
      "Just a quick update team I managed to find a bigger table.\n",
      "\n",
      "Hello Remi! Would you like to get dinner tonight?\n",
      "Hello Emmie! Would you like to get dinner tonight?\n",
      "Hello Steven! Would you like to get dinner tonight?\n",
      "Hello Colin! Would you like to get dinner tonight?\n",
      "Hello Leah! Would you like to get dinner tonight?\n",
      "Hello Aria! Would you like to get dinner tonight?\n",
      "\n",
      "I am only able to invite two people for dinner.\n",
      "\n",
      "I am sorry that I cannot invite you to dinner tonight Aria.\n",
      "I am sorry that I cannot invite you to dinner tonight Leah.\n",
      "I am sorry that I cannot invite you to dinner tonight Colin.\n",
      "I am sorry that I cannot invite you to dinner tonight Steven.\n",
      "\n",
      "Hey Remi you are still invited for dinner.\n",
      "Hey Emmie you are still invited for dinner.\n",
      "[]\n"
     ]
    }
   ],
   "source": [
    "# 3-7. Shrinking Guest List: The table won't arrive in time for the dinner, and you have space for only tow guest.\n",
    "guest_list = ['remi', 'andrew', 'steven']\n",
    "\n",
    "print('Hello ' + guest_list[0].title() + '! Would you like to get dinner tonight?')\n",
    "print('Hello ' + guest_list[1].title()  + '! Would you like to get dinner tonight?')\n",
    "print('Hello ' + guest_list[2].title() + '! Would you like to get dinner tonight? \\n')\n",
    "print('It turns out that ' + guest_list.pop(1).title() + ' will not be able to make it.\\n')\n",
    "\n",
    "guest_list.insert(1, 'emmie') # Inserts Emmie into index 1.\n",
    "\n",
    "print('Hello ' + guest_list[0].title() + '! Would you like to get dinner tonight?')\n",
    "print('Hello ' + guest_list[1].title() + '! Would you like to get dinner tonight?')\n",
    "print('Hello ' + guest_list[2].title() + '! Would you like to get dinner tonight?\\n')\n",
    "\n",
    "print('Just a quick update team I managed to find a bigger table.\\n')\n",
    "\n",
    "guest_list.insert(3, 'colin')\n",
    "guest_list.insert(4, 'leah')\n",
    "guest_list.append('aria')\n",
    "\n",
    "print('Hello ' + guest_list[0].title() + '! Would you like to get dinner tonight?')\n",
    "print('Hello ' + guest_list[1].title() + '! Would you like to get dinner tonight?')\n",
    "print('Hello ' + guest_list[2].title() + '! Would you like to get dinner tonight?')\n",
    "print('Hello ' + guest_list[3].title() + '! Would you like to get dinner tonight?')\n",
    "print('Hello ' + guest_list[-2].title() + '! Would you like to get dinner tonight?')\n",
    "print('Hello ' + guest_list[-1].title() + '! Would you like to get dinner tonight?\\n')\n",
    "\n",
    "print('I am only able to invite two people for dinner.\\n')\n",
    "\n",
    "# Each time we pop the list removes the index requested, therefore the index placement changes each time you pop(). \n",
    "# That is why there is -1, -1, -1, -1 in the guestlist.pop(). Each time we remove someone that value is gone and the list is shorter.\n",
    "# Python runs top down so each time you pop the index value for the element shifts to whatever is next inline.\n",
    "print(f'I am sorry that I cannot invite you to dinner tonight {guest_list.pop(-1).title()}.')\n",
    "print(f'I am sorry that I cannot invite you to dinner tonight {guest_list.pop(-1).title()}.')\n",
    "print(f'I am sorry that I cannot invite you to dinner tonight {guest_list.pop(-1).title()}.')\n",
    "print(f'I am sorry that I cannot invite you to dinner tonight {guest_list.pop(-1).title()}.\\n')\n",
    "print(f'Hey {guest_list[0].title()} you are still invited for dinner.')\n",
    "print(f'Hey {guest_list[1].title()} you are still invited for dinner.')\n",
    "\n",
    "# When we run the del statement we are del the value that is at the given index.  \n",
    "\n",
    "del guest_list[0]\n",
    "del guest_list[0] # Since we deleted the value/element in 0 whatever was in index 1 drops down to index 0.\n",
    "\n",
    "print(guest_list)\n",
    "\n",
    "\n"
   ]
  },
  {
   "cell_type": "code",
   "execution_count": 1,
   "metadata": {},
   "outputs": [
    {
     "name": "stdout",
     "output_type": "stream",
     "text": [
      "['Japan', 'Scotland', 'Sequoia National Park', 'Olympic National Park', 'Iceland']\n",
      "['Iceland', 'Japan', 'Olympic National Park', 'Scotland', 'Sequoia National Park']\n",
      "['Japan', 'Scotland', 'Sequoia National Park', 'Olympic National Park', 'Iceland']\n",
      "['Sequoia National Park', 'Scotland', 'Olympic National Park', 'Japan', 'Iceland']\n",
      "['Japan', 'Scotland', 'Sequoia National Park', 'Olympic National Park', 'Iceland']\n",
      "['Iceland', 'Japan', 'Olympic National Park', 'Scotland', 'Sequoia National Park']\n",
      "['Sequoia National Park', 'Scotland', 'Olympic National Park', 'Japan', 'Iceland']\n"
     ]
    }
   ],
   "source": [
    "#3.8. Seeing the World: Think of five places in the world you'd like to visit.\n",
    "places_to_visit = ['Japan', 'Scotland', 'Sequoia National Park', 'Olympic National Park', 'Iceland']\n",
    "print(places_to_visit)\n",
    "\n",
    "# Prints out a temporary sorted list in alphabetical order.\n",
    "print(sorted(places_to_visit))\n",
    "\n",
    "# Prints out the list in original order.\n",
    "print(places_to_visit)\n",
    "\n",
    "# Prints out the list in a tempory reverse alphabetically sorted order.\n",
    "print(sorted(places_to_visit, reverse=True))\n",
    "\n",
    "# Prints out the list to show it's orignial order has not changed.\n",
    "print(places_to_visit)\n",
    "\n",
    "# Uses the sort() method to change the list so it is stored in alphabetical order.\n",
    "places_to_visit.sort()\n",
    "print(places_to_visit)\n",
    "\n",
    "# Uses sort(rever=True) method to change the list so it is stored in reverse alphabetical order.\n",
    "places_to_visit.sort(reverse=True)\n",
    "print(places_to_visit)"
   ]
  },
  {
   "cell_type": "code",
   "execution_count": 11,
   "metadata": {},
   "outputs": [
    {
     "name": "stdout",
     "output_type": "stream",
     "text": [
      "I invited 3 guests to dinner.\n"
     ]
    }
   ],
   "source": [
    "# 3-9. Dinner Guests: Uses len() function to determine how many people are invited to dinner.\n",
    "guest_list = ['remi', 'andrew', 'steven']\n",
    "numberofguests = len(guest_list)\n",
    "print(f\"I invited {numberofguests} guests to dinner.\")"
   ]
  },
  {
   "cell_type": "code",
   "execution_count": 60,
   "metadata": {},
   "outputs": [
    {
     "name": "stdout",
     "output_type": "stream",
     "text": [
      "['null', 'python programming', 'structured query language', 'databases', 'data analytics', 'data science']\n",
      "['data science', 'data analytics', 'databases', 'structured query language', 'python programming', 'null']\n",
      "['structured query language', 'python programming', 'null', 'databases', 'data science', 'data analytics']\n",
      "['data analytics', 'data science', 'databases', 'null', 'python programming', 'structured query language']\n",
      "['structured query language', 'python programming', 'null', 'databases', 'data science', 'data analytics']\n",
      "['data analytics', 'data science', 'databases', 'null', 'python programming', 'structured query language']\n",
      "['structured query language', 'python programming', 'null', 'databases', 'data science', 'data analytics']\n",
      "['data analytics', 'data science', 'databases', 'null', 'python programming', 'structured query language']\n",
      "['data analytics', 'data science', 'databases', 'python programming', 'structured query language']\n",
      "Since we are still testing functions I will reinsert null.\n",
      "\n",
      "['null', 'data analytics', 'data science', 'databases', 'python programming', 'structured query language']\n",
      "['data analytics', 'data science', 'databases', 'python programming', 'structured query language']\n",
      "['data analytics', 'data science', 'databases', 'python programming', 'structured query language', 'null']\n",
      "\n",
      "The last value is null.\n",
      "\n",
      "Since the last value in our list is null.\n",
      "It is important we remove the null value from our list with pop.\n",
      "By using the .pop() function we can use null one time after its removal.\n",
      "\n",
      "We remove Null from our study topic list.\n",
      "\n",
      "['data analytics', 'data science', 'databases', 'python programming', 'structured query language']\n",
      "\n",
      "There are now 5 in my list.\n",
      "\n",
      "It is my goal to study Data Analytics and find work in the tech industry.\n",
      "It is my goal to study Data Science and find work in the tech industry.\n",
      "It is my goal to study Databases and find work in the tech industry.\n",
      "It is my goal to study Python Programming and find work in the tech industry.\n",
      "It is my goal to study Structured Query Language and find work in the tech industry.\n"
     ]
    }
   ],
   "source": [
    "# 3-10. Every Function: \n",
    "study_topics = ['null', 'python programming', 'structured query language', 'databases', 'data analytics', 'data science'] # Creates a list to be referenced.\n",
    "print(study_topics)\n",
    "\n",
    "study_topics.reverse() # .reverse() reverses the order of the list permanently you can also use it to switch back.\n",
    "print(study_topics)\n",
    "\n",
    "study_topics.sort(reverse=True) # .sort(reverse=True) permanently reorders the list reverse alphabetically.\n",
    "print(study_topics)\n",
    "\n",
    "print(sorted(study_topics)) # sorted(study(list)) temporarily produces a sorted list without changing the lists value.\n",
    "print(study_topics)\n",
    "\n",
    "study_topics.sort() # .sort() permanently reorders the list alphabetically.\n",
    "print(study_topics)\n",
    "\n",
    "print(sorted(study_topics, reverse=True)) # sorted(study(list, reveser=True)) temporarily produces a reverse alphabetically sorted list without changing the lists value.\n",
    "\n",
    "print(study_topics)\n",
    "\n",
    "study_topics.remove('null') # .remove() scans the list and removes the label given.\n",
    "\n",
    "print(study_topics)\n",
    "\n",
    "print('Since we are still testing functions I will reinsert null.\\n')\n",
    "\n",
    "study_topics.insert(0, 'null') # Inserts 'null' at index 0.\n",
    "\n",
    "print(study_topics)\n",
    "\n",
    "del study_topics[0] # Deletes the value at index 0, in this case null.\n",
    "\n",
    "print(study_topics)\n",
    "\n",
    "study_topics.append('null') # Attaches the value 'null' to the end of the list.\n",
    "\n",
    "print(study_topics)\n",
    "\n",
    "study_topics[-1] # Selects and prints the last value in the list.\n",
    "\n",
    "last_value = study_topics[-1] # Creates the variable with the label at index -1, which is null.\n",
    "print(f'\\nThe last value is {last_value}.')\n",
    "\n",
    "print(f'\\nSince the last value in our list is {last_value}.')\n",
    "print(f'It is important we remove the null value from our list with pop.')\n",
    "print(f'By using the .pop() function we can use null one time after its removal.')\n",
    "print(f\"\\nWe remove {study_topics.pop(-1).title()} from our study topic list.\\n\")\n",
    "\n",
    "print(study_topics)\n",
    "\n",
    "number_of_topics = len(study_topics)\n",
    "\n",
    "print(f\"\\nThere are now {number_of_topics} in my list.\\n\")\n",
    "print(f\"It is my goal to study {study_topics[0].title()} and find work in the tech industry.\")\n",
    "print(f\"It is my goal to study {study_topics[1].title()} and find work in the tech industry.\")\n",
    "print(f\"It is my goal to study {study_topics[2].title()} and find work in the tech industry.\")\n",
    "print(f\"It is my goal to study {study_topics[3].title()} and find work in the tech industry.\")\n",
    "print(f\"It is my goal to study {study_topics[4].title()} and find work in the tech industry.\")\n",
    "\n",
    "\n"
   ]
  },
  {
   "cell_type": "code",
   "execution_count": null,
   "metadata": {},
   "outputs": [],
   "source": []
  }
 ],
 "metadata": {
  "kernelspec": {
   "display_name": "Python 3",
   "language": "python",
   "name": "python3"
  },
  "language_info": {
   "codemirror_mode": {
    "name": "ipython",
    "version": 3
   },
   "file_extension": ".py",
   "mimetype": "text/x-python",
   "name": "python",
   "nbconvert_exporter": "python",
   "pygments_lexer": "ipython3",
   "version": "3.11.5"
  },
  "orig_nbformat": 4
 },
 "nbformat": 4,
 "nbformat_minor": 2
}
