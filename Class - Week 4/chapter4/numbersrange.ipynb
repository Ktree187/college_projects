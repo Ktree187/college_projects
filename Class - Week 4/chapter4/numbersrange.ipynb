{
 "cells": [
  {
   "cell_type": "code",
   "execution_count": 2,
   "metadata": {},
   "outputs": [
    {
     "name": "stdout",
     "output_type": "stream",
     "text": [
      "1\n",
      "2\n",
      "3\n",
      "4\n",
      "\n",
      "This line is just a seperator.\n",
      "\n",
      "1\n",
      "2\n",
      "3\n",
      "4\n",
      "5\n",
      "[1, 2, 3, 4, 5]\n"
     ]
    }
   ],
   "source": [
    "# Using the range() Function\n",
    "# Notice how when you run this 1 to 5 it doesn't print 5.\n",
    "# Although this code looks like it should print the numbers from 1 to 5,\n",
    "# It doesn't print the number 5.\n",
    "# This is another result of the off-by-one behavior you'll see often in programming languages.\n",
    "# The range() function causes Python to start counting at the first value\n",
    "# you give i, and it stops when it reaches the second value you provide.\n",
    "# Because it stops at that second value, the output never contains the end value,\n",
    "# which would have been 5 in this case.\n",
    "# To print the number 1 to 5, you would use range(1, 6).\n",
    "for value in range(1,5):\n",
    "    print(value)\n",
    "\n",
    "print(\"\\nThis line is just a seperator.\\n\")\n",
    "# This time the output starts at 1 and ends at 5. One-off-nature of code.\n",
    "for value in range(1, 6):\n",
    "    print(value)\n",
    "\n",
    "# If your output is different than what you expect when you're using \n",
    "# range() try adjusting your end value by 1."
   ]
  },
  {
   "cell_type": "code",
   "execution_count": 3,
   "metadata": {},
   "outputs": [
    {
     "name": "stdout",
     "output_type": "stream",
     "text": [
      "[1, 2, 3, 4, 5]\n"
     ]
    }
   ],
   "source": [
    "\n",
    "# Using range() to Make a List of Numbers\n",
    "# You can conver the results of range() directly into a list using the list() function.\n",
    "# When you wrap a list() around a call to the range() function, the output will be a list of numbers.\n",
    "\n",
    "numbers = list(range(1,6))\n",
    "print(numbers)"
   ]
  },
  {
   "cell_type": "code",
   "execution_count": null,
   "metadata": {},
   "outputs": [],
   "source": [
    "\n"
   ]
  }
 ],
 "metadata": {
  "kernelspec": {
   "display_name": "Python 3",
   "language": "python",
   "name": "python3"
  },
  "language_info": {
   "codemirror_mode": {
    "name": "ipython",
    "version": 3
   },
   "file_extension": ".py",
   "mimetype": "text/x-python",
   "name": "python",
   "nbconvert_exporter": "python",
   "pygments_lexer": "ipython3",
   "version": "3.11.5"
  },
  "orig_nbformat": 4
 },
 "nbformat": 4,
 "nbformat_minor": 2
}
