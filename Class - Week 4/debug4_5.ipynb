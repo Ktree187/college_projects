{
 "cells": [
  {
   "cell_type": "code",
   "execution_count": 2,
   "metadata": {},
   "outputs": [
    {
     "name": "stdout",
     "output_type": "stream",
     "text": [
      "I should try plantains.\n",
      "I should try gojis.\n",
      "I should try camu.\n",
      "I should try lychee.\n",
      "You're adventurous to want to try so many fruits!\n"
     ]
    }
   ],
   "source": [
    "exotic_fruits = ['plantains', 'gojis', 'camu', 'lychee']\n",
    "for fruit in exotic_fruits:\n",
    "# This statement should display for each fruit.\n",
    "    print(f'I should try {fruit}.')\n",
    "# This statement should only display once.\n",
    "print(\"You're adventurous to want to try so many fruits!\")"
   ]
  },
  {
   "cell_type": "code",
   "execution_count": 4,
   "metadata": {},
   "outputs": [
    {
     "name": "stdout",
     "output_type": "stream",
     "text": [
      "The test subject number is 10.\n",
      "The test subject number is 11.\n",
      "The test subject number is 12.\n",
      "The test subject number is 13.\n",
      "The test subject number is 14.\n",
      "The test subject number is 15.\n",
      "The test subject number is 16.\n",
      "The test subject number is 17.\n",
      "The test subject number is 18.\n",
      "The test subject number is 19.\n",
      "The test subject number is 20.\n"
     ]
    }
   ],
   "source": [
    "# The following is not a run-time error, but a logical error. The program runs without an error but\n",
    "# the user is expecting to see test subjects 10 through 20, like so:\n",
    "#\n",
    "# The test subject number is 10.\n",
    "# The test subject number is 11.\n",
    "# The test subject number is 12.\n",
    "#            ...\n",
    "# The test subject number is 20.\n",
    "#\n",
    "# Fix the program to display the correct output.\n",
    "\n",
    "for test_subject in range(10,21):\n",
    "    print(f'The test subject number is {test_subject}.')"
   ]
  },
  {
   "cell_type": "code",
   "execution_count": 6,
   "metadata": {},
   "outputs": [
    {
     "name": "stdout",
     "output_type": "stream",
     "text": [
      "165\n"
     ]
    }
   ],
   "source": [
    "numbers = list(range(10,21))\n",
    "sum_of_numbers = sum(numbers)\n",
    "print(sum_of_numbers)"
   ]
  },
  {
   "cell_type": "code",
   "execution_count": 9,
   "metadata": {},
   "outputs": [
    {
     "name": "stdout",
     "output_type": "stream",
     "text": [
      "[10, 11, 12, 13, 14, 15, 16, 17, 18, 19, 20]\n"
     ]
    }
   ],
   "source": [
    "numbers_to_100 = list(range(101))\n",
    "# The expected output is: 10, 11, 12, 13, ..., 20. Fix the program.\n",
    "print(numbers_to_100[10:21])"
   ]
  },
  {
   "cell_type": "code",
   "execution_count": 12,
   "metadata": {},
   "outputs": [
    {
     "name": "stdout",
     "output_type": "stream",
     "text": [
      "Their common hobbies are video games and skiing.\n",
      "Federico's hobbies are ['video games', 'skiing', 'collecting stamps', 'zip-lining'].\n",
      "Dewi's hobbies are ['video games', 'skiing', 'numismatics'].\n"
     ]
    }
   ],
   "source": [
    "# Federico and Dewi grew up together and would play video games and ski together.\n",
    "\n",
    "federico_hobbies = ['video games', 'skiing']\n",
    "dewi_hobbies = ['video games', 'skiing']\n",
    "common_hobbies = ['video games', 'skiing']\n",
    "\n",
    "print(f'Their common hobbies are {common_hobbies[0]} and {common_hobbies[1]}.')\n",
    "\n",
    "# Dewi also likes to collect coins.\n",
    "dewi_hobbies.append('numismatics')\n",
    "\n",
    "# Federico thinks collecting stamps is where it's at. He also likes to zip-line.\n",
    "federico_hobbies.append('collecting stamps')\n",
    "federico_hobbies.append('zip-lining')\n",
    "\n",
    "print(f\"Federico's hobbies are {federico_hobbies}.\")\n",
    "print(f\"Dewi's hobbies are {dewi_hobbies}.\")\n",
    "\n",
    "# Expected to see:\n",
    "# Federico's hobbies are ['video games', 'skiing', 'collecting stamps', 'zip-lining'].\n",
    "# Dewi's hobbies are ['video games', 'skiing', 'numismatics'].\n",
    "# Fix the program.\n",
    "\n",
    "# The issue was federico's hobbies were stored in the dewi_hobbies variable.\n",
    "# The other issue was that the common hobbies in the f-string were calling the entire variables.\n",
    "# To corret this I created a new variable for common hobbies and retrieved the index 0 and 1 for common hobbies.\n",
    "\n"
   ]
  },
  {
   "cell_type": "code",
   "execution_count": 3,
   "metadata": {},
   "outputs": [
    {
     "name": "stdout",
     "output_type": "stream",
     "text": [
      "Their common hobbies are ['video games', 'skiing'] and ['video games', 'skiing'].\n",
      "Federico's hobbies are ['video games', 'skiing', 'collecting stamps', 'zip-lining'].\n",
      "Dewi's hobbies are ['video games', 'skiing', 'numismatics'].\n"
     ]
    }
   ],
   "source": [
    "# Federico and Dewi grew up together and would play video games and ski together.\n",
    "\n",
    "federico_hobbies = ['video games', 'skiing']\n",
    "dewi_hobbies = federico_hobbies[:]\n",
    "\n",
    "print(f'Their common hobbies are {federico_hobbies} and {dewi_hobbies}.')\n",
    "\n",
    "# Dewi also likes to collect coins.\n",
    "dewi_hobbies.append('numismatics')\n",
    "\n",
    "# Federico thinks collecting stamps is where it's at. He also likes to zip-line.\n",
    "federico_hobbies.append('collecting stamps')\n",
    "federico_hobbies.append('zip-lining')\n",
    "\n",
    "print(f\"Federico's hobbies are {federico_hobbies}.\")\n",
    "print(f\"Dewi's hobbies are {dewi_hobbies}.\")\n",
    "\n",
    "# Expected to see:\n",
    "# Federico's hobbies are ['video games', 'skiing', 'collecting stamps', 'zip-lining'].\n",
    "# Dewi's hobbies are ['video games', 'skiing', 'numismatics'].\n",
    "# Fix the program.\n",
    "\n",
    "# The issue was federico's hobbies were stored in the dewi_hobbies variable.\n",
    "# The proper way to copy a list would be to use an open ended slice [:].\n",
    "# If we use an open ended slice then changes made to federico_hobbies won't affect dewi_hobbies"
   ]
  },
  {
   "cell_type": "code",
   "execution_count": null,
   "metadata": {},
   "outputs": [],
   "source": []
  }
 ],
 "metadata": {
  "kernelspec": {
   "display_name": "Python 3",
   "language": "python",
   "name": "python3"
  },
  "language_info": {
   "codemirror_mode": {
    "name": "ipython",
    "version": 3
   },
   "file_extension": ".py",
   "mimetype": "text/x-python",
   "name": "python",
   "nbconvert_exporter": "python",
   "pygments_lexer": "ipython3",
   "version": "3.11.5"
  },
  "orig_nbformat": 4
 },
 "nbformat": 4,
 "nbformat_minor": 2
}
