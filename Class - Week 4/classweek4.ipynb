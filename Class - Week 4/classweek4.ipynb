{
 "cells": [
  {
   "cell_type": "code",
   "execution_count": 2,
   "metadata": {},
   "outputs": [
    {
     "name": "stdout",
     "output_type": "stream",
     "text": [
      "Hello World!\n"
     ]
    }
   ],
   "source": [
    "print('Hello World!')"
   ]
  },
  {
   "cell_type": "code",
   "execution_count": 3,
   "metadata": {},
   "outputs": [
    {
     "name": "stdout",
     "output_type": "stream",
     "text": [
      "2\n"
     ]
    }
   ],
   "source": [
    "length_of_hi = len('Hi')\n",
    "print(length_of_hi)"
   ]
  },
  {
   "cell_type": "code",
   "execution_count": 5,
   "metadata": {},
   "outputs": [
    {
     "name": "stdout",
     "output_type": "stream",
     "text": [
      "16\n"
     ]
    }
   ],
   "source": [
    "length_times_eight = length_of_hi * 8\n",
    "print(length_times_eight)"
   ]
  },
  {
   "cell_type": "code",
   "execution_count": null,
   "metadata": {},
   "outputs": [
    {
     "name": "stdout",
     "output_type": "stream",
     "text": [
      "    OH HAPPY DAY!   \n"
     ]
    }
   ],
   "source": [
    "my_saying = '    Oh happy day!   '\n",
    "upper_saying = my_saying.upper()\n",
    "# print(upper_saying)\n",
    "\n",
    "my_saying = my_saying.upper()\n",
    "print(my_saying)\n",
    "\n",
    "my_saying = my_saying.strip()\n",
    "print(my_saying)\n",
    "\n",
    "my_lower_saying = my_saying.lower()\n",
    "print(my_lower_saying)"
   ]
  },
  {
   "cell_type": "code",
   "execution_count": 3,
   "metadata": {},
   "outputs": [],
   "source": [
    "# This is a list.\n",
    "dogs = ['Swiss Mountain Dog', 'St. Bernard', 'Labrador Retriever', 'Collie']\n"
   ]
  },
  {
   "cell_type": "code",
   "execution_count": 4,
   "metadata": {},
   "outputs": [
    {
     "name": "stdout",
     "output_type": "stream",
     "text": [
      "['Swiss Mountain Dog', 'St. Bernard', 'Labrador Retriever', 'Collie']\n"
     ]
    }
   ],
   "source": [
    "print(dogs)"
   ]
  },
  {
   "cell_type": "code",
   "execution_count": 7,
   "metadata": {},
   "outputs": [
    {
     "name": "stdout",
     "output_type": "stream",
     "text": [
      "St. Bernard\n"
     ]
    }
   ],
   "source": [
    "# I can acess nth individual dog.\n",
    "a_dog = dogs[1]\n",
    "print(a_dog)"
   ]
  },
  {
   "cell_type": "code",
   "execution_count": 8,
   "metadata": {},
   "outputs": [
    {
     "name": "stdout",
     "output_type": "stream",
     "text": [
      "Swiss Mountain Dog\n"
     ]
    }
   ],
   "source": [
    "print(dogs[0])"
   ]
  },
  {
   "cell_type": "code",
   "execution_count": 9,
   "metadata": {},
   "outputs": [
    {
     "name": "stdout",
     "output_type": "stream",
     "text": [
      "Swiss Mountain Dog\n",
      "St. Bernard\n",
      "Labrador Retriever\n",
      "Collie\n"
     ]
    },
    {
     "ename": "IndexError",
     "evalue": "list index out of range",
     "output_type": "error",
     "traceback": [
      "\u001b[1;31m---------------------------------------------------------------------------\u001b[0m",
      "\u001b[1;31mIndexError\u001b[0m                                Traceback (most recent call last)",
      "\u001b[1;32mc:\\Users\\Vulcan\\OneDrive - Madison College\\Fall 2023 Courses\\Python Programming Course\\Class - Week 4\\classweek4.ipynb Cell 9\u001b[0m line \u001b[0;36m5\n\u001b[0;32m      <a href='vscode-notebook-cell:/c%3A/Users/Vulcan/OneDrive%20-%20Madison%20College/Fall%202023%20Courses/Python%20Programming%20Course/Class%20-%20Week%204/classweek4.ipynb#X11sZmlsZQ%3D%3D?line=2'>3</a>\u001b[0m \u001b[39mprint\u001b[39m(dogs[\u001b[39m2\u001b[39m])\n\u001b[0;32m      <a href='vscode-notebook-cell:/c%3A/Users/Vulcan/OneDrive%20-%20Madison%20College/Fall%202023%20Courses/Python%20Programming%20Course/Class%20-%20Week%204/classweek4.ipynb#X11sZmlsZQ%3D%3D?line=3'>4</a>\u001b[0m \u001b[39mprint\u001b[39m(dogs[\u001b[39m3\u001b[39m])\n\u001b[1;32m----> <a href='vscode-notebook-cell:/c%3A/Users/Vulcan/OneDrive%20-%20Madison%20College/Fall%202023%20Courses/Python%20Programming%20Course/Class%20-%20Week%204/classweek4.ipynb#X11sZmlsZQ%3D%3D?line=4'>5</a>\u001b[0m \u001b[39mprint\u001b[39m(dogs[\u001b[39m4\u001b[39;49m])\n",
      "\u001b[1;31mIndexError\u001b[0m: list index out of range"
     ]
    }
   ],
   "source": [
    "print(dogs[0])\n",
    "print(dogs[1])\n",
    "print(dogs[2])\n",
    "print(dogs[3])\n",
    "print(dogs[4]) # An error is produced here because there is no 4th dog in the list. (or 5th if you are counting normal numbers)"
   ]
  },
  {
   "cell_type": "code",
   "execution_count": 10,
   "metadata": {},
   "outputs": [
    {
     "name": "stdout",
     "output_type": "stream",
     "text": [
      "4\n"
     ]
    }
   ],
   "source": [
    "print(len(dogs))"
   ]
  },
  {
   "cell_type": "code",
   "execution_count": 11,
   "metadata": {},
   "outputs": [
    {
     "name": "stdout",
     "output_type": "stream",
     "text": [
      "ST. BERNARD\n"
     ]
    }
   ],
   "source": [
    "print(a_dog.upper())"
   ]
  },
  {
   "cell_type": "code",
   "execution_count": 12,
   "metadata": {},
   "outputs": [
    {
     "name": "stdout",
     "output_type": "stream",
     "text": [
      "ST. BERNARD\n",
      "Collie\n"
     ]
    }
   ],
   "source": [
    "an_upper_dog = a_dog.upper()\n",
    "print(an_upper_dog)\n",
    "\n",
    "print(dogs[3])"
   ]
  },
  {
   "cell_type": "code",
   "execution_count": 13,
   "metadata": {},
   "outputs": [
    {
     "name": "stdout",
     "output_type": "stream",
     "text": [
      "COLLIE\n"
     ]
    }
   ],
   "source": [
    "print(dogs[3].upper())"
   ]
  },
  {
   "cell_type": "code",
   "execution_count": null,
   "metadata": {},
   "outputs": [],
   "source": []
  }
 ],
 "metadata": {
  "kernelspec": {
   "display_name": "Python 3",
   "language": "python",
   "name": "python3"
  },
  "language_info": {
   "codemirror_mode": {
    "name": "ipython",
    "version": 3
   },
   "file_extension": ".py",
   "mimetype": "text/x-python",
   "name": "python",
   "nbconvert_exporter": "python",
   "pygments_lexer": "ipython3",
   "version": "3.11.5"
  },
  "orig_nbformat": 4
 },
 "nbformat": 4,
 "nbformat_minor": 2
}
